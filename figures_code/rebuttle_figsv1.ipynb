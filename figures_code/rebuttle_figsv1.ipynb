{
 "cells": [
  {
   "cell_type": "code",
   "execution_count": null,
   "id": "1007a8bb-6003-40a8-9ee2-73419d71fa81",
   "metadata": {},
   "outputs": [],
   "source": []
  },
  {
   "cell_type": "markdown",
   "id": "865a7747-4612-4e98-a4e5-08e67ba4a1db",
   "metadata": {},
   "source": [
    "# Notes\n"
   ]
  },
  {
   "cell_type": "markdown",
   "id": "8903b3a5-30e6-4cc9-83e9-1f86e6fd8b2a",
   "metadata": {},
   "source": [
    "This is the first attempt at making new figures for the rebuttle\n"
   ]
  },
  {
   "cell_type": "code",
   "execution_count": null,
   "id": "b559f3f3-6bd4-4b26-b892-59ebb6f3a1e0",
   "metadata": {},
   "outputs": [],
   "source": []
  },
  {
   "cell_type": "code",
   "execution_count": null,
   "id": "bcd6e8c9-117b-47c3-8776-46a4a0fb5750",
   "metadata": {},
   "outputs": [],
   "source": []
  },
  {
   "cell_type": "markdown",
   "id": "dd72b960-451b-47fc-9290-0010a0294353",
   "metadata": {},
   "source": [
    "# Imports"
   ]
  },
  {
   "cell_type": "code",
   "execution_count": 2,
   "id": "2a1fdf9e-5d87-44a5-a47d-b5a759dcc447",
   "metadata": {},
   "outputs": [
    {
     "name": "stdout",
     "output_type": "stream",
     "text": [
      "The autoreload extension is already loaded. To reload it, use:\n",
      "  %reload_ext autoreload\n"
     ]
    }
   ],
   "source": [
    "import numpy as np\n",
    "import h5py\n",
    "import time\n",
    "import glob\n",
    "import matplotlib.pyplot as plt\n",
    "%load_ext autoreload\n",
    "import os\n",
    "%autoreload 2\n",
    "import sys\n",
    "%matplotlib widget\n",
    "from ipywidgets import interact, interactive, fixed, interact_manual, FloatSlider, Layout, AppLayout\n",
    "from ipywidgets import Video, Image, VBox, Text\n",
    "import ipywidgets as widgets\n",
    "from sidecar import Sidecar\n",
    "\n",
    "\n",
    "# --- import functions for computing kinematic variables --- #\n",
    "sys.path.append('../tracking_code/lib/')\n",
    "sys.path.append('./lib/')\n",
    "\n",
    "from coordinate_transformations import CoordTransformer_14D_PP\n",
    "from correlation_functions import cross_correlation, angular_cross_correlation\n",
    "\n",
    "from coordinate_transformations import compute_14D_rep_from_trajectories\n",
    "from coordinate_transformations import project_14D_rep_onto_modes\n",
    "\n",
    "# # adding the infomap libs\n",
    "# from infomap_utils import make_dictionary_of_state_numberings, find_binIdxs_for_timeseries\n",
    "# from infomap_utils import build_transition_matrix, apply_infomap_clustering_to_transition_matrix\n",
    "# from infomap_utils import make_binTuple_to_clusterIdx_dict\n",
    "# from post_processing import contiguous_regions\n",
    "# from post_processing import process_1D_timeseries\n",
    "\n"
   ]
  },
  {
   "cell_type": "code",
   "execution_count": null,
   "id": "3830d822-f425-42be-a741-21956d29ebcb",
   "metadata": {},
   "outputs": [],
   "source": []
  },
  {
   "cell_type": "markdown",
   "id": "7fdc1404-24e0-430c-9145-87ee3a9e8b64",
   "metadata": {},
   "source": [
    "# Load the main data"
   ]
  },
  {
   "cell_type": "code",
   "execution_count": null,
   "id": "99c2b6ee-d9b4-4f04-a8e1-05e4ca5b6e37",
   "metadata": {},
   "outputs": [],
   "source": []
  },
  {
   "cell_type": "code",
   "execution_count": 5,
   "id": "f1b4bb99-f694-4f10-9a0c-c82765fe8ebf",
   "metadata": {},
   "outputs": [],
   "source": [
    "#main_load_folder = '/media/liam/hd1/fighting_data/tracking_results/'\n",
    "main_load_folder = '/media/liam/guest_drive/fighting_data/tracking_results/'\n",
    "\n",
    "# ----------------------#\n",
    "\n",
    "interp_polyOrd=1  # the order of the polynomial used for interpolation\n",
    "interp_limit=5    # the maximum number of frames to interpolate over\n",
    "savgol_win=9      # the number of frames for the Savitzky-Golay filter\n",
    "savgol_ord=2      # the polynomial order for the Savitzky-Golay filter\n",
    "dt=0.01           # the frame rate of the recording\n",
    "\n",
    "\n",
    "# the filepaths for loading the infomap timeseries data we need\n",
    "infomap_data_loadpath = os.path.join( os.path.dirname(os.path.dirname(main_load_folder)) , \n",
    "                                      'infomap_data/transmat_and_infomap.h5')\n",
    "\n",
    "# the path for loading the fightbout info\n",
    "fightBouts_info_path = os.path.join(main_load_folder, 'fightBouts.h5')\n",
    "\n",
    "\n",
    "# -----------------------#\n",
    "\n",
    "loadpaths = glob.glob(os.path.join(main_load_folder, '*results.h5'))\n",
    "loadpaths.sort()\n",
    "\n",
    "# parse the exp names\n",
    "expNames = [path.split('/')[-1][:23] for path in loadpaths]\n",
    "\n",
    "\n",
    "raw_trajectories = []\n",
    "for path in loadpaths:\n",
    "    with h5py.File(path, 'r') as hf:\n",
    "        tracks_3D_raw = hf['tracks_3D_raw'][:]\n",
    "    raw_trajectories.append(tracks_3D_raw)\n",
    "\n",
    "smooth_trajectories = []\n",
    "for path in loadpaths:\n",
    "    with h5py.File(path, 'r') as hf:\n",
    "        tracks_3D_smooth = hf['tracks_3D_smooth'][:]\n",
    "    smooth_trajectories.append(tracks_3D_smooth)\n",
    "    \n",
    "    \n",
    "# create a list of the number of frames in each experiment\n",
    "expNumFrames = []\n",
    "for expIdx in range(len(expNames)):\n",
    "    nfs = smooth_trajectories[expIdx].shape[0]\n",
    "    expNumFrames.append(nfs)\n",
    "    \n",
    "# -----------------------------#\n",
    "# load other useful information\n",
    "    \n",
    "other_info_loadpath = os.path.join(main_load_folder, 'winners_losers_inconclusive.h5')\n",
    "with h5py.File(other_info_loadpath, 'r') as hf:\n",
    "    winner_idxs = hf['winner_idxs'][:]\n",
    "    loser_idxs = hf['loser_idxs'][:]\n",
    "    conclusive_winner_loser = hf['conclusive_winner_loser'][:]\n",
    "    already_established_dominance = hf['already_established_dominance'][:]\n",
    "\n",
    "\n",
    "with h5py.File(fightBouts_info_path, 'r') as hf:\n",
    "    fight_bout_info = hf['fight_bout_info'][:]\n",
    "    fight_bout_info_noDurThresh = hf['fight_bout_info_noDurThresh'][:]\n"
   ]
  },
  {
   "cell_type": "code",
   "execution_count": null,
   "id": "3d3c3257-8eba-4360-b227-5a13228da438",
   "metadata": {},
   "outputs": [],
   "source": []
  },
  {
   "cell_type": "code",
   "execution_count": null,
   "id": "00af3524-9728-44ca-8dba-3e0612ba9e9e",
   "metadata": {},
   "outputs": [],
   "source": []
  },
  {
   "cell_type": "code",
   "execution_count": null,
   "id": "eedcfa5a-4c1a-480a-8242-64865fcf92d5",
   "metadata": {},
   "outputs": [],
   "source": []
  },
  {
   "cell_type": "markdown",
   "id": "188188d0-2ceb-45a3-b49c-047b92643838",
   "metadata": {},
   "source": [
    "# Compute the 14D timeseries data"
   ]
  },
  {
   "cell_type": "code",
   "execution_count": 6,
   "id": "3242c9da-6fcb-42d9-8f49-5726dc82c1dc",
   "metadata": {},
   "outputs": [
    {
     "data": {
      "text/plain": [
       "'/media/liam/guest_drive/fighting_data/PCA_data/main.h5'"
      ]
     },
     "execution_count": 6,
     "metadata": {},
     "output_type": "execute_result"
    }
   ],
   "source": [
    "pca_savepath = os.path.join( os.path.dirname(os.path.dirname(main_load_folder)) , \n",
    "                                      'PCA_data/main.h5')\n",
    "pca_savepath"
   ]
  },
  {
   "cell_type": "code",
   "execution_count": null,
   "id": "4555b71d-3449-4a68-964e-c39a4bbfa50e",
   "metadata": {},
   "outputs": [],
   "source": []
  },
  {
   "cell_type": "code",
   "execution_count": 7,
   "id": "1b240105-c58f-4a53-ac0e-0ce28ef63387",
   "metadata": {},
   "outputs": [
    {
     "data": {
      "text/plain": [
       "array([ 0,  1,  2,  3,  5,  6,  7,  8, 10, 11, 12, 13, 14, 15, 17, 18, 19,\n",
       "       20])"
      ]
     },
     "execution_count": 7,
     "metadata": {},
     "output_type": "execute_result"
    }
   ],
   "source": [
    "# ---- create a master trajectory to use -----#\n",
    "#\n",
    "# We could use all exps, but this is slow, and the result doesnt change.\n",
    "exp_idxs_to_use = np.unique(fight_bout_info_noDurThresh[:,0])[:]\n",
    "exp_idxs_to_use"
   ]
  },
  {
   "cell_type": "code",
   "execution_count": null,
   "id": "c0fb4f9b-74ed-4bc3-9f92-6c7572fc1420",
   "metadata": {},
   "outputs": [],
   "source": []
  },
  {
   "cell_type": "code",
   "execution_count": 8,
   "id": "43844c18-f86f-47d6-a2bb-e60fa8095b7f",
   "metadata": {},
   "outputs": [],
   "source": [
    "combined_trajectories = []\n",
    "\n",
    "for expIdx in exp_idxs_to_use:\n",
    "    \n",
    "    smooth_traj = np.copy(smooth_trajectories[expIdx])\n",
    "    \n",
    "    # make sure winner is first\n",
    "    winnerIdx = winner_idxs[expIdx]\n",
    "    if winnerIdx != 0:\n",
    "        smooth_traj = smooth_traj[:, ::-1]\n",
    "    combined_trajectories.append(smooth_traj)\n",
    "    \n",
    "combined_trajectories = np.concatenate(combined_trajectories)\n",
    "\n",
    "numFrames_combined, numFish, numBodyPoints, _ = combined_trajectories.shape\n",
    "\n",
    "\n",
    "# finally we set winnerIdx=0, since we enforced this\n",
    "winnerIdx=0"
   ]
  },
  {
   "cell_type": "code",
   "execution_count": null,
   "id": "0921b854-7570-46da-bf79-075fbbb28fd7",
   "metadata": {},
   "outputs": [],
   "source": []
  },
  {
   "cell_type": "code",
   "execution_count": null,
   "id": "177e6cde-136d-4a8d-9a5b-24c20618493f",
   "metadata": {},
   "outputs": [],
   "source": []
  },
  {
   "cell_type": "markdown",
   "id": "e7d0f554-78d5-4cb9-89a7-a5fde810b193",
   "metadata": {},
   "source": [
    "## save"
   ]
  },
  {
   "cell_type": "code",
   "execution_count": null,
   "id": "6485549f-eb2b-47bb-8378-16b1aee3188d",
   "metadata": {},
   "outputs": [],
   "source": []
  },
  {
   "cell_type": "code",
   "execution_count": 7,
   "id": "44b2efb0-bae3-4cfa-b815-b85b59abea5e",
   "metadata": {},
   "outputs": [
    {
     "name": "stdout",
     "output_type": "stream",
     "text": [
      "1802.342042954173  s\n"
     ]
    }
   ],
   "source": [
    "# ------ compute and save the PCA ---- #\n",
    "t0 = time.perf_counter()\n",
    "\n",
    "# Compute and save\n",
    "coord_handler = CoordTransformer_14D_PP(combined_trajectories, winnerIdx)\n",
    "with h5py.File(pca_savepath, 'w') as hf:\n",
    "    hf.create_dataset('trajectories', data=coord_handler.trajectories)\n",
    "    hf.create_dataset('rep_14D_tseries', data=coord_handler.rep_14D_tseries)\n",
    "    hf.create_dataset('mean_14D_rep', data=coord_handler.mean_rep)\n",
    "    hf.create_dataset('covmat', data=coord_handler.covmat)\n",
    "    hf.create_dataset('eigvals', data=coord_handler.eigvals)\n",
    "    hf.create_dataset('eigvecs', data=coord_handler.eigvecs)\n",
    "    hf.create_dataset('pca_tseries', data=coord_handler.pca_tseries)\n",
    "    hf.create_dataset('cum_var_explained', data=coord_handler.cum_var_explained)\n",
    "    hf.create_dataset('winnerIdx', data=coord_handler.winnerIdx)\n",
    "\n",
    "\n",
    "tE = time.perf_counter()\n",
    "print(tE-t0, ' s')"
   ]
  },
  {
   "cell_type": "code",
   "execution_count": null,
   "id": "93daaabb-3910-4e4b-9d21-653688b0cd73",
   "metadata": {},
   "outputs": [],
   "source": []
  },
  {
   "cell_type": "code",
   "execution_count": null,
   "id": "a6cd5e71-4bda-438a-a832-3023e1ef3fdd",
   "metadata": {},
   "outputs": [],
   "source": []
  },
  {
   "cell_type": "markdown",
   "id": "bee0ce3e-c145-43ff-86b3-ffa6471f07ae",
   "metadata": {},
   "source": [
    "## load"
   ]
  },
  {
   "cell_type": "code",
   "execution_count": null,
   "id": "2b264217-e8c4-41cd-9ea8-91ad352687a5",
   "metadata": {},
   "outputs": [],
   "source": []
  },
  {
   "cell_type": "code",
   "execution_count": 9,
   "id": "9a33eca7-d45b-4ad3-8271-1781ab3f5b79",
   "metadata": {},
   "outputs": [],
   "source": [
    "# Load\n",
    "with h5py.File(pca_savepath, 'r') as hf:\n",
    "    \n",
    "    trajectories = hf['trajectories'][:]\n",
    "    rep_14D_tseries = hf['rep_14D_tseries'][:]\n",
    "    mean_14D_rep = hf['mean_14D_rep'][:]\n",
    "    covmat = hf['covmat'][:]\n",
    "    eigvals = hf['eigvals'][:]\n",
    "    eigvecs = hf['eigvecs'][:]\n",
    "    pca_tseries = hf['pca_tseries'][:]\n",
    "    cum_var_explained = hf['cum_var_explained'][:]\n",
    "    winnerIdx = hf['winnerIdx'][()]\n",
    "\n",
    "coord_handler = CoordTransformer_14D_PP(trajectories, winnerIdx,\n",
    "                             rep_14D_tseries=rep_14D_tseries)\n"
   ]
  },
  {
   "cell_type": "code",
   "execution_count": null,
   "id": "8c95260c-fa3f-4482-87c7-f62bfcc581da",
   "metadata": {},
   "outputs": [],
   "source": []
  },
  {
   "cell_type": "code",
   "execution_count": null,
   "id": "bae85340-0db4-4f9f-9d47-8f7fdc6bd7f7",
   "metadata": {},
   "outputs": [],
   "source": []
  },
  {
   "cell_type": "code",
   "execution_count": null,
   "id": "b77933d1-2151-4455-a495-5f1faa0a7894",
   "metadata": {},
   "outputs": [],
   "source": []
  },
  {
   "cell_type": "markdown",
   "id": "708533da-1a81-4a05-abe7-1183bde040b3",
   "metadata": {},
   "source": [
    "# ------------------------------------------------------"
   ]
  },
  {
   "cell_type": "code",
   "execution_count": null,
   "id": "9071dbfe-44b8-4a6a-a7d7-fcff438e1661",
   "metadata": {},
   "outputs": [],
   "source": []
  },
  {
   "cell_type": "code",
   "execution_count": null,
   "id": "dc727628-edf1-401f-be15-646e443a11b1",
   "metadata": {},
   "outputs": [],
   "source": []
  },
  {
   "cell_type": "markdown",
   "id": "4ceb88f3-4ed3-4c3f-a770-0f23b6626e0e",
   "metadata": {},
   "source": [
    "# Compute kin vars for all experiments"
   ]
  },
  {
   "cell_type": "code",
   "execution_count": null,
   "id": "6b6f4eaa-a614-4af0-96aa-c00296df0bd8",
   "metadata": {},
   "outputs": [],
   "source": []
  },
  {
   "cell_type": "code",
   "execution_count": 15,
   "id": "60a6041c-e243-4c16-895b-ad26a657c651",
   "metadata": {},
   "outputs": [],
   "source": [
    "from kinematics import compute_pec_pec_distance, compute_thetaW_and_thetaL\n",
    "from kinematics import compute_signed_pec_z_difference, compute_phi_dot_from_raw_trajectories, compute_coordinate_origin_z\n",
    "from kinematics import compute_pec_pec_distance_dot, compute_coordinate_origin_z_dot\n",
    "\n",
    "from kinematics import compute_pec_pec_distance_dot"
   ]
  },
  {
   "cell_type": "code",
   "execution_count": null,
   "id": "ed10f337-48ad-4a37-a5fa-1edd1a876caf",
   "metadata": {},
   "outputs": [],
   "source": []
  },
  {
   "cell_type": "code",
   "execution_count": 11,
   "id": "00ae7cd9-2e2c-4f04-a46e-262bdcdae2af",
   "metadata": {},
   "outputs": [],
   "source": [
    "interp_polyOrd=1  # the order of the polynomial used for interpolation\n",
    "interp_limit=5    # the maximum number of frames to interpolate over\n",
    "savgol_win=9      # the number of frames for the Savitzky-Golay filter\n",
    "savgol_ord=2      # the polynomial order for the Savitzky-Golay filter\n",
    "dt=0.01           # the frame rate of the recording"
   ]
  },
  {
   "cell_type": "code",
   "execution_count": null,
   "id": "182a8883-f908-4118-8dc4-cae026c08faa",
   "metadata": {},
   "outputs": [],
   "source": []
  },
  {
   "cell_type": "code",
   "execution_count": 12,
   "id": "04d3416c-8017-496e-937c-cf53cbee5084",
   "metadata": {},
   "outputs": [
    {
     "name": "stdout",
     "output_type": "stream",
     "text": [
      "FishTank20200127_143538\n"
     ]
    },
    {
     "name": "stderr",
     "output_type": "stream",
     "text": [
      "/home/liam/code/Dynamics_of_dominance/figures_code/../tracking_code/lib/kinematics.py:218: RuntimeWarning: invalid value encountered in true_divide\n",
      "  winnerPec_to_loserPec = winnerPec_to_loserPec / row_norms[:, np.newaxis]\n"
     ]
    },
    {
     "name": "stdout",
     "output_type": "stream",
     "text": [
      "FishTank20200129_140656\n"
     ]
    },
    {
     "name": "stderr",
     "output_type": "stream",
     "text": [
      "/home/liam/code/Dynamics_of_dominance/figures_code/../tracking_code/lib/kinematics.py:218: RuntimeWarning: invalid value encountered in true_divide\n",
      "  winnerPec_to_loserPec = winnerPec_to_loserPec / row_norms[:, np.newaxis]\n"
     ]
    },
    {
     "name": "stdout",
     "output_type": "stream",
     "text": [
      "FishTank20200130_153857\n"
     ]
    },
    {
     "name": "stderr",
     "output_type": "stream",
     "text": [
      "/home/liam/code/Dynamics_of_dominance/figures_code/../tracking_code/lib/kinematics.py:218: RuntimeWarning: invalid value encountered in true_divide\n",
      "  winnerPec_to_loserPec = winnerPec_to_loserPec / row_norms[:, np.newaxis]\n"
     ]
    },
    {
     "name": "stdout",
     "output_type": "stream",
     "text": [
      "FishTank20200130_181614\n"
     ]
    },
    {
     "name": "stderr",
     "output_type": "stream",
     "text": [
      "/home/liam/code/Dynamics_of_dominance/figures_code/../tracking_code/lib/kinematics.py:218: RuntimeWarning: invalid value encountered in true_divide\n",
      "  winnerPec_to_loserPec = winnerPec_to_loserPec / row_norms[:, np.newaxis]\n"
     ]
    },
    {
     "name": "stdout",
     "output_type": "stream",
     "text": [
      "FishTank20200207_161445\n"
     ]
    },
    {
     "name": "stderr",
     "output_type": "stream",
     "text": [
      "/home/liam/code/Dynamics_of_dominance/figures_code/../tracking_code/lib/kinematics.py:218: RuntimeWarning: invalid value encountered in true_divide\n",
      "  winnerPec_to_loserPec = winnerPec_to_loserPec / row_norms[:, np.newaxis]\n"
     ]
    },
    {
     "name": "stdout",
     "output_type": "stream",
     "text": [
      "FishTank20200213_154940\n"
     ]
    },
    {
     "name": "stderr",
     "output_type": "stream",
     "text": [
      "/home/liam/code/Dynamics_of_dominance/figures_code/../tracking_code/lib/kinematics.py:218: RuntimeWarning: invalid value encountered in true_divide\n",
      "  winnerPec_to_loserPec = winnerPec_to_loserPec / row_norms[:, np.newaxis]\n"
     ]
    },
    {
     "name": "stdout",
     "output_type": "stream",
     "text": [
      "FishTank20200214_153519\n"
     ]
    },
    {
     "name": "stderr",
     "output_type": "stream",
     "text": [
      "/home/liam/code/Dynamics_of_dominance/figures_code/../tracking_code/lib/kinematics.py:218: RuntimeWarning: invalid value encountered in true_divide\n",
      "  winnerPec_to_loserPec = winnerPec_to_loserPec / row_norms[:, np.newaxis]\n"
     ]
    },
    {
     "name": "stdout",
     "output_type": "stream",
     "text": [
      "FishTank20200217_160052\n"
     ]
    },
    {
     "name": "stderr",
     "output_type": "stream",
     "text": [
      "/home/liam/code/Dynamics_of_dominance/figures_code/../tracking_code/lib/kinematics.py:218: RuntimeWarning: invalid value encountered in true_divide\n",
      "  winnerPec_to_loserPec = winnerPec_to_loserPec / row_norms[:, np.newaxis]\n"
     ]
    },
    {
     "name": "stdout",
     "output_type": "stream",
     "text": [
      "FishTank20200218_153008\n"
     ]
    },
    {
     "name": "stderr",
     "output_type": "stream",
     "text": [
      "/home/liam/code/Dynamics_of_dominance/figures_code/../tracking_code/lib/kinematics.py:218: RuntimeWarning: invalid value encountered in true_divide\n",
      "  winnerPec_to_loserPec = winnerPec_to_loserPec / row_norms[:, np.newaxis]\n"
     ]
    },
    {
     "name": "stdout",
     "output_type": "stream",
     "text": [
      "FishTank20200316_163320\n"
     ]
    },
    {
     "name": "stderr",
     "output_type": "stream",
     "text": [
      "/home/liam/code/Dynamics_of_dominance/figures_code/../tracking_code/lib/kinematics.py:218: RuntimeWarning: invalid value encountered in true_divide\n",
      "  winnerPec_to_loserPec = winnerPec_to_loserPec / row_norms[:, np.newaxis]\n"
     ]
    },
    {
     "name": "stdout",
     "output_type": "stream",
     "text": [
      "FishTank20200327_154737\n"
     ]
    },
    {
     "name": "stderr",
     "output_type": "stream",
     "text": [
      "/home/liam/code/Dynamics_of_dominance/figures_code/../tracking_code/lib/kinematics.py:218: RuntimeWarning: invalid value encountered in true_divide\n",
      "  winnerPec_to_loserPec = winnerPec_to_loserPec / row_norms[:, np.newaxis]\n"
     ]
    },
    {
     "name": "stdout",
     "output_type": "stream",
     "text": [
      "FishTank20200330_161100\n"
     ]
    },
    {
     "name": "stderr",
     "output_type": "stream",
     "text": [
      "/home/liam/code/Dynamics_of_dominance/figures_code/../tracking_code/lib/kinematics.py:218: RuntimeWarning: invalid value encountered in true_divide\n",
      "  winnerPec_to_loserPec = winnerPec_to_loserPec / row_norms[:, np.newaxis]\n"
     ]
    },
    {
     "name": "stdout",
     "output_type": "stream",
     "text": [
      "FishTank20200331_162136\n"
     ]
    },
    {
     "name": "stderr",
     "output_type": "stream",
     "text": [
      "/home/liam/code/Dynamics_of_dominance/figures_code/../tracking_code/lib/kinematics.py:218: RuntimeWarning: invalid value encountered in true_divide\n",
      "  winnerPec_to_loserPec = winnerPec_to_loserPec / row_norms[:, np.newaxis]\n"
     ]
    },
    {
     "name": "stdout",
     "output_type": "stream",
     "text": [
      "FishTank20200520_152810\n"
     ]
    },
    {
     "name": "stderr",
     "output_type": "stream",
     "text": [
      "/home/liam/code/Dynamics_of_dominance/figures_code/../tracking_code/lib/kinematics.py:218: RuntimeWarning: invalid value encountered in true_divide\n",
      "  winnerPec_to_loserPec = winnerPec_to_loserPec / row_norms[:, np.newaxis]\n"
     ]
    },
    {
     "name": "stdout",
     "output_type": "stream",
     "text": [
      "FishTank20200521_154541\n"
     ]
    },
    {
     "name": "stderr",
     "output_type": "stream",
     "text": [
      "/home/liam/code/Dynamics_of_dominance/figures_code/../tracking_code/lib/kinematics.py:218: RuntimeWarning: invalid value encountered in true_divide\n",
      "  winnerPec_to_loserPec = winnerPec_to_loserPec / row_norms[:, np.newaxis]\n"
     ]
    },
    {
     "name": "stdout",
     "output_type": "stream",
     "text": [
      "FishTank20200525_161602\n"
     ]
    },
    {
     "name": "stderr",
     "output_type": "stream",
     "text": [
      "/home/liam/code/Dynamics_of_dominance/figures_code/../tracking_code/lib/kinematics.py:218: RuntimeWarning: invalid value encountered in true_divide\n",
      "  winnerPec_to_loserPec = winnerPec_to_loserPec / row_norms[:, np.newaxis]\n"
     ]
    },
    {
     "name": "stdout",
     "output_type": "stream",
     "text": [
      "FishTank20200526_160100\n"
     ]
    },
    {
     "name": "stderr",
     "output_type": "stream",
     "text": [
      "/home/liam/code/Dynamics_of_dominance/figures_code/../tracking_code/lib/kinematics.py:24: RuntimeWarning: invalid value encountered in true_divide\n",
      "  vec_ts = vec_ts / row_norms[:, np.newaxis]\n",
      "/home/liam/code/Dynamics_of_dominance/figures_code/../tracking_code/lib/kinematics.py:218: RuntimeWarning: invalid value encountered in true_divide\n",
      "  winnerPec_to_loserPec = winnerPec_to_loserPec / row_norms[:, np.newaxis]\n"
     ]
    },
    {
     "name": "stdout",
     "output_type": "stream",
     "text": [
      "FishTank20200527_152401\n",
      "FishTank20200824_151740\n"
     ]
    },
    {
     "name": "stderr",
     "output_type": "stream",
     "text": [
      "/home/liam/code/Dynamics_of_dominance/figures_code/../tracking_code/lib/kinematics.py:218: RuntimeWarning: invalid value encountered in true_divide\n",
      "  winnerPec_to_loserPec = winnerPec_to_loserPec / row_norms[:, np.newaxis]\n"
     ]
    },
    {
     "name": "stdout",
     "output_type": "stream",
     "text": [
      "FishTank20200828_155504\n"
     ]
    },
    {
     "name": "stderr",
     "output_type": "stream",
     "text": [
      "/home/liam/code/Dynamics_of_dominance/figures_code/../tracking_code/lib/kinematics.py:218: RuntimeWarning: invalid value encountered in true_divide\n",
      "  winnerPec_to_loserPec = winnerPec_to_loserPec / row_norms[:, np.newaxis]\n"
     ]
    },
    {
     "name": "stdout",
     "output_type": "stream",
     "text": [
      "FishTank20200902_160124\n"
     ]
    },
    {
     "name": "stderr",
     "output_type": "stream",
     "text": [
      "/home/liam/code/Dynamics_of_dominance/figures_code/../tracking_code/lib/kinematics.py:218: RuntimeWarning: invalid value encountered in true_divide\n",
      "  winnerPec_to_loserPec = winnerPec_to_loserPec / row_norms[:, np.newaxis]\n"
     ]
    },
    {
     "name": "stdout",
     "output_type": "stream",
     "text": [
      "FishTank20200903_160946\n"
     ]
    },
    {
     "name": "stderr",
     "output_type": "stream",
     "text": [
      "/home/liam/code/Dynamics_of_dominance/figures_code/../tracking_code/lib/kinematics.py:218: RuntimeWarning: invalid value encountered in true_divide\n",
      "  winnerPec_to_loserPec = winnerPec_to_loserPec / row_norms[:, np.newaxis]\n"
     ]
    },
    {
     "name": "stdout",
     "output_type": "stream",
     "text": [
      "\n",
      "finished: 19.697480445727706 s\n"
     ]
    }
   ],
   "source": [
    "t0 = time.perf_counter()\n",
    "\n",
    "exp_dpps = []\n",
    "exp_tetWs = []\n",
    "exp_tetLs = []\n",
    "\n",
    "exp_phi_dots = []\n",
    "exp_dpp_dots = []\n",
    "exp_pec_z_differences = []\n",
    "exp_Oz_dots = []\n",
    "\n",
    "\n",
    "for ii, expName in enumerate(expNames):\n",
    "    print(expName)\n",
    "    \n",
    "    smooth_traj = smooth_trajectories[ii]\n",
    "    raw_traj = raw_trajectories[ii]\n",
    "    winIdx = winner_idxs[ii]\n",
    "    losIdx = loser_idxs[ii]\n",
    "    \n",
    "    dpp_ts = compute_pec_pec_distance(smooth_traj)\n",
    "    tetW_ts, tetL_ts = compute_thetaW_and_thetaL(smooth_traj, winIdx, losIdx)\n",
    "    \n",
    "    exp_dpps.append(dpp_ts)\n",
    "    exp_tetWs.append(tetW_ts)\n",
    "    exp_tetLs.append(tetL_ts)\n",
    "    \n",
    "    \n",
    "    phi_dot = compute_phi_dot_from_raw_trajectories(raw_traj, winIdx, losIdx, dt=dt,\n",
    "                                                    interp_max_gap=interp_limit, interp_polyOrd=interp_polyOrd,\n",
    "                                                    smooth_polyOrd=savgol_ord, smooth_winSize=savgol_win)\n",
    "    exp_phi_dots.append(phi_dot)\n",
    "    \n",
    "    \n",
    "    signed_pec_z_difference = compute_signed_pec_z_difference(smooth_traj, winIdx, losIdx)\n",
    "    exp_pec_z_differences.append(signed_pec_z_difference)\n",
    "    \n",
    "    dpp_dot = compute_pec_pec_distance_dot(raw_traj,  dt=dt,\n",
    "                                            interp_max_gap=interp_limit, interp_polyOrd=interp_polyOrd,\n",
    "                                            smooth_polyOrd=savgol_ord, smooth_winSize=savgol_win)\n",
    "    exp_dpp_dots.append(dpp_dot)\n",
    "    \n",
    "    \n",
    "    Oz_dot = compute_coordinate_origin_z_dot(raw_traj, winIdx, losIdx, dt=dt,\n",
    "                                             interp_max_gap=interp_limit, interp_polyOrd=interp_polyOrd, \n",
    "                                             smooth_polyOrd=savgol_ord, smooth_winSize=savgol_win)\n",
    "    exp_Oz_dots.append(Oz_dot)\n",
    "    \n",
    "    \n",
    "tE = time.perf_counter()\n",
    "print()\n",
    "print('finished: {0} s'.format(tE-t0))"
   ]
  },
  {
   "cell_type": "code",
   "execution_count": null,
   "id": "26694920-e6bc-49c7-a610-d8db167ba01a",
   "metadata": {},
   "outputs": [],
   "source": []
  },
  {
   "cell_type": "code",
   "execution_count": 14,
   "id": "19eb161e-a89a-42b0-b458-2df19f590ff0",
   "metadata": {},
   "outputs": [],
   "source": [
    "# --- Master sets of plotting --- #\n",
    "dpp_dot_master = np.concatenate(exp_dpp_dots)\n",
    "phi_dot_master = np.concatenate(exp_phi_dots)\n",
    "pec_z_difference_master = np.concatenate(exp_pec_z_differences)\n",
    "Oz_dots_master = np.concatenate(exp_Oz_dots)\n",
    "\n",
    "dpp_master = np.concatenate(exp_dpps)\n",
    "tetW_master = np.concatenate(exp_tetWs)\n",
    "tetL_master = np.concatenate(exp_tetLs)\n",
    "\n",
    "\n"
   ]
  },
  {
   "cell_type": "code",
   "execution_count": null,
   "id": "f46e67ab-3f39-42b2-b60f-1bfdfd9274af",
   "metadata": {},
   "outputs": [],
   "source": []
  },
  {
   "cell_type": "code",
   "execution_count": 17,
   "id": "bfe9fedf-d446-44c9-bb3a-37e64192aefe",
   "metadata": {},
   "outputs": [
    {
     "data": {
      "text/plain": [
       "(16044324,)"
      ]
     },
     "execution_count": 17,
     "metadata": {},
     "output_type": "execute_result"
    }
   ],
   "source": [
    "dpp_dot_master.shape"
   ]
  },
  {
   "cell_type": "code",
   "execution_count": 18,
   "id": "b4e3dfe8-32d2-4f77-ac85-438f44d54656",
   "metadata": {},
   "outputs": [
    {
     "data": {
      "text/plain": [
       "22"
      ]
     },
     "execution_count": 18,
     "metadata": {},
     "output_type": "execute_result"
    }
   ],
   "source": [
    "len(exp_dpp_dots)"
   ]
  },
  {
   "cell_type": "code",
   "execution_count": 19,
   "id": "4b7484fb-11a5-4162-9a55-3fde8f0654a3",
   "metadata": {},
   "outputs": [
    {
     "data": {
      "text/plain": [
       "array([ 11.20805033,  14.44298943,  17.73987059, ..., -18.3980978 ,\n",
       "       -14.30321619,  -9.05503861])"
      ]
     },
     "execution_count": 19,
     "metadata": {},
     "output_type": "execute_result"
    }
   ],
   "source": [
    "exp_dpp_dots[0]"
   ]
  },
  {
   "cell_type": "code",
   "execution_count": null,
   "id": "94184b84-1651-493d-a2e2-e195af65dbb0",
   "metadata": {},
   "outputs": [],
   "source": []
  },
  {
   "cell_type": "code",
   "execution_count": null,
   "id": "512e57e0-f1f8-450e-8877-e19a7b2607db",
   "metadata": {},
   "outputs": [],
   "source": []
  },
  {
   "cell_type": "code",
   "execution_count": null,
   "id": "731d4067-2dea-4fc1-b071-0a802683ef4c",
   "metadata": {},
   "outputs": [],
   "source": []
  },
  {
   "cell_type": "markdown",
   "id": "f42d0491-68cf-4867-a6f6-2016d38d84f4",
   "metadata": {},
   "source": [
    "# compute the autocorrs for a single experiment, for 5s lags"
   ]
  },
  {
   "cell_type": "code",
   "execution_count": 21,
   "id": "4e1bb4a5-eb32-4657-9ed6-071e2c2aec5a",
   "metadata": {},
   "outputs": [
    {
     "data": {
      "text/plain": [
       "'FishTank20200331_162136'"
      ]
     },
     "execution_count": 21,
     "metadata": {},
     "output_type": "execute_result"
    }
   ],
   "source": [
    "expIdx = 12\n",
    "expNames[expIdx]"
   ]
  },
  {
   "cell_type": "code",
   "execution_count": null,
   "id": "72ba8f1e-251f-4012-b4df-957c409263db",
   "metadata": {},
   "outputs": [],
   "source": []
  },
  {
   "cell_type": "code",
   "execution_count": 22,
   "id": "d13e6295-dc58-4959-b67b-adf38d863987",
   "metadata": {},
   "outputs": [
    {
     "name": "stdout",
     "output_type": "stream",
     "text": [
      "98.72725958377123  s\n"
     ]
    }
   ],
   "source": [
    "t0 = time.perf_counter()  \n",
    "\n",
    "# make sure winner is first\n",
    "smooth_traj = np.copy(smooth_trajectories[expIdx])\n",
    "winnerIdx = winner_idxs[expIdx]\n",
    "\n",
    "# compute the 14D rep for the experiment\n",
    "exp_14D_rep = compute_14D_rep_from_trajectories(smooth_traj, winnerIdx)\n",
    "\n",
    "# create the mode timeseries\n",
    "exp_mode_ts = project_14D_rep_onto_modes(exp_14D_rep, coord_handler.eigvecs, numProjectionModes=14)\n",
    "\n",
    "\n",
    "tE = time.perf_counter()\n",
    "print(tE-t0, ' s')"
   ]
  },
  {
   "cell_type": "code",
   "execution_count": null,
   "id": "f79b1e00-34be-4198-aac4-da682d858fea",
   "metadata": {},
   "outputs": [],
   "source": []
  },
  {
   "cell_type": "code",
   "execution_count": 23,
   "id": "0d9d7550-b3b3-442e-b080-1d37dde3db79",
   "metadata": {},
   "outputs": [],
   "source": [
    "# get the dpp,tetW,tetL data\n",
    "dpp = exp_dpps[expIdx]\n",
    "tetW = exp_tetWs[expIdx]\n",
    "tetL = exp_tetLs[expIdx]\n",
    "dpp_dot = exp_dpp_dots[expIdx]"
   ]
  },
  {
   "cell_type": "code",
   "execution_count": null,
   "id": "d0a06d6d-4ed2-46b4-9fb4-b035a713f1c4",
   "metadata": {},
   "outputs": [],
   "source": []
  },
  {
   "cell_type": "code",
   "execution_count": 24,
   "id": "f82f7e1d-d7f3-4602-b24d-f933149068d3",
   "metadata": {},
   "outputs": [
    {
     "name": "stdout",
     "output_type": "stream",
     "text": [
      "0  done\n",
      "1  done\n",
      "2  done\n",
      "3  done\n",
      "4  done\n",
      "5  done\n",
      "6  done\n",
      "7  done\n",
      "8  done\n",
      "9  done\n",
      "10  done\n",
      "11  done\n",
      "12  done\n",
      "13  done\n",
      "dpp done\n",
      "tetW done\n",
      "tetL done\n",
      "dpp done\n",
      "2845.3384981304407\n"
     ]
    }
   ],
   "source": [
    "# ----- correlations ----- #\n",
    "t0 = time.perf_counter()\n",
    "\n",
    "\n",
    "maxLag=5000\n",
    "numSamples=50000\n",
    "min_numSamples_allowed=10000\n",
    "\n",
    "# ------- PCA modes ------ #\n",
    "pca_lag_results = []\n",
    "for pcIdx in range(exp_mode_ts.shape[1]):\n",
    "    ts = exp_mode_ts[:,pcIdx]\n",
    "    lag_sizes, lag_results = cross_correlation(ts, ts, maxLag=maxLag, numSamples=numSamples, min_numSamples_allowed=min_numSamples_allowed)\n",
    "    pca_lag_results.append(lag_results)\n",
    "    print(pcIdx, ' done')\n",
    "    \n",
    "\n",
    "# --- Kin vars ----- #\n",
    "dpp_lag_sizes, dpp_lag_results = cross_correlation(dpp, dpp, maxLag=maxLag, numSamples=numSamples, min_numSamples_allowed=min_numSamples_allowed)\n",
    "print('dpp done')\n",
    "\n",
    "tetW_lag_sizes, tetW_lag_results = angular_cross_correlation(tetW, tetW, maxLag=maxLag, numSamples=numSamples, min_numSamples_allowed=min_numSamples_allowed)\n",
    "print('tetW done')\n",
    "\n",
    "tetL_lag_sizes, tetL_lag_results = angular_cross_correlation(tetL, tetL, maxLag=maxLag, numSamples=numSamples, min_numSamples_allowed=min_numSamples_allowed)\n",
    "print('tetL done')\n",
    "\n",
    "dpp_dot_lag_sizes, dpp_dot_lag_results = cross_correlation(dpp_dot, dpp_dot, maxLag=maxLag, numSamples=numSamples, min_numSamples_allowed=min_numSamples_allowed)\n",
    "print('dpp done')\n",
    "    \n",
    "\n",
    "tE = time.perf_counter()\n",
    "print(tE-t0)\n"
   ]
  },
  {
   "cell_type": "code",
   "execution_count": 25,
   "id": "6421933f-9f98-4f38-bb98-3b73d4a7f2a9",
   "metadata": {},
   "outputs": [
    {
     "data": {
      "text/plain": [
       "45.36666666666667"
      ]
     },
     "execution_count": 25,
     "metadata": {},
     "output_type": "execute_result"
    }
   ],
   "source": [
    "2722/60"
   ]
  },
  {
   "cell_type": "code",
   "execution_count": null,
   "id": "1f7bd511-0b6d-48e3-8aac-3036f04b13cb",
   "metadata": {},
   "outputs": [],
   "source": []
  },
  {
   "cell_type": "code",
   "execution_count": null,
   "id": "92bc5eae-1226-49b7-b46e-6c19c28268ab",
   "metadata": {},
   "outputs": [],
   "source": []
  },
  {
   "cell_type": "markdown",
   "id": "56d5c707-2b30-4818-8998-6d04c82c2277",
   "metadata": {},
   "source": [
    "# Make rebuttle fig 1 - autocorrs with dpp_dot"
   ]
  },
  {
   "cell_type": "code",
   "execution_count": null,
   "id": "56bdbed4-0aea-4dad-9f89-859c35fd67af",
   "metadata": {},
   "outputs": [],
   "source": []
  },
  {
   "cell_type": "code",
   "execution_count": 27,
   "id": "acf7025c-961f-45c6-b6cd-1aa1ff9e34a1",
   "metadata": {},
   "outputs": [],
   "source": [
    "# set the colors\n",
    "c1 = \"C1\"\n",
    "c2 = \"C2\"\n",
    "c3 = \"C4\""
   ]
  },
  {
   "cell_type": "code",
   "execution_count": null,
   "id": "08b33c81-fcd6-44ca-b672-4275ea603dd5",
   "metadata": {},
   "outputs": [],
   "source": []
  },
  {
   "cell_type": "code",
   "execution_count": 40,
   "id": "36428fcf-daf1-4887-8bf0-df688ec08c03",
   "metadata": {},
   "outputs": [
    {
     "data": {
      "application/vnd.jupyter.widget-view+json": {
       "model_id": "8dc313e3aaae4651a25d43250c9f723c",
       "version_major": 2,
       "version_minor": 0
      },
      "text/html": [
       "\n",
       "            <div style=\"display: inline-block;\">\n",
       "                <div class=\"jupyter-widgets widget-label\" style=\"text-align: center;\">\n",
       "                    Figure\n",
       "                </div>\n",
       "                <img src='data:image/png;base64,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' width=300.0/>\n",
       "            </div>\n",
       "        "
      ],
      "text/plain": [
       "Canvas(toolbar=Toolbar(toolitems=[('Home', 'Reset original view', 'home', 'home'), ('Back', 'Back to previous …"
      ]
     },
     "metadata": {},
     "output_type": "display_data"
    }
   ],
   "source": [
    "t0 = time.time()\n",
    "\n",
    "# set up the figure\n",
    "# 2.8,1.6\n",
    "#fig, axs = plt.subplots(figsize=(2.8,1.6)) #plt.subplots(figsize=(16,6))\n",
    "fig, axs = plt.subplots(1,1, figsize=(3,2))\n",
    "\n",
    "# make the color-list\n",
    "color_list = []\n",
    "for i in range(2):\n",
    "    color_list.append(c1)\n",
    "for i in range(2,8):\n",
    "    color_list.append(c2)\n",
    "for i in range(8, 14):\n",
    "    color_list.append(c3)\n",
    "    \n",
    "    \n",
    "# use the one set of lags\n",
    "lags = lag_sizes[5000:]\n",
    "\n",
    "\n",
    "# plot all the autocorrelations\n",
    "for i in range(14):\n",
    "    pca_cc = pca_lag_results[i]\n",
    "    axs.plot(lags, pca_cc[5000:], color=color_list[i], lw=1.5, alpha=0.5)\n",
    "    \n",
    "    \n",
    "    \n",
    "# plot the new vars\n",
    "axs.plot(lags, dpp_lag_results[5000:], color='black', lw=1.5)\n",
    "axs.plot(lags, tetW_lag_results[5000:], color='red', lw=1.5)\n",
    "axs.plot(lags, tetL_lag_results[5000:], color='blue', lw=1.5)\n",
    "axs.plot(lags, dpp_dot_lag_results[5000:], color='black', lw=1.5, linestyle='--')\n",
    "\n",
    "# set x axis params\n",
    "xticks = [0,100,200,300,400,500]\n",
    "xtick_labels = []\n",
    "axs.set_xticks(xticks)\n",
    "axs.set_xticklabels([])\n",
    "axs.set_xlim(0, 500)\n",
    "    \n",
    "\n",
    "\n",
    "\n",
    "# set y axis params\n",
    "axs.set_ylim((0,1))\n",
    "axs.set_yticks([0, 1])\n",
    "axs.set_yticklabels([])\n",
    "\n",
    "\n",
    "# # The spines and ticks\n",
    "for axis in ['left', 'right', 'top', 'bottom']:\n",
    "     axs.spines[axis].set_linewidth(0.9)\n",
    "axs.xaxis.set_tick_params(width=1, length=2)\n",
    "axs.yaxis.set_tick_params(width=1, length=2)\n",
    "\n",
    "\n",
    "\n",
    "# save and finish\n",
    "fig.tight_layout()\n",
    "fig.savefig('/home/liam/temp/image_transfer/rebuttle_fig1_panel.png', dpi=900, transparent=True)\n",
    "\n",
    "\n",
    "# tE = time.time()\n",
    "# print(tE-t0)"
   ]
  },
  {
   "cell_type": "code",
   "execution_count": null,
   "id": "72bad515-e850-43ca-b103-662a33a283bc",
   "metadata": {},
   "outputs": [],
   "source": []
  },
  {
   "cell_type": "code",
   "execution_count": null,
   "id": "eb92bf20-1b6e-440a-9bd8-6c31062fc0de",
   "metadata": {},
   "outputs": [],
   "source": []
  },
  {
   "cell_type": "markdown",
   "id": "e78aad26-603a-4135-82b7-cd10dab82ab8",
   "metadata": {},
   "source": [
    "# Make new SI figure - the explanation of the modes"
   ]
  },
  {
   "cell_type": "code",
   "execution_count": null,
   "id": "3d4e306b-05b0-448c-8f6f-a2534d44073a",
   "metadata": {},
   "outputs": [],
   "source": []
  },
  {
   "cell_type": "code",
   "execution_count": null,
   "id": "9600635b-2e65-4a4d-b133-9f14f3c2cfab",
   "metadata": {},
   "outputs": [],
   "source": []
  },
  {
   "cell_type": "code",
   "execution_count": null,
   "id": "d5c3bccd-88c4-47c0-a0f3-841b53548dea",
   "metadata": {},
   "outputs": [],
   "source": []
  },
  {
   "cell_type": "code",
   "execution_count": null,
   "id": "22b0fcae-d5e3-4290-8d43-ee5e4c2b93e2",
   "metadata": {},
   "outputs": [],
   "source": []
  },
  {
   "cell_type": "markdown",
   "id": "89149e23-7755-48d2-baf1-9ea0a531b057",
   "metadata": {},
   "source": [
    "# --------------------------------------------------------------------------------------"
   ]
  },
  {
   "cell_type": "code",
   "execution_count": null,
   "id": "2641f180-88e4-47cd-a055-334eda6a0dcb",
   "metadata": {},
   "outputs": [],
   "source": []
  },
  {
   "cell_type": "markdown",
   "id": "600f0795-32d1-42ca-a22c-37fbaffb7389",
   "metadata": {},
   "source": [
    "# Panel A"
   ]
  },
  {
   "cell_type": "code",
   "execution_count": 8,
   "id": "bfe9dc49-cbab-448f-a627-396902f3ac3e",
   "metadata": {},
   "outputs": [],
   "source": [
    "numProjectionModes = 14\n",
    "projection_eig_vecs = np.copy(eigvecs[:, :numProjectionModes])"
   ]
  },
  {
   "cell_type": "code",
   "execution_count": null,
   "id": "ef4c0cd8-5c17-4bd4-84f0-b9bc441ede53",
   "metadata": {},
   "outputs": [],
   "source": []
  },
  {
   "cell_type": "code",
   "execution_count": 49,
   "id": "3fc39860-5b69-44aa-b464-40ec815fcf94",
   "metadata": {},
   "outputs": [
    {
     "data": {
      "application/vnd.jupyter.widget-view+json": {
       "model_id": "8804710531c845e09effa64386b6c4cb",
       "version_major": 2,
       "version_minor": 0
      },
      "text/html": [
       "\n",
       "            <div style=\"display: inline-block;\">\n",
       "                <div class=\"jupyter-widgets widget-label\" style=\"text-align: center;\">\n",
       "                    Figure\n",
       "                </div>\n",
       "                <img src='data:image/png;base64,iVBORw0KGgoAAAANSUhEUgAAAKoAAAB4CAYAAABigGmmAAAAOXRFWHRTb2Z0d2FyZQBNYXRwbG90bGliIHZlcnNpb24zLjQuMywgaHR0cHM6Ly9tYXRwbG90bGliLm9yZy/MnkTPAAAACXBIWXMAAA9hAAAPYQGoP6dpAAAE4UlEQVR4nO3aMWgbVxzH8Z8dY0kplERYkFNVo0HUFohigpcOWdJ0DCR0ShooxFDo6LGTxo6ZmkK3QmigTfGgvYuGzoFAoNlOsiSiS+w0xJJs4esQlHD4ZKs+5ay/9P3AEaH3dHfBX/zeYc35vu8LmHDzZ30DwCgIFSYQKkwgVJhAqDCBUGECocIEQoUJhAoTCBUmECpMIFSYsBDlw81mU81mM/Bet9vV8+fPVSqVtLAQ6fSYAv1+X61WS+vr60omk6c/kR9BuVz2JXFwnHhUq9UoqflzUb7mF/YbtVar6caNG6pWq8rlcqc99Znb3t7Wzs5O6NjFixclSVe/vKr93n7onMXEoh7+9lC3bt86cc7t29+o1+uGzkkkkrp//ydtbGzo6y++V+bjTwLj7X+39effP0vSseP37t3T5uZmLHMqlYpKpZIkqV6v68qVK3r27JkKhULo/3EUkdZmx3HkOE7gvXQ6LUnK5XLK5/NRTn9mXNfVta+uqdsJjyeZSurRH4+039tX7rucEtlEYLzX6Kn+S12dTmekOb1eV99e/UGXLiwH5rR2Xf36149KJN5+tuB8rk8znwXm1Nr/vHt93Hgmk4ltTjabPfKzj7oNZBMZwvM8dTvdYwPb3d2VJCWyCaXyqWPPN8qcSxeWj/zg8d7Mhuq6rjzPCx0bbGdGCQzxmMlQXdfVyurK0KV9MbEY8x3hJDMZ6ihLOybLVIZ63LK+tLT07jVLux1TF+pJy/rgiR22TF2o/+eJHXZMXagDLOvTxVyoo+4/MV1Mhcr+c3aZCpX95+wyFeoA+8/ZwxenYcJE/UblQQnDTEyoruuquLqivSEPSudTSf3Og9LMmphQPc/TXqerBzdTKmaCO5Kn7UPd2erwoDTDJibUgWJmXpedc2d9G5gwPEzBBEKFCYQKEwgVJhAqTCBUmECoMIFQYQKhwgRChQmEChMIFSYQKkwgVJhAqDCBUGECocIEQoUJhAoTCBUmECpMIFSYQKgwgVBhAqHCBEKFCYQKEwgVJhAqTCBUmECoMIFQYQKhwgRChQmEChMIFSYQKkwgVJhAqDCBUGECocIEQoUJhAoTCBUmECpMIFSYQKgwgVBhAqHCBEKFCYQKEwgVJhAqTCBUmECoMIFQYQKhwoSFOC/muq48zwsdazabcd4KjIktVNd1VVxd0V6nGzqeTCzGdSswKLZQPc/TXqerBzdTKmaCO46n7UPd2erEdSswKNalX5KKmXldds7FfVkYx8MUTCBUmECoMIFQYQKhwgRChQmEChMIFSYQKkwgVJhAqDAh0t/6m83mka/n1Wo1SVK9Xg+832g03v77+lDp1Fxw7PVh4PWw8Xa7LUk62DnQuY+C3xc42DkY65y4rjOY8+rNC51PtgJzXr15MfKccZxjXHMajYbS6bSk9x30+31F4kdQLpd9SRwcJx7VajVKav6c7/u+TinsN+rjx4919+5dbW1taW1tLfRzT5480fXr11WpVFQqlT7YnLiuM433O67r9Pt9tVotra+vK5lMhs4ZRaSl33EcOY4TOra8vKx8Ph869vLlS0lSNpv9oHPius403u+4riNJhUJh6NioeJiCCYQKEwgVJow9VMdxVC6Xh+5d45wzSfdi7X7HdZ1xifTUD8SFpR8mECpMIFSYQKgwgVBhwn8JzZwhvfN9SwAAAABJRU5ErkJggg==' width=170.0/>\n",
       "            </div>\n",
       "        "
      ],
      "text/plain": [
       "Canvas(toolbar=Toolbar(toolitems=[('Home', 'Reset original view', 'home', 'home'), ('Back', 'Back to previous …"
      ]
     },
     "metadata": {},
     "output_type": "display_data"
    }
   ],
   "source": [
    " # ---- Variance explained --- #\n",
    "\n",
    "# get the dimension of the timeseries\n",
    "dim = covmat.shape[0]\n",
    "\n",
    "# get the xvalues for plotting (non zero indexed)\n",
    "x_vals = np.arange(1,dim+1)\n",
    "x_text_vals = [' ', \"PC1\", \"PC2\", \"PC3\", \"PC4\", \"PC5\", \"PC6\", \"PC7\", \"PC8\", \"PC9\", \"PC10\", \"PC11\", \"PC12\", \"PC13\", \"PC14\"]\n",
    "\n",
    "# make the plot\n",
    "#fig, ax = plt.subplots(1,1, figsize=(2.8,1.6))\n",
    "fig, ax = plt.subplots(1,1, figsize=(1.7,1.2))\n",
    "\n",
    "bar_list = ax.bar(x_vals, cum_var_explained, alpha=1)\n",
    "ax.set_title('', fontdict={'fontsize':15})\n",
    "\n",
    "ax.set_ylabel('')\n",
    "ax.set_xlabel('')\n",
    "ax.set_xlim(0,len(x_text_vals))\n",
    "ax.set_xticks(np.arange(len(x_text_vals)))\n",
    "ax.set_xticklabels([])\n",
    "\n",
    "ax.set_ylim(0.5, 1)\n",
    "ax.set_yticks([0.5, 1])\n",
    "ax.set_yticklabels([])\n",
    "\n",
    "# set the colors\n",
    "c1 = \"C1\"\n",
    "c2 = \"C2\"\n",
    "c3 = \"C4\"\n",
    "\n",
    "\n",
    "# now set the colors\n",
    "for i in range(2):\n",
    "    bar_list[i].set_color(c1)\n",
    "    bar_list[i].set_edgecolor(\"black\")\n",
    "for i in range(2,8):\n",
    "    bar_list[i].set_color(c2)\n",
    "    bar_list[i].set_edgecolor(\"black\")\n",
    "for i in range(8, 14):\n",
    "    bar_list[i].set_color(c3)\n",
    "    bar_list[i].set_edgecolor(\"black\")\n",
    "    \n",
    "# dummy lines for legend\n",
    "ax.plot(np.NaN, np.NaN, '-', color=c1, label='                             ')\n",
    "ax.plot(np.NaN, np.NaN, '-', color=c2, label='     ')\n",
    "ax.plot(np.NaN, np.NaN, '-', color=c3, label='     ')\n",
    "\n",
    "# The spines and ticks\n",
    "for axis in ['left', 'right', 'top', 'bottom']:\n",
    "    ax.spines[axis].set_linewidth(0.9)\n",
    "ax.xaxis.set_tick_params(width=1, length=4)\n",
    "ax.yaxis.set_tick_params(width=1, length=4)\n",
    "\n",
    "\n",
    "#fig.tight_layout()\n",
    "\n",
    "fig.savefig('/home/liam/temp/image_transfer/fig2_A.png', dpi=900, transparent=True)"
   ]
  },
  {
   "cell_type": "code",
   "execution_count": null,
   "id": "ad41c019-6da5-4aa0-bf91-e2e050665e98",
   "metadata": {},
   "outputs": [],
   "source": []
  },
  {
   "cell_type": "code",
   "execution_count": null,
   "id": "9a8ae58e-33af-44f3-a3df-a871dc422003",
   "metadata": {},
   "outputs": [],
   "source": []
  },
  {
   "cell_type": "code",
   "execution_count": null,
   "id": "8228dcf0-91eb-4049-91e4-93b0e02d29aa",
   "metadata": {},
   "outputs": [],
   "source": []
  },
  {
   "cell_type": "markdown",
   "id": "e0156e40-961c-415d-b676-9d4026ee01a2",
   "metadata": {
    "tags": []
   },
   "source": [
    "# Examine the modes"
   ]
  },
  {
   "cell_type": "code",
   "execution_count": null,
   "id": "9b897dcd-642d-4acc-9113-3e8b1279a657",
   "metadata": {},
   "outputs": [],
   "source": []
  },
  {
   "cell_type": "markdown",
   "id": "de994031-0a6d-43da-9295-e5a3beb146be",
   "metadata": {},
   "source": [
    "## Make the widgets to hold the data"
   ]
  },
  {
   "cell_type": "code",
   "execution_count": 77,
   "id": "2770bbe5-1732-4382-8128-75a0ce6f719c",
   "metadata": {},
   "outputs": [],
   "source": [
    "### Prepare the list of widgets ###\n",
    "numFish=2\n",
    "numBodyPoints=3\n",
    "\n",
    "# layout parameters\n",
    "number_layout = widgets.Layout(width='70px')\n",
    "text_layout = widgets.Layout(width='120px')\n",
    "\n",
    "# preallocate list structures to hold the numbers\n",
    "plottable_3D_widget_list = [ [[[] for _ in range(3)] for _ in range(numBodyPoints)] for _ in range(numFish)]\n",
    "pca_widget_list = [ [] for i in range(14)]\n",
    "rep_widget_list = [ [] for i in range(14)]\n",
    "\n",
    "# get the plottable positions for the frame\n",
    "#plottable_positions = rep14D_to_plotable_positions(mean_14D_rep)\n",
    "plottable_positions = coord_handler.convert_rep14D_to_plotable_positions(coord_handler.mean_rep)\n",
    "\n",
    "# grab the plottable values\n",
    "for fishIdx in range(numFish):\n",
    "    for bpIdx in range(numBodyPoints):\n",
    "        for dimIdx in range(3):\n",
    "             \n",
    "            # plottable data\n",
    "            wid_val = np.round(np.copy(plottable_positions[fishIdx, bpIdx, dimIdx]), 2)\n",
    "            val_widge_3D = widgets.FloatText(value=wid_val,layout=number_layout)\n",
    "            plottable_3D_widget_list[fishIdx][bpIdx][dimIdx] = val_widge_3D\n",
    "            \n",
    "# grab the pca values\n",
    "mean_rep_modes = coord_handler.convert_rep14D_to_mode_weights(coord_handler.mean_rep)\n",
    "for pcIdx in range(14):\n",
    "    wid_val = np.round(np.copy(mean_rep_modes[pcIdx]), 2)\n",
    "    val_widge_3D = widgets.FloatText(value=wid_val,layout=number_layout)\n",
    "    pca_widget_list[pcIdx] = val_widge_3D\n",
    "    \n",
    "# grab the rep values\n",
    "for pcIdx in range(14):\n",
    "    wid_val = np.round(np.copy(coord_handler.mean_rep[pcIdx]), 2)\n",
    "    val_widge_3D = widgets.FloatText(value=wid_val,layout=number_layout)\n",
    "    rep_widget_list[pcIdx] = val_widge_3D"
   ]
  },
  {
   "cell_type": "code",
   "execution_count": 78,
   "id": "4d44111b-b2ce-4030-b085-51885cf81cc2",
   "metadata": {},
   "outputs": [],
   "source": [
    "### Make widgets to vizualize the plottable positions\n",
    "\n",
    "\n",
    "# layout parameters\n",
    "number_layout = widgets.Layout(width='80px')\n",
    "text_layout = widgets.Layout(width='120px')\n",
    "\n",
    "# widget lists\n",
    "f_bp_XYZ_boxes = [None]*numFish\n",
    "f_3D_wid_titles = [None]*numFish\n",
    "f_3D_wids = [None]*numFish\n",
    "\n",
    "for fishIdx in range(numFish):\n",
    "    f_bp_box_list = []\n",
    "    for bpIdx in range(numBodyPoints):\n",
    "        f_bp_XYZ_boxes[fishIdx] = widgets.HBox(plottable_3D_widget_list[fishIdx][bpIdx][:], layout=widgets.Layout(padding=('0px 30px 0 0')))\n",
    "        f_bp_box_list.append(f_bp_XYZ_boxes[fishIdx])\n",
    "    f_3D_wid_titles[fishIdx] = widgets.Text('Fish{} FC bps'.format(fishIdx+1), layout=text_layout)\n",
    "    f_3D_wids[fishIdx] = widgets.VBox([f_3D_wid_titles[fishIdx]]+f_bp_box_list)\n",
    "\n",
    "# Final widget\n",
    "plottable_frame_widget = widgets.HBox(f_3D_wids, layout=widgets.Layout(padding=('0px 0px 30px 200px')))"
   ]
  },
  {
   "cell_type": "code",
   "execution_count": 79,
   "id": "69f42d25-ce57-451b-aa4d-dfc6128772fa",
   "metadata": {},
   "outputs": [],
   "source": [
    "### Make widgets to vizualize the pca_data\n",
    "\n",
    "# layout parameters\n",
    "number_layout = widgets.Layout(width='80px')\n",
    "text_layout = widgets.Layout(width='120px')\n",
    "wid_title = widgets.Text('mode weights', layout=text_layout)\n",
    "\n",
    "# get the values of the widget in a hbox\n",
    "mode_weight_vals_wid = widgets.HBox(pca_widget_list, layout=widgets.Layout(padding=('0px 0px 00px 000px')))\n",
    "\n",
    "# make the final widget with title\n",
    "mode_frame_widget = widgets.VBox([wid_title, mode_weight_vals_wid], layout=widgets.Layout(padding=('0px 0px 30px 200px')))\n",
    "\n",
    "\n",
    "### Make widgets to vizualize the rep_data\n",
    "\n",
    "# layout parameters\n",
    "number_layout = widgets.Layout(width='80px')\n",
    "text_layout = widgets.Layout(width='120px')\n",
    "wid_title = widgets.Text('14D rep', layout=text_layout)\n",
    "\n",
    "# get the values of the widget in a hbox\n",
    "rep_vals_wid = widgets.HBox(rep_widget_list, layout=widgets.Layout(padding=('0px 0px 00px 000px')))\n",
    "\n",
    "# make the final widget with title\n",
    "rep_frame_widget = widgets.VBox([wid_title, rep_vals_wid], layout=widgets.Layout(padding=('0px 0px 30px 200px')))"
   ]
  },
  {
   "cell_type": "code",
   "execution_count": 80,
   "id": "0937faa7-659b-4c02-9a3c-a06a26b577fa",
   "metadata": {},
   "outputs": [],
   "source": [
    "# final widget\n",
    "\n",
    "\n",
    "data_widget = widgets.VBox([plottable_frame_widget, mode_frame_widget, rep_frame_widget],\n",
    "                                    layout=widgets.Layout(display=\"flex-start\"))\n",
    "\n",
    "#data_widget"
   ]
  },
  {
   "cell_type": "code",
   "execution_count": null,
   "id": "02589358-0600-4781-a0a4-98b60680bc77",
   "metadata": {},
   "outputs": [],
   "source": []
  },
  {
   "cell_type": "code",
   "execution_count": null,
   "id": "13354bf0-c405-4528-8056-5a1e8429d0bd",
   "metadata": {},
   "outputs": [],
   "source": []
  },
  {
   "cell_type": "code",
   "execution_count": null,
   "id": "debea292-525a-42c7-b44d-8b01d2ccfe2c",
   "metadata": {},
   "outputs": [],
   "source": []
  },
  {
   "cell_type": "markdown",
   "id": "6e4abae4-897b-422d-b250-4baee82c9db4",
   "metadata": {},
   "source": [
    "## Make the 3D plotting widget"
   ]
  },
  {
   "cell_type": "code",
   "execution_count": 81,
   "id": "e443b488-88d1-4b33-80e5-c8d3e9d28bb1",
   "metadata": {},
   "outputs": [
    {
     "data": {
      "application/vnd.jupyter.widget-view+json": {
       "model_id": "2e3e3290157e4566acc0bdce171299ab",
       "version_major": 2,
       "version_minor": 0
      },
      "text/html": [
       "\n",
       "            <div style=\"display: inline-block;\">\n",
       "                <div class=\"jupyter-widgets widget-label\" style=\"text-align: center;\">\n",
       "                    Figure\n",
       "                </div>\n",
       "                <img src='data:image/png;base64,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' width=640.0/>\n",
       "            </div>\n",
       "        "
      ],
      "text/plain": [
       "Canvas(header_visible=False, layout=Layout(height='100%', width='100%'), toolbar=Toolbar(toolitems=[('Home', '…"
      ]
     },
     "metadata": {},
     "output_type": "display_data"
    }
   ],
   "source": [
    "#  ----------------- make a 3D plot of the positions ----------------------- #\n",
    "\n",
    "plt.ion()\n",
    "\n",
    "\n",
    "rep_data = np.copy(coord_handler.mean_rep)\n",
    "pca_data = coord_handler.convert_rep14D_to_mode_weights(rep_data)\n",
    "frame_positions = coord_handler.convert_rep14D_to_plotable_positions(rep_data)\n",
    "\n",
    "numFish, numBodyPoints = 2, 3\n",
    "fish_colors = ['red', 'blue']\n",
    "\n",
    "# Attaching 3D axis to the figure\n",
    "fig = plt.figure()\n",
    "fig.tight_layout()\n",
    "fig.canvas.header_visible = False\n",
    "#fig.canvas.layout.min_height = '400px'\n",
    "fig.canvas.layout.height = '100%'\n",
    "fig.canvas.layout.width = '100%'\n",
    "ax = fig.add_subplot(111, projection='3d')  \n",
    "#fig.suptitle('Investigating PCA mode action about mean configuration')\n",
    "#ax = p3.Axes3D(fig, [0.,0.,1.,1.])\n",
    "\n",
    "\n",
    "# create a widget to hold the title of the slide\n",
    "#text_title_widget = widgets.FloatText(value=0)\n",
    "title_font = {'fontname':'Arial', 'size':'20'}\n",
    "title_text = ax.text2D(0.4, 0.95, \"mode 1\", transform=ax.transAxes, **title_font)\n",
    "\n",
    "\n",
    "# set the limits\n",
    "xmin, xmax = -7, 7\n",
    "ymin, ymax = -7, 7\n",
    "zmin, zmax = -7, 7\n",
    "\n",
    "# Setting the axes properties\n",
    "ax.set_xlim3d([xmin, xmax])\n",
    "ax.set_xlabel('X')\n",
    "\n",
    "ax.set_ylim3d([ymin, ymax])\n",
    "ax.set_ylabel('Y')\n",
    "\n",
    "ax.set_zlim3d([zmin, zmax])\n",
    "ax.set_zlabel('Z')\n",
    "\n",
    "# Initialize scatters (list over fish, list over bps)\n",
    "symbols = ['o', 's', 'x']\n",
    "sizes=30\n",
    "\n",
    "# Main scatters\n",
    "scatters = []\n",
    "for fishIdx in range(numFish):\n",
    "    col = fish_colors[fishIdx]\n",
    "    fish_scatters = []\n",
    "    for bpIdx in range(numBodyPoints):\n",
    "        fish_scatters.append(ax.scatter(frame_positions[fishIdx, bpIdx, 0], \n",
    "                                        frame_positions[fishIdx, bpIdx, 1], \n",
    "                                        frame_positions[fishIdx, bpIdx, 2], \n",
    "                                        c=col, s=sizes, marker=symbols[bpIdx])) \n",
    "    scatters.append(fish_scatters)\n",
    "    \n",
    "# Main lines\n",
    "lines = []\n",
    "for fishIdx in range(numFish):\n",
    "    col = fish_colors[fishIdx]\n",
    "    line = ax.plot(frame_positions[fishIdx, :, 0], frame_positions[fishIdx, :, 1], frame_positions[fishIdx, :, 2], c=col)[0]\n",
    "    lines.append(line)\n",
    "    \n",
    "# scatterplot the origin\n",
    "ax.scatter(0, 0, 0, c='black', s=14)\n",
    "        \n",
    "sizes=5\n",
    "\n",
    "scatter_projections = []\n",
    "lines_projections = []\n",
    "for projectionIdx in range(3):\n",
    "        \n",
    "    # XZ => Y\n",
    "    if projectionIdx == 0:\n",
    "        projectionData = np.copy(frame_positions)\n",
    "        projectionData[:, :, 1] = ymax\n",
    "    # XY => Z\n",
    "    elif projectionIdx == 1:\n",
    "        projectionData = np.copy(frame_positions)\n",
    "        projectionData[:, :, 2] = zmin\n",
    "    # YZ => X\n",
    "    elif projectionIdx == 2:\n",
    "        projectionData = np.copy(frame_positions)\n",
    "        projectionData[:, :, 0] = xmin\n",
    "    \n",
    "    proj_scatters = []\n",
    "    proj_lines = []\n",
    "    for fishIdx in range(numFish):\n",
    "        col = fish_colors[fishIdx]\n",
    "        # scatter plots\n",
    "        fish_scatters = []\n",
    "        for bpIdx in range(numBodyPoints):\n",
    "            #print(symbols[bpIdx])\n",
    "            fish_scatters.append(ax.scatter(projectionData[fishIdx, bpIdx, 0], projectionData[fishIdx, bpIdx, 1], projectionData[fishIdx, bpIdx, 2], \n",
    "                                            c=col, s=sizes, marker=symbols[bpIdx], alpha=0.1))\n",
    "        # lines\n",
    "        line = ax.plot(projectionData[fishIdx, :, 0], projectionData[fishIdx, :, 1], projectionData[fishIdx, :, 2], c=col, alpha=0.1)[0]\n",
    "        proj_lines.append(line)\n",
    "        proj_scatters.append(fish_scatters)\n",
    "\n",
    "    scatter_projections.append(proj_scatters)\n",
    "    lines_projections.append(proj_lines)\n",
    "    \n",
    "    \n",
    "    \n",
    "    \n",
    "    \n",
    "# make the widget\n",
    "layout = widgets.Layout(width='100%')\n",
    "plot_widget = VBox([fig.canvas], layout=layout)"
   ]
  },
  {
   "cell_type": "code",
   "execution_count": null,
   "id": "64d5ec56-134c-4bcd-8d2b-35566c60db24",
   "metadata": {},
   "outputs": [],
   "source": []
  },
  {
   "cell_type": "code",
   "execution_count": 82,
   "id": "75fb12dd-f0da-49b2-92db-f02873dd6ba2",
   "metadata": {},
   "outputs": [],
   "source": [
    "# make a title text widget, and link it to the text of the 3D plot\n",
    "text_title_widget = widgets.FloatText(value=0)\n",
    "def text_title_on_change(change):\n",
    "    title_text.set_text('mode {0}'.format(int(change.new+1)))\n",
    "text_title_widget.observe(text_title_on_change)"
   ]
  },
  {
   "cell_type": "code",
   "execution_count": null,
   "id": "aea02492-a040-45b8-bc61-6ca6c2bb222d",
   "metadata": {},
   "outputs": [],
   "source": []
  },
  {
   "cell_type": "code",
   "execution_count": null,
   "id": "a586efb7-e7d1-49fc-80fe-03c5d2cb5762",
   "metadata": {},
   "outputs": [],
   "source": []
  },
  {
   "cell_type": "markdown",
   "id": "16214b05-8c1f-440e-ad05-cc4bc274d6ad",
   "metadata": {},
   "source": [
    "## Slider widgets"
   ]
  },
  {
   "cell_type": "code",
   "execution_count": 83,
   "id": "126c75ea-ca7a-4253-8c98-8fc0e8402573",
   "metadata": {},
   "outputs": [],
   "source": [
    "# make the 8 sliders\n",
    "numModeSliders = 14\n",
    "\n",
    "mode_sliders = []\n",
    "\n",
    "for ii in range(numModeSliders):\n",
    "    \n",
    "    # get the slider ranges and step\n",
    "    if ii == 6:\n",
    "        slider_min = -5\n",
    "        slider_max = 5\n",
    "        step=0.01\n",
    "        init_val = pca_widget_list[ii].value\n",
    "    elif ii == 7:\n",
    "        slider_min = -5\n",
    "        slider_max = 5\n",
    "        step=0.01\n",
    "        init_val = pca_widget_list[ii].value\n",
    "    else:\n",
    "        slider_min = np.nanmin(pca_tseries[:,ii])\n",
    "        slider_max = np.nanmax(pca_tseries[:,ii])\n",
    "        step=0.01\n",
    "        init_val = pca_widget_list[ii].value\n",
    "        \n",
    "    # make the slider\n",
    "    mode_slider = widgets.FloatSlider(value=init_val, min=slider_min, max=slider_max, step=step, \n",
    "                                         continuous_update=True, description='m{0}: {1}'.format(ii+1, np.round(mean_rep_modes[ii],2)), \n",
    "                                          layout=Layout(width='100%', height='50px'))\n",
    "    \n",
    "    # link the slider to the widget display values\n",
    "    mode_val_slider_link = widgets.link((mode_slider, 'value'), (pca_widget_list[ii], 'value'))\n",
    "    \n",
    "    # keep the mode slider\n",
    "    mode_sliders.append(mode_slider)\n",
    "    \n",
    "    \n",
    "    \n",
    "    \n",
    "# ------- On changes to the mode sliders, update the plottable positions ------ #\n",
    "\n",
    "def update_plottable_from_mode_sliders(change):\n",
    "    numCams=3\n",
    "    numFish=2\n",
    "    numBodyPoints=3\n",
    "    \n",
    "    #title_text.set_text(str(change))\n",
    "    \n",
    "    # get the current values of the mode weights\n",
    "    pca_data = []\n",
    "    for ii in range(numModeSliders):\n",
    "        pca_weight = pca_widget_list[ii].value\n",
    "        pca_data.append(pca_weight)\n",
    "    frame_pca_data = np.array(pca_data)\n",
    "    \n",
    "    # get the representation data from the pca weights\n",
    "    #frame_rep_data = modes_to_14D_rep(frame_pca_data, mean_14D_rep, sorted_eig_vecs)\n",
    "    frame_rep_data = coord_handler.convert_mode_weights_to_14D_rep(frame_pca_data)\n",
    "    \n",
    "    # get the plottable positions\n",
    "    #frame_positions = rep14D_to_plotable_positions(frame_rep_data)\n",
    "    frame_positions = coord_handler.convert_rep14D_to_plotable_positions(frame_rep_data)\n",
    "    \n",
    "    # update the rep data\n",
    "    for ii in range(14):\n",
    "        rep_widget_list[ii].value = np.round(frame_rep_data[ii],3)\n",
    "        \n",
    "    # update the plottable positions (lab can't be updated)\n",
    "    for fishIdx in range(numFish):\n",
    "        for bpIdx in range(numBodyPoints):\n",
    "            for dimIdx in range(3):\n",
    "                plottable_3D_widget_list[fishIdx][bpIdx][dimIdx].value = np.round(frame_positions[fishIdx, bpIdx, dimIdx],3)\n",
    "            \n",
    "    \n",
    "for ii in range(numModeSliders):\n",
    "    mode_sliders[ii].observe(update_plottable_from_mode_sliders, names='value')\n",
    "    \n",
    "    \n",
    "# all sliders\n",
    "all_sliders = widgets.VBox([widgets.VBox(mode_sliders)])\n",
    "\n",
    "\n",
    "\n",
    "# ----- Update the plot with mode sliders ----- #\n",
    "\n",
    "\n",
    "def update_plot_mode_change(change):\n",
    "    numFish=2\n",
    "    numBodyPoints=3\n",
    "    #fig.suptitle('Investigating PCA mode action about mean configuration')\n",
    "    \n",
    "    #------ Gather the current frame positions from the widget --- #\n",
    "    frame_positions = []\n",
    "    for fishIdx in range(numFish):\n",
    "\n",
    "        fish_position = []\n",
    "        for bpIdx in range(numBodyPoints):\n",
    "\n",
    "            bodypoint_pos = []\n",
    "            for dimIdx in range(3):\n",
    "                val = plottable_3D_widget_list[fishIdx][bpIdx][dimIdx].value\n",
    "                bodypoint_pos.append(val)\n",
    "            bodypoint_pos = np.array(bodypoint_pos)\n",
    "\n",
    "            fish_position.append(bodypoint_pos)\n",
    "        fish_position = np.stack(fish_position)\n",
    "\n",
    "        frame_positions.append(fish_position)\n",
    "    frame_positions = np.stack(frame_positions)\n",
    "    #-------------------------------------#\n",
    "        \n",
    "        \n",
    "    #------- Update the real fish ---- #\n",
    "    # update the scatters\n",
    "    for fishIdx in range(numFish):\n",
    "        for bpIdx in range(numBodyPoints):\n",
    "            ax = scatters[fishIdx][bpIdx]\n",
    "            ax._offsets3d[0][0] = frame_positions[fishIdx, bpIdx, 0]\n",
    "            ax._offsets3d[1][0] = frame_positions[fishIdx, bpIdx, 1]\n",
    "            ax._offsets3d[2][0] = frame_positions[fishIdx, bpIdx, 2]\n",
    "            \n",
    "    # update the lines\n",
    "    for fishIdx,line in enumerate(lines):\n",
    "            line.set_data(frame_positions[fishIdx, :, :2].swapaxes(0,1))\n",
    "            line.set_3d_properties(frame_positions[fishIdx, :, 2])\n",
    "    #--------------------------------------#\n",
    "    \n",
    "    \n",
    "    \n",
    "    # -------  Update the projections  ------- #\n",
    "    for projectionIdx in range(3):\n",
    "        \n",
    "        # XZ => Y=0\n",
    "        if projectionIdx == 0:\n",
    "            projectionData = np.copy(frame_positions)\n",
    "            projectionData[:, :, 1] = ymax\n",
    "        # XY => Z=0\n",
    "        elif projectionIdx == 1:\n",
    "            projectionData = np.copy(frame_positions)\n",
    "            projectionData[:, :, 2] = zmin\n",
    "        # YZ => X=0\n",
    "        elif projectionIdx == 2:\n",
    "            projectionData = np.copy(frame_positions)\n",
    "            projectionData[:, :, 0] = xmin\n",
    "            \n",
    "        proj_scatters = scatter_projections[projectionIdx]\n",
    "        proj_lines = lines_projections[projectionIdx]\n",
    "        \n",
    "        # update the scatters\n",
    "        for fishIdx in range(numFish):\n",
    "            for bpIdx in range(numBodyPoints):\n",
    "                ax = proj_scatters[fishIdx][bpIdx]\n",
    "                ax._offsets3d[0][0] = projectionData[fishIdx, bpIdx, 0]\n",
    "                ax._offsets3d[1][0] = projectionData[fishIdx, bpIdx, 1]\n",
    "                ax._offsets3d[2][0] = projectionData[fishIdx, bpIdx, 2]\n",
    "\n",
    "        # update the lines\n",
    "        for fishIdx,line in enumerate(proj_lines):\n",
    "            line.set_data(projectionData[fishIdx, :, :2].swapaxes(0,1))\n",
    "            line.set_3d_properties(projectionData[fishIdx, :, 2])\n",
    "        \n",
    "         \n",
    "    fig.canvas.draw()\n",
    "    fig.canvas.flush_events()\n",
    "\n",
    "\n",
    "for ii in range(numModeSliders):\n",
    "    ms = mode_sliders[ii]\n",
    "    ms.observe(update_plot_mode_change, names='value')\n"
   ]
  },
  {
   "cell_type": "code",
   "execution_count": null,
   "id": "5b26bfeb-d9ad-423f-9d91-b4ded6746c4e",
   "metadata": {},
   "outputs": [],
   "source": []
  },
  {
   "cell_type": "code",
   "execution_count": null,
   "id": "3791962e-e767-4a0f-b669-bb7886c5114e",
   "metadata": {},
   "outputs": [],
   "source": []
  },
  {
   "cell_type": "code",
   "execution_count": null,
   "id": "f100968c-688b-42de-a0e2-5168ae884563",
   "metadata": {},
   "outputs": [],
   "source": []
  },
  {
   "cell_type": "code",
   "execution_count": null,
   "id": "54f23901-2911-480e-a12b-b96701cb5970",
   "metadata": {},
   "outputs": [],
   "source": []
  },
  {
   "cell_type": "markdown",
   "id": "a61b210b-9127-4be5-b767-77edcd871c37",
   "metadata": {},
   "source": [
    "## Main Investigation"
   ]
  },
  {
   "cell_type": "code",
   "execution_count": 84,
   "id": "df891a13-1fa0-4d62-ae7c-e1aad73d71e4",
   "metadata": {},
   "outputs": [
    {
     "data": {
      "application/vnd.jupyter.widget-view+json": {
       "model_id": "e021f1db7d254d92b7ac27502415fa1d",
       "version_major": 2,
       "version_minor": 0
      },
      "text/plain": [
       "VBox(children=(VBox(children=(FloatSlider(value=0.0, description='m1: 0.0', layout=Layout(height='50px', width…"
      ]
     },
     "metadata": {},
     "output_type": "display_data"
    }
   ],
   "source": [
    "# display Vbox\n",
    "plt.ion()\n",
    "sc = Sidecar(title='Sidecar Output')\n",
    "with sc:\n",
    "    display(all_sliders)\n",
    "    #display(mean_rep_modes)"
   ]
  },
  {
   "cell_type": "code",
   "execution_count": 85,
   "id": "1d42bf94-3b65-4fe5-940b-e23b26299232",
   "metadata": {},
   "outputs": [],
   "source": [
    "mode_names = [\"X' distance\", \"Z' distance\", \n",
    "              \"'chasing'\", \"'anti-parallel display'\", \"'parallel display'\", \" 'face-off'\", \"symmetric pitching\", \"asymmetric pitching\",\n",
    "              \" head & tail X' motion \", \" head & tail Y' motion \",\n",
    "              \" head Y' motion\", \"pec Z' motion\"\n",
    "              \" pec X' motion \", \"pec Z' motion \"\n",
    "             ]"
   ]
  },
  {
   "cell_type": "code",
   "execution_count": 86,
   "id": "ea070dd8-2de6-409a-807b-fdf610e23535",
   "metadata": {},
   "outputs": [
    {
     "data": {
      "application/vnd.jupyter.widget-view+json": {
       "model_id": "d6358d3d3d0543649f4d9c4f1944bc6f",
       "version_major": 2,
       "version_minor": 0
      },
      "text/plain": [
       "VBox(children=(Canvas(header_visible=False, layout=Layout(height='100%', width='100%'), toolbar=Toolbar(toolit…"
      ]
     },
     "metadata": {},
     "output_type": "display_data"
    }
   ],
   "source": [
    "plot_widget"
   ]
  },
  {
   "cell_type": "code",
   "execution_count": 67,
   "id": "b1bb63c1-58d2-48cd-b6de-398a21011a3b",
   "metadata": {},
   "outputs": [],
   "source": [
    "#plt.savefig('/home/liam/fish_analysis/nugget_dump/20210209/m3_right_peak.png')"
   ]
  },
  {
   "cell_type": "code",
   "execution_count": null,
   "id": "6b84bad4-b743-49e6-bff8-95d8e755a8e3",
   "metadata": {},
   "outputs": [],
   "source": []
  },
  {
   "cell_type": "code",
   "execution_count": 22,
   "id": "aab2cc9f-2e57-44ed-92a6-a45abfc3c1cb",
   "metadata": {},
   "outputs": [],
   "source": [
    "# reset all the sliders\n",
    "for modeIdx in range(len(pca_widget_list)):\n",
    "    pca_widget_list[modeIdx].value = 0"
   ]
  },
  {
   "cell_type": "code",
   "execution_count": null,
   "id": "3af35d31-eb04-4e9b-88be-307a03ec79ad",
   "metadata": {},
   "outputs": [],
   "source": []
  },
  {
   "cell_type": "code",
   "execution_count": null,
   "id": "a99d4481-7338-4340-ac45-f523628248eb",
   "metadata": {},
   "outputs": [],
   "source": []
  },
  {
   "cell_type": "markdown",
   "id": "17211ae2-d6e1-4cd5-85c6-f0e69a937f8d",
   "metadata": {},
   "source": [
    "## animating the PCA modes"
   ]
  },
  {
   "cell_type": "code",
   "execution_count": 87,
   "id": "74758670-17ba-4e7a-ac97-897272472b67",
   "metadata": {},
   "outputs": [
    {
     "data": {
      "text/plain": [
       "array([ 0. ,  0.5,  1. ,  1.5,  2. ,  2.5,  3. ,  2.5,  2. ,  1.5,  1. ,\n",
       "        0.5,  0. , -0.5, -1. , -1.5, -2. , -2.5, -3. , -2.5, -2. , -1.5,\n",
       "       -1. , -0.5,  0. ])"
      ]
     },
     "execution_count": 87,
     "metadata": {},
     "output_type": "execute_result"
    }
   ],
   "source": [
    "# create a value array for pulses\n",
    "\n",
    "def compute_modeval_array(minval, maxval, step):\n",
    "    ''' 0 -> max -> min -> 0\n",
    "    \n",
    "    minval, maxval are inclusive\n",
    "    '''\n",
    "    first_leg = np.arange(0, maxval+step, step)\n",
    "    second_leg = np.arange(minval, maxval, step)[::-1]\n",
    "    third_leg = np.arange(minval+step, 0+step, step)\n",
    "    modeval_arr = np.concatenate([first_leg, second_leg, third_leg])\n",
    "    return modeval_arr\n",
    "\n",
    "modeval_arr = compute_modeval_array(-3, 3, 0.5)\n",
    "modeval_arr"
   ]
  },
  {
   "cell_type": "code",
   "execution_count": null,
   "id": "b951497d-e7d7-4db9-a62e-28e74e32657a",
   "metadata": {},
   "outputs": [],
   "source": []
  },
  {
   "cell_type": "code",
   "execution_count": 88,
   "id": "934f319c-5846-4f4d-8c1e-baa82fddb3cf",
   "metadata": {},
   "outputs": [],
   "source": [
    "# create a list for each pc\n",
    "\n",
    "pc_modeval_arr_list = []\n",
    "\n",
    "# pc1\n",
    "modeval_arr = compute_modeval_array(-5, 5, 1)\n",
    "pc_modeval_arr_list.append(modeval_arr)\n",
    "\n",
    "# pc2\n",
    "modeval_arr = compute_modeval_array(-10, 10, 1)\n",
    "pc_modeval_arr_list.append(modeval_arr)\n",
    "\n",
    "\n",
    "\n",
    "# pc3\n",
    "modeval_arr = compute_modeval_array(-5, 5, 1)\n",
    "pc_modeval_arr_list.append(modeval_arr)\n",
    "\n",
    "# pc4\n",
    "modeval_arr = compute_modeval_array(-5, 5, 1)\n",
    "pc_modeval_arr_list.append(modeval_arr)\n",
    "\n",
    "# pc5\n",
    "modeval_arr = compute_modeval_array(-5, 5, 1)\n",
    "pc_modeval_arr_list.append(modeval_arr)\n",
    "\n",
    "# pc6\n",
    "modeval_arr = compute_modeval_array(-5, 5, 1)\n",
    "pc_modeval_arr_list.append(modeval_arr)\n",
    "\n",
    "\n",
    "# pc7\n",
    "modeval_arr = compute_modeval_array(-5, 5, 1)\n",
    "pc_modeval_arr_list.append(modeval_arr)\n",
    "\n",
    "# pc8\n",
    "modeval_arr = compute_modeval_array(-5, 5, 1)\n",
    "pc_modeval_arr_list.append(modeval_arr)\n",
    "\n",
    "\n",
    "\n",
    "# pc9\n",
    "modeval_arr = compute_modeval_array(-5, 5, 1)\n",
    "pc_modeval_arr_list.append(modeval_arr)\n",
    "\n",
    "# pc10\n",
    "modeval_arr = compute_modeval_array(-5, 5, 1)\n",
    "pc_modeval_arr_list.append(modeval_arr)\n",
    "\n",
    "# pc11\n",
    "modeval_arr = compute_modeval_array(-5, 5, 1)\n",
    "pc_modeval_arr_list.append(modeval_arr)\n",
    "\n",
    "# pc12\n",
    "modeval_arr = compute_modeval_array(-5, 5, 1)\n",
    "pc_modeval_arr_list.append(modeval_arr)\n",
    "\n",
    "# pc13\n",
    "modeval_arr = compute_modeval_array(-5, 5, 1)\n",
    "pc_modeval_arr_list.append(modeval_arr)\n",
    "\n",
    "# pc14\n",
    "modeval_arr = compute_modeval_array(-5, 5, 1)\n",
    "pc_modeval_arr_list.append(modeval_arr)"
   ]
  },
  {
   "cell_type": "code",
   "execution_count": null,
   "id": "7acb5eb2-72cb-4422-baf6-a93ba9628b34",
   "metadata": {},
   "outputs": [],
   "source": []
  },
  {
   "cell_type": "code",
   "execution_count": null,
   "id": "6d6b56e5-74cf-4919-b2da-c65e8482a87a",
   "metadata": {},
   "outputs": [],
   "source": []
  },
  {
   "cell_type": "code",
   "execution_count": 89,
   "id": "e811a9bb-5ea7-4cce-aef3-bb2eb335b056",
   "metadata": {},
   "outputs": [],
   "source": [
    "text_title_widget.value = 0"
   ]
  },
  {
   "cell_type": "code",
   "execution_count": null,
   "id": "55679431-9638-4136-8828-aa54e01e1421",
   "metadata": {},
   "outputs": [],
   "source": []
  },
  {
   "cell_type": "code",
   "execution_count": 90,
   "id": "b5f69661-64a5-4dc7-a160-3044d4fb67e5",
   "metadata": {},
   "outputs": [],
   "source": [
    "# pulse the top two modes in turn\n",
    "\n",
    "time.sleep(10)\n",
    "\n",
    "modeval_arr = compute_modeval_array(-5, 5, 0.5)\n",
    "\n",
    "for modeIdx in (0, 1):\n",
    "    modeval_arr = pc_modeval_arr_list[modeIdx]\n",
    "    text_title_widget.value = modeIdx\n",
    "    for val in modeval_arr:\n",
    "        pca_widget_list[modeIdx].value = val\n",
    "        time.sleep(0.01)\n",
    "        \n",
    "time.sleep(1)\n",
    "        \n",
    "for modeIdx in (2, 3, 4, 5, 6, 7):\n",
    "    modeval_arr = pc_modeval_arr_list[modeIdx]\n",
    "    text_title_widget.value = str(modeIdx)\n",
    "    for val in modeval_arr:\n",
    "        pca_widget_list[modeIdx].value = val\n",
    "        time.sleep(0.01)\n",
    "        \n",
    "# time.sleep(1)\n",
    "            \n",
    "# for modeIdx in (8, 9, 10, 11, 12, 13):\n",
    "#     modeval_arr = pc_modeval_arr_list[modeIdx]\n",
    "#     text_title_widget.value = str(modeIdx)\n",
    "#     for val in modeval_arr:\n",
    "#         pca_widget_list[modeIdx].value = val\n",
    "#         time.sleep(0.05)\n",
    "        "
   ]
  },
  {
   "cell_type": "code",
   "execution_count": null,
   "id": "77c6c033-53c5-4706-8e26-3bd008cdd9db",
   "metadata": {},
   "outputs": [],
   "source": []
  },
  {
   "cell_type": "code",
   "execution_count": null,
   "id": "a762e86f-0a9c-4976-8d81-3e4b3b8b3488",
   "metadata": {},
   "outputs": [],
   "source": []
  },
  {
   "cell_type": "code",
   "execution_count": null,
   "id": "34aeb2ee-938d-449d-adb3-5a2dc9cd4f66",
   "metadata": {},
   "outputs": [],
   "source": []
  },
  {
   "cell_type": "markdown",
   "id": "341fa8fe-50a1-4a2c-9541-2f00cc45650e",
   "metadata": {},
   "source": [
    "# Compute kin vars for all experiments"
   ]
  },
  {
   "cell_type": "code",
   "execution_count": null,
   "id": "fabc84f5-d480-4dd1-b568-3efa033bac7a",
   "metadata": {},
   "outputs": [],
   "source": []
  },
  {
   "cell_type": "code",
   "execution_count": 19,
   "id": "46529b2d-0466-4dc2-8f07-87918445b5ae",
   "metadata": {},
   "outputs": [],
   "source": [
    "from kinematics import compute_pec_pec_distance, compute_thetaW_and_thetaL\n",
    "from kinematics import compute_signed_pec_z_difference, compute_phi_dot_from_raw_trajectories, compute_coordinate_origin_z\n",
    "from kinematics import compute_pec_pec_distance_dot, compute_coordinate_origin_z_dot"
   ]
  },
  {
   "cell_type": "code",
   "execution_count": null,
   "id": "c2b36dce-0163-48df-9425-2294d877c3cf",
   "metadata": {},
   "outputs": [],
   "source": []
  },
  {
   "cell_type": "code",
   "execution_count": 20,
   "id": "ac60c294-ad96-4a95-8f60-9f4da556538e",
   "metadata": {},
   "outputs": [],
   "source": [
    "interp_polyOrd=1  # the order of the polynomial used for interpolation\n",
    "interp_limit=5    # the maximum number of frames to interpolate over\n",
    "savgol_win=9      # the number of frames for the Savitzky-Golay filter\n",
    "savgol_ord=2      # the polynomial order for the Savitzky-Golay filter\n",
    "dt=0.01           # the frame rate of the recording"
   ]
  },
  {
   "cell_type": "code",
   "execution_count": null,
   "id": "7b99cd59-da77-4cc4-b182-4f9cd30a3ac5",
   "metadata": {},
   "outputs": [],
   "source": []
  },
  {
   "cell_type": "code",
   "execution_count": 21,
   "id": "6ae8c83c-a979-4fa7-82b2-e810a97d97a1",
   "metadata": {},
   "outputs": [
    {
     "name": "stdout",
     "output_type": "stream",
     "text": [
      "FishTank20200127_143538\n"
     ]
    },
    {
     "name": "stderr",
     "output_type": "stream",
     "text": [
      "/home/liam/code/Dynamics_of_dominance/figures_code/../tracking_code/lib/kinematics.py:218: RuntimeWarning: invalid value encountered in true_divide\n",
      "  winnerPec_to_loserPec = winnerPec_to_loserPec / row_norms[:, np.newaxis]\n"
     ]
    },
    {
     "name": "stdout",
     "output_type": "stream",
     "text": [
      "FishTank20200129_140656\n"
     ]
    },
    {
     "name": "stderr",
     "output_type": "stream",
     "text": [
      "/home/liam/code/Dynamics_of_dominance/figures_code/../tracking_code/lib/kinematics.py:218: RuntimeWarning: invalid value encountered in true_divide\n",
      "  winnerPec_to_loserPec = winnerPec_to_loserPec / row_norms[:, np.newaxis]\n"
     ]
    },
    {
     "name": "stdout",
     "output_type": "stream",
     "text": [
      "FishTank20200130_153857\n"
     ]
    },
    {
     "name": "stderr",
     "output_type": "stream",
     "text": [
      "/home/liam/code/Dynamics_of_dominance/figures_code/../tracking_code/lib/kinematics.py:218: RuntimeWarning: invalid value encountered in true_divide\n",
      "  winnerPec_to_loserPec = winnerPec_to_loserPec / row_norms[:, np.newaxis]\n"
     ]
    },
    {
     "name": "stdout",
     "output_type": "stream",
     "text": [
      "FishTank20200130_181614\n"
     ]
    },
    {
     "name": "stderr",
     "output_type": "stream",
     "text": [
      "/home/liam/code/Dynamics_of_dominance/figures_code/../tracking_code/lib/kinematics.py:218: RuntimeWarning: invalid value encountered in true_divide\n",
      "  winnerPec_to_loserPec = winnerPec_to_loserPec / row_norms[:, np.newaxis]\n"
     ]
    },
    {
     "name": "stdout",
     "output_type": "stream",
     "text": [
      "FishTank20200207_161445\n"
     ]
    },
    {
     "name": "stderr",
     "output_type": "stream",
     "text": [
      "/home/liam/code/Dynamics_of_dominance/figures_code/../tracking_code/lib/kinematics.py:218: RuntimeWarning: invalid value encountered in true_divide\n",
      "  winnerPec_to_loserPec = winnerPec_to_loserPec / row_norms[:, np.newaxis]\n"
     ]
    },
    {
     "name": "stdout",
     "output_type": "stream",
     "text": [
      "FishTank20200213_154940\n"
     ]
    },
    {
     "name": "stderr",
     "output_type": "stream",
     "text": [
      "/home/liam/code/Dynamics_of_dominance/figures_code/../tracking_code/lib/kinematics.py:218: RuntimeWarning: invalid value encountered in true_divide\n",
      "  winnerPec_to_loserPec = winnerPec_to_loserPec / row_norms[:, np.newaxis]\n"
     ]
    },
    {
     "name": "stdout",
     "output_type": "stream",
     "text": [
      "FishTank20200214_153519\n"
     ]
    },
    {
     "name": "stderr",
     "output_type": "stream",
     "text": [
      "/home/liam/code/Dynamics_of_dominance/figures_code/../tracking_code/lib/kinematics.py:218: RuntimeWarning: invalid value encountered in true_divide\n",
      "  winnerPec_to_loserPec = winnerPec_to_loserPec / row_norms[:, np.newaxis]\n"
     ]
    },
    {
     "name": "stdout",
     "output_type": "stream",
     "text": [
      "FishTank20200217_160052\n"
     ]
    },
    {
     "name": "stderr",
     "output_type": "stream",
     "text": [
      "/home/liam/code/Dynamics_of_dominance/figures_code/../tracking_code/lib/kinematics.py:218: RuntimeWarning: invalid value encountered in true_divide\n",
      "  winnerPec_to_loserPec = winnerPec_to_loserPec / row_norms[:, np.newaxis]\n"
     ]
    },
    {
     "name": "stdout",
     "output_type": "stream",
     "text": [
      "FishTank20200218_153008\n"
     ]
    },
    {
     "name": "stderr",
     "output_type": "stream",
     "text": [
      "/home/liam/code/Dynamics_of_dominance/figures_code/../tracking_code/lib/kinematics.py:218: RuntimeWarning: invalid value encountered in true_divide\n",
      "  winnerPec_to_loserPec = winnerPec_to_loserPec / row_norms[:, np.newaxis]\n"
     ]
    },
    {
     "name": "stdout",
     "output_type": "stream",
     "text": [
      "FishTank20200316_163320\n"
     ]
    },
    {
     "name": "stderr",
     "output_type": "stream",
     "text": [
      "/home/liam/code/Dynamics_of_dominance/figures_code/../tracking_code/lib/kinematics.py:218: RuntimeWarning: invalid value encountered in true_divide\n",
      "  winnerPec_to_loserPec = winnerPec_to_loserPec / row_norms[:, np.newaxis]\n"
     ]
    },
    {
     "name": "stdout",
     "output_type": "stream",
     "text": [
      "FishTank20200327_154737\n"
     ]
    },
    {
     "name": "stderr",
     "output_type": "stream",
     "text": [
      "/home/liam/code/Dynamics_of_dominance/figures_code/../tracking_code/lib/kinematics.py:218: RuntimeWarning: invalid value encountered in true_divide\n",
      "  winnerPec_to_loserPec = winnerPec_to_loserPec / row_norms[:, np.newaxis]\n"
     ]
    },
    {
     "name": "stdout",
     "output_type": "stream",
     "text": [
      "FishTank20200330_161100\n"
     ]
    },
    {
     "name": "stderr",
     "output_type": "stream",
     "text": [
      "/home/liam/code/Dynamics_of_dominance/figures_code/../tracking_code/lib/kinematics.py:218: RuntimeWarning: invalid value encountered in true_divide\n",
      "  winnerPec_to_loserPec = winnerPec_to_loserPec / row_norms[:, np.newaxis]\n"
     ]
    },
    {
     "name": "stdout",
     "output_type": "stream",
     "text": [
      "FishTank20200331_162136\n"
     ]
    },
    {
     "name": "stderr",
     "output_type": "stream",
     "text": [
      "/home/liam/code/Dynamics_of_dominance/figures_code/../tracking_code/lib/kinematics.py:218: RuntimeWarning: invalid value encountered in true_divide\n",
      "  winnerPec_to_loserPec = winnerPec_to_loserPec / row_norms[:, np.newaxis]\n"
     ]
    },
    {
     "name": "stdout",
     "output_type": "stream",
     "text": [
      "FishTank20200520_152810\n"
     ]
    },
    {
     "name": "stderr",
     "output_type": "stream",
     "text": [
      "/home/liam/code/Dynamics_of_dominance/figures_code/../tracking_code/lib/kinematics.py:218: RuntimeWarning: invalid value encountered in true_divide\n",
      "  winnerPec_to_loserPec = winnerPec_to_loserPec / row_norms[:, np.newaxis]\n"
     ]
    },
    {
     "name": "stdout",
     "output_type": "stream",
     "text": [
      "FishTank20200521_154541\n"
     ]
    },
    {
     "name": "stderr",
     "output_type": "stream",
     "text": [
      "/home/liam/code/Dynamics_of_dominance/figures_code/../tracking_code/lib/kinematics.py:218: RuntimeWarning: invalid value encountered in true_divide\n",
      "  winnerPec_to_loserPec = winnerPec_to_loserPec / row_norms[:, np.newaxis]\n"
     ]
    },
    {
     "name": "stdout",
     "output_type": "stream",
     "text": [
      "FishTank20200525_161602\n"
     ]
    },
    {
     "name": "stderr",
     "output_type": "stream",
     "text": [
      "/home/liam/code/Dynamics_of_dominance/figures_code/../tracking_code/lib/kinematics.py:218: RuntimeWarning: invalid value encountered in true_divide\n",
      "  winnerPec_to_loserPec = winnerPec_to_loserPec / row_norms[:, np.newaxis]\n"
     ]
    },
    {
     "name": "stdout",
     "output_type": "stream",
     "text": [
      "FishTank20200526_160100\n"
     ]
    },
    {
     "name": "stderr",
     "output_type": "stream",
     "text": [
      "/home/liam/code/Dynamics_of_dominance/figures_code/../tracking_code/lib/kinematics.py:24: RuntimeWarning: invalid value encountered in true_divide\n",
      "  vec_ts = vec_ts / row_norms[:, np.newaxis]\n",
      "/home/liam/code/Dynamics_of_dominance/figures_code/../tracking_code/lib/kinematics.py:218: RuntimeWarning: invalid value encountered in true_divide\n",
      "  winnerPec_to_loserPec = winnerPec_to_loserPec / row_norms[:, np.newaxis]\n"
     ]
    },
    {
     "name": "stdout",
     "output_type": "stream",
     "text": [
      "FishTank20200527_152401\n",
      "FishTank20200824_151740\n"
     ]
    },
    {
     "name": "stderr",
     "output_type": "stream",
     "text": [
      "/home/liam/code/Dynamics_of_dominance/figures_code/../tracking_code/lib/kinematics.py:218: RuntimeWarning: invalid value encountered in true_divide\n",
      "  winnerPec_to_loserPec = winnerPec_to_loserPec / row_norms[:, np.newaxis]\n"
     ]
    },
    {
     "name": "stdout",
     "output_type": "stream",
     "text": [
      "FishTank20200828_155504\n"
     ]
    },
    {
     "name": "stderr",
     "output_type": "stream",
     "text": [
      "/home/liam/code/Dynamics_of_dominance/figures_code/../tracking_code/lib/kinematics.py:218: RuntimeWarning: invalid value encountered in true_divide\n",
      "  winnerPec_to_loserPec = winnerPec_to_loserPec / row_norms[:, np.newaxis]\n"
     ]
    },
    {
     "name": "stdout",
     "output_type": "stream",
     "text": [
      "FishTank20200902_160124\n"
     ]
    },
    {
     "name": "stderr",
     "output_type": "stream",
     "text": [
      "/home/liam/code/Dynamics_of_dominance/figures_code/../tracking_code/lib/kinematics.py:218: RuntimeWarning: invalid value encountered in true_divide\n",
      "  winnerPec_to_loserPec = winnerPec_to_loserPec / row_norms[:, np.newaxis]\n"
     ]
    },
    {
     "name": "stdout",
     "output_type": "stream",
     "text": [
      "FishTank20200903_160946\n"
     ]
    },
    {
     "name": "stderr",
     "output_type": "stream",
     "text": [
      "/home/liam/code/Dynamics_of_dominance/figures_code/../tracking_code/lib/kinematics.py:218: RuntimeWarning: invalid value encountered in true_divide\n",
      "  winnerPec_to_loserPec = winnerPec_to_loserPec / row_norms[:, np.newaxis]\n"
     ]
    },
    {
     "name": "stdout",
     "output_type": "stream",
     "text": [
      "\n",
      "finished: 20.98891215119511 s\n"
     ]
    }
   ],
   "source": [
    "t0 = time.perf_counter()\n",
    "\n",
    "exp_dpps = []\n",
    "exp_tetWs = []\n",
    "exp_tetLs = []\n",
    "\n",
    "exp_phi_dots = []\n",
    "exp_dpp_dots = []\n",
    "exp_pec_z_differences = []\n",
    "exp_Oz_dots = []\n",
    "\n",
    "\n",
    "for ii, expName in enumerate(expNames):\n",
    "    print(expName)\n",
    "    \n",
    "    smooth_traj = smooth_trajectories[ii]\n",
    "    raw_traj = raw_trajectories[ii]\n",
    "    winIdx = winner_idxs[ii]\n",
    "    losIdx = loser_idxs[ii]\n",
    "    \n",
    "    dpp_ts = compute_pec_pec_distance(smooth_traj)\n",
    "    tetW_ts, tetL_ts = compute_thetaW_and_thetaL(smooth_traj, winIdx, losIdx)\n",
    "    exp_dpps.append(dpp_ts)\n",
    "    exp_tetWs.append(tetW_ts)\n",
    "    exp_tetLs.append(tetL_ts)\n",
    "    \n",
    "    \n",
    "    phi_dot = compute_phi_dot_from_raw_trajectories(raw_traj, winIdx, losIdx, dt=dt,\n",
    "                                                    interp_max_gap=interp_limit, interp_polyOrd=interp_polyOrd,\n",
    "                                                    smooth_polyOrd=savgol_ord, smooth_winSize=savgol_win)\n",
    "    exp_phi_dots.append(phi_dot)\n",
    "    \n",
    "    \n",
    "    signed_pec_z_difference = compute_signed_pec_z_difference(smooth_traj, winIdx, losIdx)\n",
    "    exp_pec_z_differences.append(signed_pec_z_difference)\n",
    "    \n",
    "    dpp_dot = compute_pec_pec_distance_dot(raw_traj,  dt=dt,\n",
    "                                            interp_max_gap=interp_limit, interp_polyOrd=interp_polyOrd,\n",
    "                                            smooth_polyOrd=savgol_ord, smooth_winSize=savgol_win)\n",
    "    exp_dpp_dots.append(dpp_dot)\n",
    "    \n",
    "    \n",
    "    Oz_dot = compute_coordinate_origin_z_dot(raw_traj, winIdx, losIdx, dt=dt,\n",
    "                                             interp_max_gap=interp_limit, interp_polyOrd=interp_polyOrd, \n",
    "                                             smooth_polyOrd=savgol_ord, smooth_winSize=savgol_win)\n",
    "    exp_Oz_dots.append(Oz_dot)\n",
    "    \n",
    "    \n",
    "tE = time.perf_counter()\n",
    "print()\n",
    "print('finished: {0} s'.format(tE-t0))"
   ]
  },
  {
   "cell_type": "code",
   "execution_count": null,
   "id": "2848976c-58fa-4f6a-a397-c0af7b6ea882",
   "metadata": {},
   "outputs": [],
   "source": []
  },
  {
   "cell_type": "code",
   "execution_count": 24,
   "id": "bbe7d6eb-6be4-4dce-9d28-9f0ab3818be1",
   "metadata": {},
   "outputs": [],
   "source": [
    "# --- Master sets of plotting --- #\n",
    "dpp_dot_master = np.concatenate(exp_dpp_dots)\n",
    "phi_dot_master = np.concatenate(exp_phi_dots)\n",
    "pec_z_difference_master = np.concatenate(exp_pec_z_differences)\n",
    "Oz_dots_master = np.concatenate(exp_Oz_dots)\n",
    "\n",
    "dpp_master = np.concatenate(exp_dpps)\n",
    "tetW_master = np.concatenate(exp_tetWs)\n",
    "tetL_master = np.concatenate(exp_tetLs)\n",
    "\n",
    "\n"
   ]
  },
  {
   "cell_type": "code",
   "execution_count": null,
   "id": "bc3e7f91-e3dc-41e3-a23e-85bf0e6922b9",
   "metadata": {},
   "outputs": [],
   "source": []
  },
  {
   "cell_type": "code",
   "execution_count": null,
   "id": "a6c3ae87-459b-4b07-a257-fb46829cb0b8",
   "metadata": {},
   "outputs": [],
   "source": []
  },
  {
   "cell_type": "code",
   "execution_count": null,
   "id": "b2adc711-390d-47fb-8fc0-3cafa55ec164",
   "metadata": {},
   "outputs": [],
   "source": []
  },
  {
   "cell_type": "code",
   "execution_count": null,
   "id": "87ed9e67-b186-4505-81ba-70e78a9d6b63",
   "metadata": {},
   "outputs": [],
   "source": []
  },
  {
   "cell_type": "markdown",
   "id": "ec6c86b5-a61a-4914-a8b4-584d2a0edb47",
   "metadata": {},
   "source": [
    "# compute the autocorrs for a single experiment, for 5s lags"
   ]
  },
  {
   "cell_type": "code",
   "execution_count": 25,
   "id": "b6f764d1-37eb-4450-b183-94841440be93",
   "metadata": {},
   "outputs": [
    {
     "data": {
      "text/plain": [
       "'FishTank20200331_162136'"
      ]
     },
     "execution_count": 25,
     "metadata": {},
     "output_type": "execute_result"
    }
   ],
   "source": [
    "expIdx = 12\n",
    "expNames[expIdx]"
   ]
  },
  {
   "cell_type": "code",
   "execution_count": null,
   "id": "9705766d-a8c8-44b1-9c14-81090c30e888",
   "metadata": {},
   "outputs": [],
   "source": []
  },
  {
   "cell_type": "code",
   "execution_count": 26,
   "id": "9a4e23e0-9c3b-4f51-a9cb-320dbe4e9d78",
   "metadata": {},
   "outputs": [
    {
     "name": "stdout",
     "output_type": "stream",
     "text": [
      "106.13351417332888  s\n"
     ]
    }
   ],
   "source": [
    "t0 = time.perf_counter()  \n",
    "\n",
    "# make sure winner is first\n",
    "smooth_traj = np.copy(smooth_trajectories[expIdx])\n",
    "winnerIdx = winner_idxs[expIdx]\n",
    "\n",
    "# compute the 14D rep for the experiment\n",
    "exp_14D_rep = compute_14D_rep_from_trajectories(smooth_traj, winnerIdx)\n",
    "\n",
    "# create the mode timeseries\n",
    "exp_mode_ts = project_14D_rep_onto_modes(exp_14D_rep, coord_handler.eigvecs, numProjectionModes=14)\n",
    "\n",
    "\n",
    "tE = time.perf_counter()\n",
    "print(tE-t0, ' s')"
   ]
  },
  {
   "cell_type": "code",
   "execution_count": null,
   "id": "44022495-1ab3-48eb-9223-f061db7e1830",
   "metadata": {},
   "outputs": [],
   "source": []
  },
  {
   "cell_type": "code",
   "execution_count": 27,
   "id": "89223547-014d-476b-a163-5486bf825b7b",
   "metadata": {},
   "outputs": [],
   "source": [
    "# get the dpp,tetW,tetL data\n",
    "dpp = exp_dpps[expIdx]\n",
    "tetW = exp_tetWs[expIdx]\n",
    "tetL = exp_tetLs[expIdx]"
   ]
  },
  {
   "cell_type": "code",
   "execution_count": null,
   "id": "caf23ced-eb46-4b1c-b650-823a1b58980c",
   "metadata": {},
   "outputs": [],
   "source": []
  },
  {
   "cell_type": "code",
   "execution_count": 33,
   "id": "7ded1ca7-e28c-4f55-89f7-2977220241a7",
   "metadata": {},
   "outputs": [
    {
     "name": "stdout",
     "output_type": "stream",
     "text": [
      "0  done\n",
      "1  done\n",
      "2  done\n",
      "3  done\n",
      "4  done\n",
      "5  done\n",
      "6  done\n",
      "7  done\n",
      "8  done\n",
      "9  done\n",
      "10  done\n",
      "11  done\n",
      "12  done\n",
      "13  done\n",
      "dpp done\n",
      "tetW done\n",
      "tetL done\n",
      "2722.5565921282396\n"
     ]
    }
   ],
   "source": [
    "# ----- correlations ----- #\n",
    "t0 = time.perf_counter()\n",
    "\n",
    "\n",
    "maxLag=5000\n",
    "numSamples=50000\n",
    "min_numSamples_allowed=10000\n",
    "\n",
    "\n",
    "pca_lag_results = []\n",
    "for pcIdx in range(exp_mode_ts.shape[1]):\n",
    "    ts = exp_mode_ts[:,pcIdx]\n",
    "    lag_sizes, lag_results = cross_correlation(ts, ts, maxLag=maxLag, numSamples=numSamples, min_numSamples_allowed=min_numSamples_allowed)\n",
    "    pca_lag_results.append(lag_results)\n",
    "    print(pcIdx, ' done')\n",
    "    \n",
    "\n",
    "dpp_lag_sizes, dpp_lag_results = cross_correlation(dpp, dpp, maxLag=maxLag, numSamples=numSamples, min_numSamples_allowed=min_numSamples_allowed)\n",
    "print('dpp done')\n",
    "\n",
    "tetW_lag_sizes, tetW_lag_results = angular_cross_correlation(tetW, tetW, maxLag=maxLag, numSamples=numSamples, min_numSamples_allowed=min_numSamples_allowed)\n",
    "print('tetW done')\n",
    "\n",
    "tetL_lag_sizes, tetL_lag_results = angular_cross_correlation(tetL, tetL, maxLag=maxLag, numSamples=numSamples, min_numSamples_allowed=min_numSamples_allowed)\n",
    "print('tetL done')\n",
    "    \n",
    "\n",
    "tE = time.perf_counter()\n",
    "print(tE-t0)\n"
   ]
  },
  {
   "cell_type": "code",
   "execution_count": 34,
   "id": "9fc935b1-12aa-4624-a719-5be9dea90cbf",
   "metadata": {},
   "outputs": [
    {
     "data": {
      "text/plain": [
       "45.36666666666667"
      ]
     },
     "execution_count": 34,
     "metadata": {},
     "output_type": "execute_result"
    }
   ],
   "source": [
    "2722/60"
   ]
  },
  {
   "cell_type": "code",
   "execution_count": null,
   "id": "93d783fa-d93e-4144-858d-f723ca7efc46",
   "metadata": {},
   "outputs": [],
   "source": []
  },
  {
   "cell_type": "markdown",
   "id": "c0cdc114-185b-4560-81d4-39f662e9178f",
   "metadata": {},
   "source": [
    "# Panel B"
   ]
  },
  {
   "cell_type": "code",
   "execution_count": null,
   "id": "90c116d3-c2a7-4f92-9f3e-57ee29d778cf",
   "metadata": {},
   "outputs": [],
   "source": []
  },
  {
   "cell_type": "code",
   "execution_count": 47,
   "id": "e8cbcecf-dd28-46ad-a6cd-bb9f2c1d6257",
   "metadata": {},
   "outputs": [
    {
     "data": {
      "application/vnd.jupyter.widget-view+json": {
       "model_id": "9f16cc4eb78142ccbda0996ecf7bd6f0",
       "version_major": 2,
       "version_minor": 0
      },
      "text/html": [
       "\n",
       "            <div style=\"display: inline-block;\">\n",
       "                <div class=\"jupyter-widgets widget-label\" style=\"text-align: center;\">\n",
       "                    Figure\n",
       "                </div>\n",
       "                <img src='data:image/png;base64,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' width=170.0/>\n",
       "            </div>\n",
       "        "
      ],
      "text/plain": [
       "Canvas(toolbar=Toolbar(toolitems=[('Home', 'Reset original view', 'home', 'home'), ('Back', 'Back to previous …"
      ]
     },
     "metadata": {},
     "output_type": "display_data"
    }
   ],
   "source": [
    "t0 = time.time()\n",
    "\n",
    "# set up the figure\n",
    "# 2.8,1.6\n",
    "#fig, axs = plt.subplots(figsize=(2.8,1.6)) #plt.subplots(figsize=(16,6))\n",
    "fig, axs = plt.subplots(1,1, figsize=(1.7,1.2))\n",
    "\n",
    "# make the color-list\n",
    "color_list = []\n",
    "for i in range(2):\n",
    "    color_list.append(c1)\n",
    "for i in range(2,8):\n",
    "    color_list.append(c2)\n",
    "for i in range(8, 14):\n",
    "    color_list.append(c3)\n",
    "    \n",
    "    \n",
    "# use the one set of lags\n",
    "lags = lag_sizes[5000:]\n",
    "\n",
    "\n",
    "# plot all the autocorrelations\n",
    "for i in range(14):\n",
    "    pca_cc = pca_lag_results[i]\n",
    "    axs.plot(lags, pca_cc[5000:], color=color_list[i], lw=1.5, alpha=0.5)\n",
    "    \n",
    "    \n",
    "    \n",
    "# plot the new vars\n",
    "axs.plot(lags, dpp_lag_results[5000:], color='black', lw=1.5)\n",
    "axs.plot(lags, tetW_lag_results[5000:], color='red', lw=1.5)\n",
    "axs.plot(lags, tetL_lag_results[5000:], color='blue', lw=1.5)\n",
    "\n",
    "# set x axis params\n",
    "xticks = [0,100,200,300,400,500]\n",
    "xtick_labels = []\n",
    "axs.set_xticks(xticks)\n",
    "axs.set_xticklabels([])\n",
    "axs.set_xlim(0, 500)\n",
    "    \n",
    "\n",
    "\n",
    "\n",
    "# set y axis params\n",
    "axs.set_ylim((0,1))\n",
    "axs.set_yticks([0, 1])\n",
    "axs.set_yticklabels([])\n",
    "\n",
    "\n",
    "# The spines and ticks\n",
    "for axis in ['left', 'right', 'top', 'bottom']:\n",
    "    ax.spines[axis].set_linewidth(0.9)\n",
    "ax.xaxis.set_tick_params(width=1, length=2)\n",
    "ax.yaxis.set_tick_params(width=1, length=2)\n",
    "\n",
    "\n",
    "\n",
    "# save and finish\n",
    "#fig.tight_layout()\n",
    "fig.savefig('/home/liam/temp/image_transfer/fig2_B.png', dpi=900, transparent=True)\n",
    "\n",
    "\n",
    "# tE = time.time()\n",
    "# print(tE-t0)"
   ]
  },
  {
   "cell_type": "code",
   "execution_count": null,
   "id": "03e923a5-0939-41d8-a067-f9694362f8eb",
   "metadata": {},
   "outputs": [],
   "source": []
  },
  {
   "cell_type": "code",
   "execution_count": null,
   "id": "cdf36f85-f9ee-4eb2-b0d7-6383154e531c",
   "metadata": {},
   "outputs": [],
   "source": []
  },
  {
   "cell_type": "code",
   "execution_count": null,
   "id": "794f718d-3eb9-49ed-b912-ce69b6e56568",
   "metadata": {},
   "outputs": [],
   "source": []
  },
  {
   "cell_type": "code",
   "execution_count": null,
   "id": "50b8f93d-5db3-4cc7-9cef-c7d2907d9b99",
   "metadata": {},
   "outputs": [],
   "source": []
  },
  {
   "cell_type": "code",
   "execution_count": null,
   "id": "2217bdcc-75df-4f38-bb0d-9ac1e122fa4c",
   "metadata": {},
   "outputs": [],
   "source": []
  }
 ],
 "metadata": {
  "kernelspec": {
   "display_name": "analysis",
   "language": "python",
   "name": "analysis"
  },
  "language_info": {
   "codemirror_mode": {
    "name": "ipython",
    "version": 3
   },
   "file_extension": ".py",
   "mimetype": "text/x-python",
   "name": "python",
   "nbconvert_exporter": "python",
   "pygments_lexer": "ipython3",
   "version": "3.9.7"
  },
  "toc-showcode": false
 },
 "nbformat": 4,
 "nbformat_minor": 5
}
