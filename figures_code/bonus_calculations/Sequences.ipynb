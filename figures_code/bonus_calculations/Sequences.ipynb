{
 "cells": [
  {
   "cell_type": "code",
   "execution_count": null,
   "id": "8dce474b-ff82-45f8-8d31-601d5e217bf3",
   "metadata": {},
   "outputs": [],
   "source": []
  },
  {
   "cell_type": "markdown",
   "id": "a06ad90c-9492-45f0-8c33-97b2c2e15f47",
   "metadata": {},
   "source": [
    "# Notes"
   ]
  },
  {
   "cell_type": "markdown",
   "id": "11dd8b84-aa4b-4b80-a406-15f18e0d0d01",
   "metadata": {},
   "source": [
    "This notebook is for calculations on sequences of fight maneuvers.\n",
    "See Liam's thesis.\n"
   ]
  },
  {
   "cell_type": "code",
   "execution_count": null,
   "id": "3e91f8af-6e77-47c7-9c61-b80df90ef29e",
   "metadata": {},
   "outputs": [],
   "source": []
  },
  {
   "cell_type": "code",
   "execution_count": null,
   "id": "f47abab5-a698-41ee-8d58-d13cd72fc59c",
   "metadata": {},
   "outputs": [],
   "source": []
  },
  {
   "cell_type": "markdown",
   "id": "0b7a9bb6-1767-41e8-92dc-fddd198bce9e",
   "metadata": {},
   "source": [
    "# Imports"
   ]
  },
  {
   "cell_type": "code",
   "execution_count": 3,
   "id": "0ffc9353-7621-4809-8238-000f55235c2a",
   "metadata": {},
   "outputs": [
    {
     "name": "stdout",
     "output_type": "stream",
     "text": [
      "The autoreload extension is already loaded. To reload it, use:\n",
      "  %reload_ext autoreload\n"
     ]
    }
   ],
   "source": [
    "import numpy as np\n",
    "np.set_printoptions(suppress=True)\n",
    "import h5py\n",
    "import time\n",
    "import glob\n",
    "import pandas as pd\n",
    "import matplotlib.pyplot as plt\n",
    "from matplotlib.colors import to_rgb\n",
    "import matplotlib as mpl\n",
    "import matplotlib.patches as mpatches\n",
    "import cv2\n",
    "from pylab import cm\n",
    "from matplotlib.colors import LogNorm\n",
    "from scipy.spatial import distance\n",
    "from scipy.optimize import curve_fit\n",
    "import seaborn as sns\n",
    "import os\n",
    "import sys\n",
    "%matplotlib widget\n",
    "%load_ext autoreload\n",
    "%autoreload 2\n",
    "\n",
    "# --- import functions for computing kinematic variables --- #\n",
    "sys.path.append('../../tracking_code/lib/')\n",
    "sys.path.append('../lib/')\n",
    "\n",
    "# adding the infomap libs\n",
    "from infomap_utils import make_dictionary_of_state_numberings, find_binIdxs_for_timeseries\n",
    "from infomap_utils import build_transition_matrix, apply_infomap_clustering_to_transition_matrix\n",
    "from infomap_utils import make_binTuple_to_clusterIdx_dict\n",
    "from post_processing import contiguous_regions\n",
    "from post_processing import process_1D_timeseries\n",
    "\n",
    "# from kinematics import compute_pec_pec_distance, compute_thetaW_and_thetaL, compute_pitch_angles\n",
    "# from kinematics import compute_signed_pec_z_difference, compute_phi_dot_from_raw_trajectories, compute_coordinate_origin_z\n",
    "# from post_processing import contiguous_regions\n",
    "# from windowed_prob_utils import return_overlapping_windows_for_timeframes, compute_windowed_distribution_array_from_1D_tseries\n",
    "# from windowed_prob_utils import get_fightbout_rectangle_info\n"
   ]
  },
  {
   "cell_type": "code",
   "execution_count": null,
   "id": "9013180b-cd2e-465e-8cb5-664caeb4bb88",
   "metadata": {},
   "outputs": [],
   "source": []
  },
  {
   "cell_type": "code",
   "execution_count": null,
   "id": "021ce29f-a439-4cfb-8d8e-687b7f6d1825",
   "metadata": {},
   "outputs": [],
   "source": []
  },
  {
   "cell_type": "markdown",
   "id": "e30d0a2e-1a41-473c-ba47-465bb8ceeb55",
   "metadata": {},
   "source": [
    "# Functions "
   ]
  },
  {
   "cell_type": "code",
   "execution_count": 4,
   "id": "f5cbdd2d-6e04-47f3-9295-b9f1f9628a31",
   "metadata": {},
   "outputs": [],
   "source": [
    "def return_state_probabilities_from_state_tseries(state_tseries, numLabelledStates):\n",
    "    ''' Return the probabilities of each state in the state_tseries. \n",
    "        Each value in state_tseries is between 0 and numLabelledStates-1, or NaN,\n",
    "        or -1 if it was belonging to another cluster (nonlabelled cluster)\n",
    "        Return the probability of each state as a vector, with the last entry being prob\n",
    "        of another cluster, and NaN data excluded.\n",
    "    \n",
    "    --- args ---\n",
    "    state_tseries: a 1D timeseries of cluster indexes, starting from -1,  \n",
    "                   Can contains NaNs.\n",
    "    numLabelledStates: the number of state indices that should appear in state_tseries.\n",
    "                       Pass this in case no values are found for some indices, in which\n",
    "                       case we know how many zero probabilities to return.\n",
    "               \n",
    "    --- returns ---\n",
    "    state_probs: 1D array of shape (numLabelledStates+1,), containing the probability of \n",
    "                 each cluster idx and lastly the probability of nonlabelled clusters\n",
    "    '''\n",
    "    # add one state for -1 (nonlabelled cluster)\n",
    "    numStates = numLabelledStates + 1\n",
    "    # preallocate the output\n",
    "    state_probs = np.zeros((numStates,))\n",
    "    #  find the number of frames in total excluding NaN frames\n",
    "    state_tseries_nanless = state_tseries[~np.isnan(state_tseries)]\n",
    "    numFrames = state_tseries_nanless.shape[0]\n",
    "    # if we have no non-nan frames, all probs are zero except the last\n",
    "    if numFrames == 0:\n",
    "        return state_probs\n",
    "    else:\n",
    "        # first compute main states probs\n",
    "        for stateIdx in range(numLabelledStates):\n",
    "            state_counts = np.where(state_tseries_nanless==stateIdx)[0].shape[0]\n",
    "            state_probs[stateIdx] = state_counts / numFrames\n",
    "        # now add the final NaN probability\n",
    "        other_state_counts = np.where(state_tseries_nanless==-1)[0].shape[0]\n",
    "        state_probs[-1] = other_state_counts / numFrames\n",
    "        return state_probs\n",
    "\n",
    "\n",
    "    \n",
    "def compute_state_probabilities_in_time_windows(state_tseries, time_windows, numLabelledStates):\n",
    "    ''' Compute the probability of each of the state indices in state_tseries, in\n",
    "        each of the windows in time_windows.\n",
    "    \n",
    "    --- args ---\n",
    "    state_tseries: a 1D timeseries of cluster indexes, starting from 0 to (numLabelledClusters-1)\n",
    "                   for the labelled states, -1 for all nonlabelled states, and NaN for missing data.\n",
    "    time_windows: array of shape (numWins,2), where each row contains a start frame\n",
    "                  and a stop frame which define a region in time. The probabilities\n",
    "                  are estimated in each of these regions in time.\n",
    "    numLabelledStates: the number of state indices that should appear in state_tseries.\n",
    "                       Pass this in case no values are found for some indices, in which\n",
    "                       case we know how many zero probabilities to return.\n",
    "               \n",
    "    --- returns ---\n",
    "    window_state_probabilities: a (numWinds, numLabelledStates+1) array containing the \n",
    "                                probability of each cluster idx and lastly the probability of \n",
    "                                nonlabelled cluster occuring. \n",
    "                                \n",
    "    --- see also ---\n",
    "    return_state_probabilities_from_state_tseries: \n",
    "    the function which does the main computation in each time window.\n",
    "    \n",
    "    '''\n",
    "    numWins = time_windows.shape[0]\n",
    "    window_state_probabilities = np.zeros((numWins, numLabelledStates+1)) # plus1 for the nonlabelled states\n",
    "    for winIdx in range(numWins):\n",
    "        w0,wE = time_windows[winIdx]\n",
    "        win_data = state_tseries[w0:wE]\n",
    "        win_state_probs = return_state_probabilities_from_state_tseries(win_data, numLabelledStates)\n",
    "        window_state_probabilities[winIdx] = win_state_probs\n",
    "    return window_state_probabilities"
   ]
  },
  {
   "cell_type": "code",
   "execution_count": 5,
   "id": "d3604225-ea0f-4ec2-b9d6-294ee608de9e",
   "metadata": {},
   "outputs": [],
   "source": [
    "def return_region_win_state_probs(region_data, all_exp_window_state_probabilities, all_exp_time_windows, all_exp_numFrames):\n",
    "    ''' Return the list over fight-bouts, containing the windowed state probabilities for the chosen region.\n",
    "    \n",
    "    --- args ---\n",
    "    region_data: array (numBouts,3), where first col is exp idxs, 2nd and 3rd cols are the start/stop\n",
    "                 frames of certain regions, e.g. 3 mins before a fightbout.\n",
    "    \n",
    "    all_exp_window_state_probabilities: the list over experiments, containing the windowed state probability of\n",
    "                                        infomap clusters, e.g. each element of the list is a (numWins, 11) array,\n",
    "                                        where 11 is the number of states and state vals sum to 1.\n",
    "                                        \n",
    "    all_exp_time_windows: the list over experiments, with elements being the time windows associated with the \n",
    "                          state probabilities in all_exp_window_state_probabilities.\n",
    "                          \n",
    "    all_exp_numFrames: a list over experiments containing the number of frames in each experiment.\n",
    "                          \n",
    "    --- return ---\n",
    "    exps_region_win_state_probs: a list over fight bouts, where each element is a (numRegionWins,numStates) array\n",
    "                                 of state proabilities for windows during the chosen region for a particular fight bout.\n",
    "                                 \n",
    "    --- see also ---\n",
    "    find_time_window_indices_bounding_start_and_stop_frame()\n",
    "    \n",
    "    '''\n",
    "    #exps_region_time_wins = []\n",
    "    exps_region_win_state_probs = []\n",
    "\n",
    "    skipped_bIdxs = []\n",
    "    for bIdx in range(region_data.shape[0]):\n",
    "        expIdx, t0, tE = region_data[bIdx]\n",
    "        \n",
    "        # if t0 is negative, exclude this fight bout\n",
    "        # if tE is greater than the number of frames in the experiment, exclude fight bout\n",
    "        if t0 < 0:\n",
    "            skipped_bIdxs.append(bIdx)\n",
    "            continue\n",
    "        expnfs = expNumFrames[expIdx]\n",
    "        if tE > expnfs:\n",
    "            skipped_bIdxs.append(bIdx)\n",
    "            continue\n",
    "\n",
    "        exp_win_state_probs = all_exp_window_state_probabilities[expIdx]\n",
    "        exp_time_wins = all_exp_time_windows[expIdx]\n",
    "\n",
    "        desired_first_win_idx, desired_last_win_idx = find_time_window_indices_bounding_start_and_stop_frame(exp_time_wins, \n",
    "                                                                                                             t0, tE)\n",
    "\n",
    "        #region_time_wins = exp_time_wins[desired_first_win_idx:desired_last_win_idx+1, :] #+1 to get the last win\n",
    "        region_win_state_probs = np.copy(exp_win_state_probs[desired_first_win_idx:desired_last_win_idx+1, :])\n",
    "\n",
    "        #exps_region_time_wins.append(region_time_wins)\n",
    "        exps_region_win_state_probs.append(region_win_state_probs)\n",
    "    \n",
    "    \n",
    "    return exps_region_win_state_probs\n",
    "\n",
    "\n",
    "\n",
    "def find_time_window_indices_bounding_start_and_stop_frame(time_windows, startFrame, stopFrame):\n",
    "    ''' Return the time window indices of which bound the startFrame and stopFrame.\n",
    "    \n",
    "    The idea is to allow for the parsing of time_windows, to choose only windows that contain\n",
    "    no contributions for timepoints outside of the interval [startFrame, stopFrame]\n",
    "    \n",
    "    --- Example ---\n",
    "    time_windows = np.array([[     0,   6000],\n",
    "                            [   100,   6100],\n",
    "                            [   200,   6200],\n",
    "                            ...,\n",
    "                            [711600, 717600],\n",
    "                            [711700, 717700],\n",
    "                            [711800, 717800]])\n",
    "    startFrame = 36000\n",
    "    stopFrame = 66000\n",
    "                       \n",
    "    desired_first_win_idx, desired_first_win_idx = f(time_windows, startFrame, stopFrame)\n",
    "    time_windows[desired_first_win_idx] = array([36000, 42000])\n",
    "    time_windows[desired_last_win_idx] = array([60000, 66000])                  \n",
    "    \n",
    "    -- returns --\n",
    "    desired_first_win_idx, desired_first_win_idx: int, int\n",
    "    \n",
    "    '''\n",
    "    desired_first_win_idx = np.where(time_windows[:,0] >= startFrame)[0][0]\n",
    "    desired_last_win_idx = np.where(time_windows[:,1] >= stopFrame)[0][0]\n",
    "    return desired_first_win_idx, desired_last_win_idx\n",
    "\n",
    "\n",
    "\n",
    "def return_overlapping_windows_for_timeframes(numFrames, window_size=200, window_step=50):\n",
    "    ''' Given a number of frames, return an 2D array of window start-stop frames.\n",
    "    '''\n",
    "    # define, for clarity, the first window\n",
    "    win0_start = 0\n",
    "    win0_mid = int(window_size/2)\n",
    "    win0_end = int(window_size)\n",
    "\n",
    "    # find numWindows, by adding incrementally and watching the last frame\n",
    "    last_frame_in_windows = win0_end\n",
    "    numWindows = 1\n",
    "    while last_frame_in_windows < (numFrames - window_step):\n",
    "        numWindows += 1\n",
    "        last_frame_in_windows = win0_end + (numWindows-1)*window_step\n",
    "\n",
    "    # now fill-in the windows array of frame indices\n",
    "    windows = np.zeros((numWindows, 2))\n",
    "    windows[0, 0] = 0\n",
    "    windows[0, 1] = win0_end\n",
    "    for winIdx in range(1, numWindows):\n",
    "        w0 = winIdx*window_step\n",
    "        wF = w0 + window_size\n",
    "        windows[winIdx, 0] = w0\n",
    "        windows[winIdx, 1] = wF\n",
    "    return windows.astype(int)"
   ]
  },
  {
   "cell_type": "code",
   "execution_count": 6,
   "id": "4a3f16a7-8d95-49a7-b61a-08b58dd1ee35",
   "metadata": {},
   "outputs": [],
   "source": [
    "\n",
    "def find_time_window_indices_bounding_start_and_stop_frame(time_windows, startFrame, stopFrame):\n",
    "    ''' Return the time window indices of which bound the startFrame and stopFrame.\n",
    "    \n",
    "    The idea is to allow for the parsing of time_windows, to choose only windows that contain\n",
    "    no contributions for timepoints outside of the interval [startFrame, stopFrame]\n",
    "    \n",
    "    --- Example ---\n",
    "    time_windows = np.array([[     0,   6000],\n",
    "                            [   100,   6100],\n",
    "                            [   200,   6200],\n",
    "                            ...,\n",
    "                            [711600, 717600],\n",
    "                            [711700, 717700],\n",
    "                            [711800, 717800]])\n",
    "    startFrame = 36000\n",
    "    stopFrame = 66000\n",
    "                       \n",
    "    desired_first_win_idx, desired_first_win_idx = f(time_windows, startFrame, stopFrame)\n",
    "    time_windows[desired_first_win_idx] = array([36000, 42000])\n",
    "    time_windows[desired_last_win_idx] = array([60000, 66000])                  \n",
    "    \n",
    "    -- returns --\n",
    "    desired_first_win_idx, desired_first_win_idx: int, int\n",
    "    \n",
    "    '''\n",
    "    desired_first_win_idx = np.where(time_windows[:,0] >= startFrame)[0][0]\n",
    "    \n",
    "    \n",
    "    # for the end window, we need to do a check to make sure stopFrame is not\n",
    "    # beyond our windows\n",
    "    \n",
    "    # if tE is beyond the end of the last window, use the last window\n",
    "    if time_windows[:,1][-1] <= stopFrame:\n",
    "        desired_last_win_idx = time_windows.shape[0] - 1\n",
    "    # otherwise find the first window beyond tE\n",
    "    else:\n",
    "        desired_last_win_idx = np.where(time_windows[:,1] >= stopFrame)[0][0]\n",
    "    return desired_first_win_idx, desired_last_win_idx"
   ]
  },
  {
   "cell_type": "code",
   "execution_count": null,
   "id": "b433d0fd-d176-4342-94b3-a82de654a304",
   "metadata": {},
   "outputs": [],
   "source": []
  },
  {
   "cell_type": "code",
   "execution_count": null,
   "id": "c9e4d905-38ea-4388-9478-1dfaf04f0f83",
   "metadata": {},
   "outputs": [],
   "source": []
  },
  {
   "cell_type": "code",
   "execution_count": null,
   "id": "f8c2c67d-d0a5-4306-a8de-123246dd396a",
   "metadata": {},
   "outputs": [],
   "source": []
  },
  {
   "cell_type": "markdown",
   "id": "b18834f3-9b81-4857-930a-1be269f4a3a6",
   "metadata": {},
   "source": [
    "# load the tracking data"
   ]
  },
  {
   "cell_type": "code",
   "execution_count": null,
   "id": "a801f802-708e-46ad-b624-f54528e9ba60",
   "metadata": {},
   "outputs": [],
   "source": []
  },
  {
   "cell_type": "code",
   "execution_count": 7,
   "id": "1a230372-ee0f-4866-8599-ae624503ce04",
   "metadata": {},
   "outputs": [],
   "source": [
    "#main_load_folder = '/media/liam/hd1/fighting_data/tracking_results/'\n",
    "main_load_folder = '/media/liam/guest_drive/fighting_data/tracking_results/'\n",
    "\n",
    "# ----------------------#\n",
    "\n",
    "interp_polyOrd=1  # the order of the polynomial used for interpolation\n",
    "interp_limit=5    # the maximum number of frames to interpolate over\n",
    "savgol_win=9      # the number of frames for the Savitzky-Golay filter\n",
    "savgol_ord=2      # the polynomial order for the Savitzky-Golay filter\n",
    "dt=0.01           # the frame rate of the recording\n",
    "\n",
    "\n",
    "# the filepaths for loading the infomap timeseries data we need\n",
    "infomap_data_loadpath = os.path.join( os.path.dirname(os.path.dirname(main_load_folder)) , \n",
    "                                      'infomap_data/transmat_and_infomap.h5')\n",
    "\n",
    "# the path for loading the fightbout info\n",
    "fightBouts_info_path = os.path.join(main_load_folder, 'fightBouts.h5')\n",
    "\n",
    "\n",
    "# -----------------------#\n",
    "\n",
    "loadpaths = glob.glob(os.path.join(main_load_folder, '*results.h5'))\n",
    "loadpaths.sort()\n",
    "\n",
    "# parse the exp names\n",
    "expNames = [path.split('/')[-1][:23] for path in loadpaths]\n",
    "\n",
    "\n",
    "raw_trajectories = []\n",
    "for path in loadpaths:\n",
    "    with h5py.File(path, 'r') as hf:\n",
    "        tracks_3D_raw = hf['tracks_3D_raw'][:]\n",
    "    raw_trajectories.append(tracks_3D_raw)\n",
    "\n",
    "smooth_trajectories = []\n",
    "for path in loadpaths:\n",
    "    with h5py.File(path, 'r') as hf:\n",
    "        tracks_3D_smooth = hf['tracks_3D_smooth'][:]\n",
    "    smooth_trajectories.append(tracks_3D_smooth)\n",
    "    \n",
    "    \n",
    "# create a list of the number of frames in each experiment\n",
    "expNumFrames = []\n",
    "for expIdx in range(len(expNames)):\n",
    "    nfs = smooth_trajectories[expIdx].shape[0]\n",
    "    expNumFrames.append(nfs)\n",
    "    \n",
    "# -----------------------------#\n",
    "# load other useful information\n",
    "    \n",
    "other_info_loadpath = os.path.join(main_load_folder, 'winners_losers_inconclusive.h5')\n",
    "with h5py.File(other_info_loadpath, 'r') as hf:\n",
    "    winner_idxs = hf['winner_idxs'][:]\n",
    "    loser_idxs = hf['loser_idxs'][:]\n",
    "    conclusive_winner_loser = hf['conclusive_winner_loser'][:]\n",
    "    already_established_dominance = hf['already_established_dominance'][:]\n",
    "\n",
    "\n",
    "with h5py.File(fightBouts_info_path, 'r') as hf:\n",
    "    fight_bout_info = hf['fight_bout_info'][:]\n",
    "    fight_bout_info_noDurThresh = hf['fight_bout_info_noDurThresh'][:]\n",
    "\n",
    "    \n"
   ]
  },
  {
   "cell_type": "code",
   "execution_count": null,
   "id": "c37e0758-25f8-4fff-bfad-f395691f4ea4",
   "metadata": {},
   "outputs": [],
   "source": []
  },
  {
   "cell_type": "code",
   "execution_count": null,
   "id": "a9f8c4c8-8b7f-4ee7-bb96-168354e6eee8",
   "metadata": {},
   "outputs": [],
   "source": []
  },
  {
   "cell_type": "markdown",
   "id": "6d028aec-5713-418c-be57-3a649177313a",
   "metadata": {},
   "source": [
    "# Load the main infomap data"
   ]
  },
  {
   "cell_type": "code",
   "execution_count": 8,
   "id": "9267d2f8-7caf-4239-bb07-a9ebec718a99",
   "metadata": {},
   "outputs": [
    {
     "data": {
      "text/plain": [
       "'/media/liam/guest_drive/fighting_data/infomap_data/transmat_and_infomap.h5'"
      ]
     },
     "execution_count": 8,
     "metadata": {},
     "output_type": "execute_result"
    }
   ],
   "source": [
    "infomap_data_loadpath"
   ]
  },
  {
   "cell_type": "code",
   "execution_count": 9,
   "id": "778a5c2e-7054-42a5-867e-354c5a9eb23d",
   "metadata": {},
   "outputs": [
    {
     "name": "stdout",
     "output_type": "stream",
     "text": [
      "NaN_row_bin_tup_arr\n",
      "NaN_row_idxs\n",
      "cluster_state_idxs\n",
      "cluster_state_tuples\n",
      "dpp_bins\n",
      "edited_transition_matrix\n",
      "numClusters\n",
      "numInfoTrials\n",
      "sorted_eig_vals\n",
      "sorted_eig_vecs\n",
      "tau\n",
      "tet_l_bins\n",
      "tet_w_bins\n",
      "transMat_row_bin_tup_arr\n",
      "tseries\n"
     ]
    }
   ],
   "source": [
    "\n",
    "# VIEW THE CONTENTS ##\n",
    "with h5py.File(infomap_data_loadpath, 'r') as hf:\n",
    "    for key in hf.keys():\n",
    "        print(key)"
   ]
  },
  {
   "cell_type": "code",
   "execution_count": 10,
   "id": "3acb4080-a306-4938-91ae-35abbc880e8c",
   "metadata": {},
   "outputs": [
    {
     "name": "stdout",
     "output_type": "stream",
     "text": [
      "/media/liam/guest_drive/fighting_data/infomap_data/transmat_and_infomap.h5\n",
      "8000\n",
      "56\n"
     ]
    }
   ],
   "source": [
    "## Load the main data saved in the h5 file ##\n",
    "\n",
    "with h5py.File(infomap_data_loadpath, 'r') as hf:\n",
    "    tseries = hf['tseries'][:]\n",
    "    transition_matrix = hf['edited_transition_matrix'][:]\n",
    "    dpp_bins = hf['dpp_bins'][:]\n",
    "    tet_w_bins = hf['tet_w_bins'][:]\n",
    "    tet_l_bins = hf['tet_l_bins'][:]\n",
    "    numClusters = hf['numClusters'][()]\n",
    "    # other\n",
    "    NaN_row_bin_tup_arr = hf['NaN_row_bin_tup_arr'][:]\n",
    "    NaN_row_idxs = hf['NaN_row_idxs'][:] \n",
    "    numInfoTrials = hf['numInfoTrials'][()]\n",
    "    tau = hf['tau'][()]\n",
    "    transMat_row_bin_tup_arr  = hf['transMat_row_bin_tup_arr'][:]\n",
    "    \n",
    "cluster_state_tuples = []\n",
    "cluster_state_idxs = []\n",
    "with h5py.File(infomap_data_loadpath, 'r') as hf:\n",
    "    for clusterIdx in range(numClusters):\n",
    "        st_idxs = hf['cluster_state_idxs/cluster{0}'.format(clusterIdx)][:]\n",
    "        st_tups = hf['cluster_state_tuples/cluster{0}'.format(clusterIdx)][:]\n",
    "        cluster_state_idxs.append(st_idxs)\n",
    "        cluster_state_tuples.append(st_tups)\n",
    "        \n",
    "num_tetW_bins = tet_w_bins.shape[0]-1\n",
    "num_tetL_bins = tet_l_bins.shape[0]-1\n",
    "num_dpp_bins = dpp_bins.shape[0]-1\n",
    "\n",
    "\n",
    "numStates = num_tetW_bins*num_tetL_bins*num_dpp_bins\n",
    "\n",
    "binTuple_to_clusterIdx_dict = make_binTuple_to_clusterIdx_dict(cluster_state_tuples)\n",
    "\n",
    "print(infomap_data_loadpath)\n",
    "print(numStates)\n",
    "print(numClusters)"
   ]
  },
  {
   "cell_type": "code",
   "execution_count": null,
   "id": "0eefb0c2-e496-45db-b5be-d3fbf69d315c",
   "metadata": {},
   "outputs": [],
   "source": []
  },
  {
   "cell_type": "code",
   "execution_count": null,
   "id": "f4112043-c61e-46cc-be04-fe1ebf739122",
   "metadata": {},
   "outputs": [],
   "source": []
  },
  {
   "cell_type": "markdown",
   "id": "5aa8657e-f1db-4f6b-9b17-6cf7064a7db7",
   "metadata": {},
   "source": [
    "# load the post-processed tseries of infomap cluster idxs"
   ]
  },
  {
   "cell_type": "code",
   "execution_count": null,
   "id": "4768dd1e-73e8-4111-ba93-1951528952ab",
   "metadata": {},
   "outputs": [],
   "source": []
  },
  {
   "cell_type": "code",
   "execution_count": 11,
   "id": "283fbeed-93a8-4524-9d21-d9029a4b7fa4",
   "metadata": {},
   "outputs": [
    {
     "data": {
      "text/plain": [
       "(16044324,)"
      ]
     },
     "execution_count": 11,
     "metadata": {},
     "output_type": "execute_result"
    }
   ],
   "source": [
    "# load\n",
    "all_exps_edited_postProced_clusterIdx_tseries = []\n",
    "postprocessed_all_exp_edited_cluster_tseries_savepath = os.path.join(os.path.dirname(infomap_data_loadpath),\n",
    "                                                                     'postprocessed_exp_edited_clusterIdx_timeseries.h5')\n",
    "with h5py.File(postprocessed_all_exp_edited_cluster_tseries_savepath, 'r') as hf:\n",
    "    for expIdx in range(len(expNames)):\n",
    "        expName = expNames[expIdx]\n",
    "        tseries = hf['{0}_clusterIdxs'.format(expName)][:]\n",
    "        all_exps_edited_postProced_clusterIdx_tseries.append(tseries)\n",
    "        \n",
    "# make the master-set\n",
    "clusterIdx_edited_postProced_tseries_master = np.concatenate(all_exps_edited_postProced_clusterIdx_tseries)\n",
    "clusterIdx_edited_postProced_tseries_master.shape"
   ]
  },
  {
   "cell_type": "code",
   "execution_count": 12,
   "id": "5fbc9f63-bddf-4a7a-b187-20177704b2cc",
   "metadata": {},
   "outputs": [
    {
     "data": {
      "text/plain": [
       "['circling',\n",
       " 'direct away',\n",
       " 'winner attack',\n",
       " 'loser attack',\n",
       " 'display',\n",
       " 'direct to',\n",
       " 'middle circling',\n",
       " 'loser approach',\n",
       " 'winner approach',\n",
       " 'parallel']"
      ]
     },
     "execution_count": 12,
     "metadata": {},
     "output_type": "execute_result"
    }
   ],
   "source": [
    "state_names = ['circling',\n",
    "             'direct away',\n",
    "             'winner attack',\n",
    "             'loser attack',\n",
    "             'display',\n",
    "             'direct to',\n",
    "             'middle circling',\n",
    "             'loser approach',\n",
    "             'winner approach',\n",
    "             'parallel']\n",
    "\n",
    "state_names"
   ]
  },
  {
   "cell_type": "code",
   "execution_count": null,
   "id": "70b027e8-ada1-4334-823a-48b55a729058",
   "metadata": {},
   "outputs": [],
   "source": []
  },
  {
   "cell_type": "code",
   "execution_count": 13,
   "id": "6e731329-52d7-4225-a8c6-bffeb9dccd25",
   "metadata": {},
   "outputs": [],
   "source": [
    "\n",
    "\n",
    "# colorlist without red and blue\n",
    "colorlist = ['#ffe119', '#3cb44b',                    '#f58231', \n",
    "             '#911eb4', '#42d4f4', '#f032e6', '#bfef45', '#fabed4', \n",
    "             '#469990', '#dcbeff', '#9A6324', '#800000', \n",
    "             '#aaffc3', '#808000', '#ffd8b1', '#000075', '#a9a9a9'] \n",
    "\n",
    "\n",
    "# --- make a cluster_colors list for plotting voxels --- #\n",
    "alpha_val_1 = 0.8\n",
    "cluster_colors = [ [0,0,0,0] for i in range(len(state_names)) ]\n",
    "for clIdx in range(len(state_names)):\n",
    "    # imported from matplotlib colors to_rgb\n",
    "    col = to_rgb(colorlist[clIdx])\n",
    "    cluster_colors[clIdx][0] = col[0]\n",
    "    cluster_colors[clIdx][1] = col[1]\n",
    "    cluster_colors[clIdx][2] = col[2]\n",
    "    cluster_colors[clIdx][3] = alpha_val_1\n"
   ]
  },
  {
   "cell_type": "code",
   "execution_count": null,
   "id": "cb9a8f79-98af-4754-8dd1-1289f22e5ee1",
   "metadata": {},
   "outputs": [],
   "source": []
  },
  {
   "cell_type": "code",
   "execution_count": 14,
   "id": "0beab27a-5e2b-48a8-8825-668e1e4c11fd",
   "metadata": {},
   "outputs": [
    {
     "data": {
      "text/plain": [
       "['circling',\n",
       " 'direct away',\n",
       " 'winner attack',\n",
       " 'loser attack',\n",
       " 'display',\n",
       " 'direct to',\n",
       " 'middle circling',\n",
       " 'L approach',\n",
       " 'W approach',\n",
       " 'parallel',\n",
       " 'non-fight clusters']"
      ]
     },
     "execution_count": 14,
     "metadata": {},
     "output_type": "execute_result"
    }
   ],
   "source": [
    "\n",
    "# these are the state names of the clusterIdx_edited_postProced_tseries\n",
    "all_state_names = ['circling',\n",
    "                 'direct away',\n",
    "                 'winner attack',\n",
    "                 'loser attack',\n",
    "                 'display',\n",
    "                 'direct to',\n",
    "                 'middle circling',\n",
    "                 'L approach',\n",
    "                 'W approach',\n",
    "                 'parallel',\n",
    "                 'non-fight clusters']\n",
    "\n",
    "state_names = list(all_state_names[:-1])\n",
    "\n",
    "all_state_names"
   ]
  },
  {
   "cell_type": "code",
   "execution_count": null,
   "id": "c235ec88-2914-4e12-9b87-299f5a8ddce7",
   "metadata": {},
   "outputs": [],
   "source": []
  },
  {
   "cell_type": "code",
   "execution_count": null,
   "id": "6ee5a5c4-33c9-4c09-a34a-56dd98b3ec39",
   "metadata": {},
   "outputs": [],
   "source": []
  },
  {
   "cell_type": "code",
   "execution_count": 15,
   "id": "d907122c-8ce7-4967-ac25-2f5ac06047ac",
   "metadata": {},
   "outputs": [
    {
     "data": {
      "text/plain": [
       "11"
      ]
     },
     "execution_count": 15,
     "metadata": {},
     "output_type": "execute_result"
    }
   ],
   "source": [
    "len(all_state_names)"
   ]
  },
  {
   "cell_type": "code",
   "execution_count": 16,
   "id": "f8dc1a32-c48b-479c-bed3-130714e687d7",
   "metadata": {},
   "outputs": [
    {
     "data": {
      "text/plain": [
       "10"
      ]
     },
     "execution_count": 16,
     "metadata": {},
     "output_type": "execute_result"
    }
   ],
   "source": [
    "numLabelledStates = len(state_names)\n",
    "numLabelledStates\n"
   ]
  },
  {
   "cell_type": "code",
   "execution_count": 17,
   "id": "5c93e345-d43b-4588-8863-821f8c5269d7",
   "metadata": {},
   "outputs": [
    {
     "data": {
      "text/plain": [
       "11"
      ]
     },
     "execution_count": 17,
     "metadata": {},
     "output_type": "execute_result"
    }
   ],
   "source": [
    "totalNumStates = numLabelledStates+1\n",
    "totalNumStates"
   ]
  },
  {
   "cell_type": "code",
   "execution_count": null,
   "id": "f8de3ce0-aa5d-435f-be24-e9b00eb5c976",
   "metadata": {},
   "outputs": [],
   "source": []
  },
  {
   "cell_type": "code",
   "execution_count": 18,
   "id": "9e4e9516-5526-468b-b988-eefe2da26630",
   "metadata": {},
   "outputs": [
    {
     "data": {
      "text/plain": [
       "array([-1.,  0.,  1.,  2.,  3.,  4.,  5.,  6.,  7.,  8.,  9.])"
      ]
     },
     "execution_count": 18,
     "metadata": {},
     "output_type": "execute_result"
    }
   ],
   "source": [
    "# -1 represent nonFight clusters\n",
    "# NaN data means missing data\n",
    "np.unique(clusterIdx_edited_postProced_tseries_master[~np.isnan(clusterIdx_edited_postProced_tseries_master)])"
   ]
  },
  {
   "cell_type": "code",
   "execution_count": null,
   "id": "804e7ba8-1147-42e2-b184-a29787a3a7b3",
   "metadata": {},
   "outputs": [],
   "source": []
  },
  {
   "cell_type": "code",
   "execution_count": 19,
   "id": "b9a4b21b-bdc4-4461-b461-abd5ce144e5a",
   "metadata": {},
   "outputs": [],
   "source": [
    "# the filepaths for loading how clusterIdxs were merged and reordered\n",
    "infomap_edited_cluster_info_path = os.path.join( os.path.dirname(os.path.dirname(main_load_folder)) , \n",
    "                                                  'infomap_data/editing_clusterIdx_info.h5')\n",
    "with h5py.File(infomap_edited_cluster_info_path, 'r') as hf:\n",
    "    original_cluster_idxs = hf['original_cluster_idxs'][:]\n",
    "    edited_cluster_idxs = hf['edited_cluster_idxs'][:]\n",
    "\n",
    "\n",
    "# --- create the edited state tuples --- #\n",
    "\n",
    "edited_cluster_state_tuples = []\n",
    "\n",
    "for newClIdx in np.unique(edited_cluster_idxs):\n",
    "    \n",
    "    # find the original clusterIdxs for this new clusterIdx\n",
    "    cl_new_indices = np.where(edited_cluster_idxs==newClIdx)[0]\n",
    "    \n",
    "    # get the corresponding original idxs\n",
    "    cl_original_clIdxs = [original_cluster_idxs[i] for i in cl_new_indices]\n",
    "    \n",
    "    # combine the voxels for the original clusterIdx that go into this new clusterIdx\n",
    "    cl_original_voxels = np.concatenate([cluster_state_tuples[oldClIdx] for oldClIdx in cl_original_clIdxs])\n",
    "    edited_cluster_state_tuples.append(cl_original_voxels)"
   ]
  },
  {
   "cell_type": "code",
   "execution_count": null,
   "id": "cfa63732-b6a6-41b9-8bf4-98f8c43cc175",
   "metadata": {},
   "outputs": [],
   "source": []
  },
  {
   "cell_type": "code",
   "execution_count": null,
   "id": "947dc512-c761-4aa5-8d6a-cc4587e7e0a8",
   "metadata": {},
   "outputs": [],
   "source": []
  },
  {
   "cell_type": "code",
   "execution_count": null,
   "id": "10bea7a7-aed0-4cce-84c9-5e755c7b4860",
   "metadata": {},
   "outputs": [],
   "source": []
  },
  {
   "cell_type": "code",
   "execution_count": null,
   "id": "9baa859e-fd49-4c67-91b3-e16388022fda",
   "metadata": {},
   "outputs": [],
   "source": []
  },
  {
   "cell_type": "markdown",
   "id": "97a0450a-b744-43ad-8d66-4d3b9c09a8df",
   "metadata": {},
   "source": [
    "# ---------------------------------------------------------------------------------"
   ]
  },
  {
   "cell_type": "code",
   "execution_count": null,
   "id": "12f4430b-d4d8-4a0e-941b-f42c5d00e3ad",
   "metadata": {},
   "outputs": [],
   "source": []
  },
  {
   "cell_type": "markdown",
   "id": "a3818f61-8751-4836-8952-6280c1983b87",
   "metadata": {},
   "source": [
    "# Entropy of sequences calculation"
   ]
  },
  {
   "cell_type": "code",
   "execution_count": null,
   "id": "66587f70-0883-4827-a5b7-79654a6363ac",
   "metadata": {},
   "outputs": [],
   "source": []
  },
  {
   "cell_type": "code",
   "execution_count": null,
   "id": "afd4526a-47f5-4774-a893-eec1591ee957",
   "metadata": {},
   "outputs": [],
   "source": []
  },
  {
   "cell_type": "markdown",
   "id": "7e880ea1-e19f-4255-8256-10946f53d780",
   "metadata": {},
   "source": [
    "## grab the fight data from all regions"
   ]
  },
  {
   "cell_type": "code",
   "execution_count": null,
   "id": "dfe58e90-bd2e-46e3-8064-596a87b576b5",
   "metadata": {},
   "outputs": [],
   "source": []
  },
  {
   "cell_type": "code",
   "execution_count": 20,
   "id": "d60f803f-f329-4825-aa54-467efe168b1e",
   "metadata": {},
   "outputs": [
    {
     "data": {
      "text/plain": [
       "array([[     0, 385500, 427400,  41900],\n",
       "       [     0, 583500, 610400,  26900],\n",
       "       [     0, 643500, 805400, 161900],\n",
       "       [     1, 274500, 301400,  26900],\n",
       "       [     1, 385700, 409400,  23700],\n",
       "       [     1, 493700, 655400, 161700],\n",
       "       [     1, 700700, 718600,  17900],\n",
       "       [     2,  31500, 175400, 143900],\n",
       "       [     2, 301300, 319600,  18300],\n",
       "       [     3, 331300, 436400, 105100],\n",
       "       [     5, 448500, 559400, 110900],\n",
       "       [     6, 217700, 250400,  32700],\n",
       "       [     7,  91500, 127400,  35900],\n",
       "       [     7, 505500, 553400,  47900],\n",
       "       [     8, 181500, 256200,  74700],\n",
       "       [     8, 274700, 334400,  59700],\n",
       "       [     8, 352500, 370400,  17900],\n",
       "       [    10,  19700,  79400,  59700],\n",
       "       [    11, 214900, 280400,  65500],\n",
       "       [    12, 142500, 226400,  83900],\n",
       "       [    12, 262500, 343400,  80900],\n",
       "       [    12, 358500, 385400,  26900],\n",
       "       [    13, 694500, 745600,  51100],\n",
       "       [    14,   7700,  61800,  54100],\n",
       "       [    15,  13500, 184400, 170900],\n",
       "       [    15, 490500, 514600,  24100],\n",
       "       [    17,  85500, 124400,  38900],\n",
       "       [    17, 421500, 436600,  15100],\n",
       "       [    18, 388700, 556400, 167700],\n",
       "       [    18, 898700, 931400,  32700],\n",
       "       [    19, 526700, 571200,  44500],\n",
       "       [    20,  40900, 169600, 128700],\n",
       "       [    20, 559700, 595400,  35700]])"
      ]
     },
     "execution_count": 20,
     "metadata": {},
     "output_type": "execute_result"
    }
   ],
   "source": [
    "fight_bout_info_noDurThresh"
   ]
  },
  {
   "cell_type": "code",
   "execution_count": null,
   "id": "ed094b30-8cc8-498f-b5db-bab380c4aa24",
   "metadata": {},
   "outputs": [],
   "source": []
  },
  {
   "cell_type": "code",
   "execution_count": 21,
   "id": "2f53aefd-834e-49b3-8614-294c5cb11c42",
   "metadata": {},
   "outputs": [
    {
     "data": {
      "text/plain": [
       "array([[     0, 385500, 427400],\n",
       "       [     0, 583500, 610400],\n",
       "       [     0, 643500, 805400],\n",
       "       [     1, 274500, 301400],\n",
       "       [     1, 385700, 409400],\n",
       "       [     1, 493700, 655400],\n",
       "       [     1, 700700, 718600],\n",
       "       [     2,  31500, 175400],\n",
       "       [     2, 301300, 319600],\n",
       "       [     3, 331300, 436400],\n",
       "       [     5, 448500, 559400],\n",
       "       [     6, 217700, 250400],\n",
       "       [     7,  91500, 127400],\n",
       "       [     7, 505500, 553400],\n",
       "       [     8, 181500, 256200],\n",
       "       [     8, 274700, 334400],\n",
       "       [     8, 352500, 370400],\n",
       "       [    10,  19700,  79400],\n",
       "       [    11, 214900, 280400],\n",
       "       [    12, 142500, 226400],\n",
       "       [    12, 262500, 343400],\n",
       "       [    12, 358500, 385400],\n",
       "       [    13, 694500, 745600],\n",
       "       [    14,   7700,  61800],\n",
       "       [    15,  13500, 184400],\n",
       "       [    15, 490500, 514600],\n",
       "       [    17,  85500, 124400],\n",
       "       [    17, 421500, 436600],\n",
       "       [    18, 388700, 556400],\n",
       "       [    18, 898700, 931400],\n",
       "       [    19, 526700, 571200],\n",
       "       [    20,  40900, 169600],\n",
       "       [    20, 559700, 595400]])"
      ]
     },
     "execution_count": 21,
     "metadata": {},
     "output_type": "execute_result"
    }
   ],
   "source": [
    "chosen_expIdx_fight_regions = np.copy(fight_bout_info_noDurThresh[:,:-1])\n",
    "chosen_expIdx_fight_regions"
   ]
  },
  {
   "cell_type": "code",
   "execution_count": null,
   "id": "58fd3657-9dc8-4604-92a2-bb54b80adeb1",
   "metadata": {},
   "outputs": [],
   "source": []
  },
  {
   "cell_type": "code",
   "execution_count": null,
   "id": "a51df0ab-b304-477f-8221-83c11f499f8f",
   "metadata": {},
   "outputs": [],
   "source": []
  },
  {
   "cell_type": "code",
   "execution_count": 22,
   "id": "31fb690b-d15a-4e8f-9bf2-617a6b676ca2",
   "metadata": {},
   "outputs": [
    {
     "data": {
      "text/plain": [
       "(2152600,)"
      ]
     },
     "execution_count": 22,
     "metadata": {},
     "output_type": "execute_result"
    }
   ],
   "source": [
    "all_fightbout_cls_tseries = []\n",
    "\n",
    "for fightIdx in range(chosen_expIdx_fight_regions.shape[0]-1):\n",
    "    # parse the info for this fight\n",
    "    expIdx, fight_f0, fight_fE = chosen_expIdx_fight_regions[fightIdx]\n",
    "    # grab the data for this experiment\n",
    "    exp_cls_tseries = np.copy(all_exps_edited_postProced_clusterIdx_tseries[expIdx])\n",
    "    fight_tseries = exp_cls_tseries[fight_f0:fight_fE]\n",
    "    all_fightbout_cls_tseries.append(fight_tseries)\n",
    "    \n",
    "all_fightbout_cls_tseries_master = np.concatenate(all_fightbout_cls_tseries)\n",
    "all_fightbout_cls_tseries_master.shape"
   ]
  },
  {
   "cell_type": "code",
   "execution_count": null,
   "id": "7d6231f9-add9-48e3-920f-e7ad9d1aefc7",
   "metadata": {},
   "outputs": [],
   "source": []
  },
  {
   "cell_type": "code",
   "execution_count": 23,
   "id": "72650b3e-3182-4fe6-a6ee-e81d1d9436f5",
   "metadata": {},
   "outputs": [
    {
     "data": {
      "text/plain": [
       "array([-1.,  0.,  1.,  2.,  3.,  4.,  5.,  6.,  7.,  8.,  9., nan])"
      ]
     },
     "execution_count": 23,
     "metadata": {},
     "output_type": "execute_result"
    }
   ],
   "source": [
    "np.unique(all_fightbout_cls_tseries_master)"
   ]
  },
  {
   "cell_type": "code",
   "execution_count": 24,
   "id": "be503275-7d26-4111-805c-4b9b0b8c4262",
   "metadata": {},
   "outputs": [],
   "source": [
    "# set the NaN entries to -2\n",
    "all_fightbout_cls_tseries_master[np.isnan(all_fightbout_cls_tseries_master)] = -2"
   ]
  },
  {
   "cell_type": "code",
   "execution_count": null,
   "id": "ce81e2e7-1e22-4adf-b4c6-e27ef5d77c4b",
   "metadata": {},
   "outputs": [],
   "source": []
  },
  {
   "cell_type": "code",
   "execution_count": null,
   "id": "96c44e1f-b69e-4b75-a7db-ba6caea9040b",
   "metadata": {},
   "outputs": [],
   "source": []
  },
  {
   "cell_type": "markdown",
   "id": "95adc723-4130-48eb-9cb3-f4072fa4a6fc",
   "metadata": {},
   "source": [
    "## collapse time"
   ]
  },
  {
   "cell_type": "code",
   "execution_count": 25,
   "id": "6f44a792-6827-45d7-8836-032e94e44ea1",
   "metadata": {},
   "outputs": [
    {
     "name": "stdout",
     "output_type": "stream",
     "text": [
      "0.4481332302093506\n"
     ]
    }
   ],
   "source": [
    "t0 = time.time()\n",
    "\n",
    "edited_labels = []\n",
    "\n",
    "# add the first label\n",
    "edited_labels.append(all_fightbout_cls_tseries_master[0])\n",
    "\n",
    "for i,label in enumerate(all_fightbout_cls_tseries_master[1:]):\n",
    "    cur_label = label\n",
    "    if cur_label == edited_labels[-1]:\n",
    "        continue\n",
    "    else:\n",
    "        edited_labels.append(cur_label)\n",
    "        \n",
    "edited_labels = np.array(edited_labels)\n",
    "\n",
    "tE = time.time()\n",
    "print(tE-t0)"
   ]
  },
  {
   "cell_type": "code",
   "execution_count": null,
   "id": "d6d6b12a-32af-4907-a43f-6eafb20181d5",
   "metadata": {},
   "outputs": [],
   "source": []
  },
  {
   "cell_type": "code",
   "execution_count": 26,
   "id": "e15f409c-8eb5-47d6-971b-2f73dc282c11",
   "metadata": {},
   "outputs": [],
   "source": [
    "vals, counts = np.unique(edited_labels, return_counts=True)"
   ]
  },
  {
   "cell_type": "code",
   "execution_count": 27,
   "id": "864b6033-5773-4f62-b538-a930df7fe2a9",
   "metadata": {},
   "outputs": [
    {
     "data": {
      "text/plain": [
       "{-2.0: 8996,\n",
       " -1.0: 2311,\n",
       " 0.0: 16741,\n",
       " 1.0: 628,\n",
       " 2.0: 16374,\n",
       " 3.0: 17424,\n",
       " 4.0: 7729,\n",
       " 5.0: 4672,\n",
       " 6.0: 2813,\n",
       " 7.0: 3452,\n",
       " 8.0: 2500,\n",
       " 9.0: 669}"
      ]
     },
     "execution_count": 27,
     "metadata": {},
     "output_type": "execute_result"
    }
   ],
   "source": [
    "dict(zip(vals,counts))\n"
   ]
  },
  {
   "cell_type": "code",
   "execution_count": 28,
   "id": "07950e2b-66fc-47e3-adc2-a00093728124",
   "metadata": {},
   "outputs": [
    {
     "data": {
      "text/plain": [
       "array([ 2,  8,  2, ...,  1,  9, -1])"
      ]
     },
     "execution_count": 28,
     "metadata": {},
     "output_type": "execute_result"
    }
   ],
   "source": [
    "edited_labels = edited_labels.astype(int)\n",
    "edited_labels"
   ]
  },
  {
   "cell_type": "code",
   "execution_count": 29,
   "id": "de56ec71-1ab0-49b0-abd7-17bb8cdc6a9e",
   "metadata": {},
   "outputs": [
    {
     "data": {
      "text/plain": [
       "(84309,)"
      ]
     },
     "execution_count": 29,
     "metadata": {},
     "output_type": "execute_result"
    }
   ],
   "source": [
    "edited_labels.shape"
   ]
  },
  {
   "cell_type": "code",
   "execution_count": null,
   "id": "4e38c788-cc3f-4e64-8390-725b98589895",
   "metadata": {},
   "outputs": [],
   "source": []
  },
  {
   "cell_type": "code",
   "execution_count": null,
   "id": "c72d1019-c734-476f-bfea-df38b6cb4d8f",
   "metadata": {},
   "outputs": [],
   "source": []
  },
  {
   "cell_type": "code",
   "execution_count": 30,
   "id": "d3320945-8620-4ae6-a075-da9313ab008b",
   "metadata": {},
   "outputs": [
    {
     "data": {
      "text/plain": [
       "array([ 2,  8,  2, ...,  1,  9, -1])"
      ]
     },
     "execution_count": 30,
     "metadata": {},
     "output_type": "execute_result"
    }
   ],
   "source": [
    "edited_labels"
   ]
  },
  {
   "cell_type": "code",
   "execution_count": 31,
   "id": "5c445e0e-2d2b-4cc2-b9f2-22f3446f9fbd",
   "metadata": {},
   "outputs": [],
   "source": [
    "# save the edited labels for subsequent loading\n",
    "edited_labels_path = '/home/liam/temp/edited_labels.h5'\n",
    "with h5py.File(edited_labels_path, 'w') as hf:\n",
    "    hf.create_dataset('edited_labels', data=edited_labels)"
   ]
  },
  {
   "cell_type": "code",
   "execution_count": null,
   "id": "b3c48e28-ef46-48c8-85d5-a56312bd9514",
   "metadata": {},
   "outputs": [],
   "source": []
  },
  {
   "cell_type": "code",
   "execution_count": null,
   "id": "f1485aa1-e822-4352-abe7-eb72b2375b46",
   "metadata": {},
   "outputs": [],
   "source": []
  },
  {
   "cell_type": "markdown",
   "id": "29dc7e67-ad1c-4bc3-ab05-4ac6d428bf13",
   "metadata": {},
   "source": [
    "## transition probabilities"
   ]
  },
  {
   "cell_type": "code",
   "execution_count": null,
   "id": "1415dc6f-e9cb-4f20-8033-f777570ff23c",
   "metadata": {},
   "outputs": [],
   "source": [
    "# NB: this section isnt directly relevant here, but I will keep it anyway"
   ]
  },
  {
   "cell_type": "code",
   "execution_count": null,
   "id": "7d00aa8d-20aa-47b3-8fbe-9e3c4d6206a9",
   "metadata": {},
   "outputs": [],
   "source": []
  },
  {
   "cell_type": "code",
   "execution_count": 32,
   "id": "2e41b1cb-6cb9-4d6c-80f7-7e4771fccbba",
   "metadata": {},
   "outputs": [],
   "source": [
    "transition_counts = np.zeros((12,12))  # 10 labelled states, -1 for other states, -2 for NaNs\n",
    "\n",
    "for i,clt_lbl in enumerate(edited_labels[:-1]):\n",
    "    next_lbl = edited_labels[i+1]\n",
    "    cur_lbl = clt_lbl\n",
    "    # record in the transition matrix, adding 2 to move from label to matrix index\n",
    "    # ie. -2 goes to 0 index of matrix\n",
    "    transition_counts[cur_lbl+2,next_lbl+2] += 1"
   ]
  },
  {
   "cell_type": "code",
   "execution_count": null,
   "id": "346f2617-a545-4534-9db1-b471aefbd41f",
   "metadata": {},
   "outputs": [],
   "source": []
  },
  {
   "cell_type": "code",
   "execution_count": 33,
   "id": "226c24b2-46fa-4179-b6f6-46525c7c0551",
   "metadata": {},
   "outputs": [
    {
     "data": {
      "text/plain": [
       "array([[   0.,  191., 2065.,    4., 2966., 3057.,  347.,  199.,   55.,\n",
       "          72.,   34.,    6.],\n",
       "       [ 189.,    0.,    5.,   72.,    0.,   81.,   93.,  581.,   69.,\n",
       "         448.,  547.,  225.],\n",
       "       [1364.,    1.,    0.,  347., 4346., 5285., 3027.,  577., 1575.,\n",
       "         213.,    5.,    1.],\n",
       "       [   1.,  208.,   12.,    0.,    0.,    0.,  159.,    0.,  150.,\n",
       "           0.,    0.,   98.],\n",
       "       [3289.,    1., 5548.,    0.,    0., 4173., 1566., 1047.,  200.,\n",
       "           0.,  550.,    0.],\n",
       "       [3322.,    1., 5630.,    1., 4130.,    0., 1753., 1289.,  148.,\n",
       "        1149.,    1.,    0.],\n",
       "       [ 189.,  199.,  377.,   66., 2632., 2058.,    0.,  132.,  183.,\n",
       "        1008.,  651.,  234.],\n",
       "       [ 467.,   31., 2749.,    0.,  575.,  719.,    9.,    0.,   18.,\n",
       "          44.,   59.,    1.],\n",
       "       [  44.,  482.,  134.,  117.,  255.,  266.,  387.,   83.,    0.,\n",
       "         441.,  541.,   63.],\n",
       "       [  89.,  530.,  184.,    0.,    0., 1785.,  217.,  415.,  200.,\n",
       "           0.,    4.,   28.],\n",
       "       [  38.,  278.,   37.,    1., 1469.,    0.,  123.,  338.,  202.,\n",
       "           1.,    0.,   13.],\n",
       "       [   4.,  389.,    0.,   20.,    0.,    0.,   48.,   11.,   13.,\n",
       "          76.,  108.,    0.]])"
      ]
     },
     "execution_count": 33,
     "metadata": {},
     "output_type": "execute_result"
    }
   ],
   "source": [
    "transition_counts"
   ]
  },
  {
   "cell_type": "code",
   "execution_count": 34,
   "id": "2eb79a45-0478-4a6e-b3c9-776579be336b",
   "metadata": {},
   "outputs": [
    {
     "data": {
      "text/plain": [
       "(12, 12)"
      ]
     },
     "execution_count": 34,
     "metadata": {},
     "output_type": "execute_result"
    }
   ],
   "source": [
    "transition_counts.shape"
   ]
  },
  {
   "cell_type": "code",
   "execution_count": 35,
   "id": "33cfcffc-904b-4ccf-b2dd-3fc2839d241a",
   "metadata": {},
   "outputs": [
    {
     "data": {
      "text/plain": [
       "(10, 10)"
      ]
     },
     "execution_count": 35,
     "metadata": {},
     "output_type": "execute_result"
    }
   ],
   "source": [
    "# now let's remove the NaN and other states\n",
    "\n",
    "transition_counts = transition_counts[2:, 2:]\n",
    "transition_counts.shape\n"
   ]
  },
  {
   "cell_type": "code",
   "execution_count": null,
   "id": "dda2bb93-3352-40ad-a908-b13af6934ddb",
   "metadata": {},
   "outputs": [],
   "source": []
  },
  {
   "cell_type": "code",
   "execution_count": 36,
   "id": "c4cd7211-2256-4fe1-9ade-a874e70301b9",
   "metadata": {},
   "outputs": [],
   "source": [
    "# now normalize the matrix\n",
    "transition_matrix = np.copy(transition_counts)\n",
    "for stateIdx in range(10):\n",
    "    transition_matrix[stateIdx, :] = transition_matrix[stateIdx, :] / np.sum(transition_matrix[stateIdx, :])"
   ]
  },
  {
   "cell_type": "code",
   "execution_count": 37,
   "id": "c95cab97-96b1-4ba4-847a-3c29240aff57",
   "metadata": {},
   "outputs": [
    {
     "data": {
      "text/plain": [
       "array([[0.        , 0.02256764, 0.28264828, 0.34371748, 0.19686524,\n",
       "        0.03752601, 0.10243236, 0.01385276, 0.00032518, 0.00006504],\n",
       "       [0.02863962, 0.        , 0.        , 0.        , 0.37947494,\n",
       "        0.        , 0.35799523, 0.        , 0.        , 0.23389021],\n",
       "       [0.42402935, 0.        , 0.        , 0.31893916, 0.11968817,\n",
       "        0.0800214 , 0.01528585, 0.        , 0.04203607, 0.        ],\n",
       "       [0.39926246, 0.00007092, 0.29288703, 0.        , 0.12431742,\n",
       "        0.09141196, 0.01049571, 0.08148358, 0.00007092, 0.        ],\n",
       "       [0.0513554 , 0.0089906 , 0.35853426, 0.28034328, 0.        ,\n",
       "        0.0179812 , 0.02492848, 0.13731099, 0.08868002, 0.03187577],\n",
       "       [0.65860086, 0.        , 0.13775755, 0.17225683, 0.00215621,\n",
       "        0.        , 0.00431241, 0.01054145, 0.01413512, 0.00023958],\n",
       "       [0.05859204, 0.05115872, 0.11149978, 0.11630958, 0.16921732,\n",
       "        0.03629209, 0.        , 0.19282903, 0.23655444, 0.027547  ],\n",
       "       [0.06494882, 0.        , 0.        , 0.63007413, 0.07659725,\n",
       "        0.14648782, 0.07059654, 0.        , 0.00141193, 0.00988352],\n",
       "       [0.01694139, 0.00045788, 0.67261905, 0.        , 0.05631868,\n",
       "        0.1547619 , 0.09249084, 0.00045788, 0.        , 0.00595238],\n",
       "       [0.        , 0.07246377, 0.        , 0.        , 0.17391304,\n",
       "        0.03985507, 0.04710145, 0.27536232, 0.39130435, 0.        ]])"
      ]
     },
     "execution_count": 37,
     "metadata": {},
     "output_type": "execute_result"
    }
   ],
   "source": [
    "transition_matrix "
   ]
  },
  {
   "cell_type": "code",
   "execution_count": null,
   "id": "2ba4cdcf-5c51-40b5-b267-1b09ae178770",
   "metadata": {},
   "outputs": [],
   "source": []
  },
  {
   "cell_type": "code",
   "execution_count": null,
   "id": "d0b5bc47-24ee-41d4-ba47-b5973bf844ec",
   "metadata": {},
   "outputs": [],
   "source": []
  },
  {
   "cell_type": "markdown",
   "id": "6f4f234c-ccc5-4ed6-b910-560eaa5e2383",
   "metadata": {},
   "source": [
    "## load the edited labels"
   ]
  },
  {
   "cell_type": "code",
   "execution_count": 38,
   "id": "040b7dde-41cd-4b7b-be8b-3a00acee994d",
   "metadata": {},
   "outputs": [
    {
     "data": {
      "text/plain": [
       "(84309,)"
      ]
     },
     "execution_count": 38,
     "metadata": {},
     "output_type": "execute_result"
    }
   ],
   "source": [
    "# save the edited labels for subsequent loading\n",
    "edited_labels_path = '/home/liam/temp/edited_labels.h5'\n",
    "with h5py.File(edited_labels_path, 'r') as hf:\n",
    "    edited_labels = hf['edited_labels'][:]\n",
    "\n",
    "edited_labels.shape"
   ]
  },
  {
   "cell_type": "code",
   "execution_count": null,
   "id": "c01c94da-8780-43dc-9a78-b85d0d22f6d9",
   "metadata": {},
   "outputs": [],
   "source": []
  },
  {
   "cell_type": "code",
   "execution_count": 39,
   "id": "fec09aa8-e7e1-433e-bc83-adabd40676e6",
   "metadata": {},
   "outputs": [
    {
     "data": {
      "text/plain": [
       "['circling',\n",
       " 'direct away',\n",
       " 'winner attack',\n",
       " 'loser attack',\n",
       " 'display',\n",
       " 'direct approach (close)',\n",
       " 'middle circling',\n",
       " 'loser approach',\n",
       " 'winner approach',\n",
       " 'parallel']"
      ]
     },
     "execution_count": 39,
     "metadata": {},
     "output_type": "execute_result"
    }
   ],
   "source": [
    "state_names = ['circling',\n",
    "             'direct away',\n",
    "             'winner attack',\n",
    "             'loser attack',\n",
    "             'display',\n",
    "             'direct approach (close)',\n",
    "             'middle circling',\n",
    "             'loser approach',\n",
    "             'winner approach',\n",
    "             'parallel']\n",
    "\n",
    "state_names"
   ]
  },
  {
   "cell_type": "code",
   "execution_count": null,
   "id": "5076b938-279d-439f-9bd0-28a5b322988a",
   "metadata": {},
   "outputs": [],
   "source": []
  },
  {
   "cell_type": "code",
   "execution_count": null,
   "id": "4daf82ca-0608-4dbf-954c-784f0b8a9580",
   "metadata": {},
   "outputs": [],
   "source": []
  },
  {
   "cell_type": "code",
   "execution_count": 40,
   "id": "dc6d79a9-d631-4a9a-a70e-e226632f9bbe",
   "metadata": {},
   "outputs": [
    {
     "data": {
      "text/plain": [
       "{-2: 8996,\n",
       " -1: 2311,\n",
       " 0: 16741,\n",
       " 1: 628,\n",
       " 2: 16374,\n",
       " 3: 17424,\n",
       " 4: 7729,\n",
       " 5: 4672,\n",
       " 6: 2813,\n",
       " 7: 3452,\n",
       " 8: 2500,\n",
       " 9: 669}"
      ]
     },
     "execution_count": 40,
     "metadata": {},
     "output_type": "execute_result"
    }
   ],
   "source": [
    "vals, counts = np.unique(edited_labels, return_counts=True)\n",
    "dict(zip(vals,counts))"
   ]
  },
  {
   "cell_type": "code",
   "execution_count": null,
   "id": "deff39b3-9c9c-4cfa-9adc-5040fdd28116",
   "metadata": {},
   "outputs": [],
   "source": []
  },
  {
   "cell_type": "code",
   "execution_count": null,
   "id": "3b8097c0-b983-4675-ae06-b3802a60b85b",
   "metadata": {},
   "outputs": [],
   "source": []
  },
  {
   "cell_type": "markdown",
   "id": "3f5b9359-1def-44c0-a0ef-781b3fd7ee46",
   "metadata": {},
   "source": [
    "## remove NaN states and non-fight states"
   ]
  },
  {
   "cell_type": "code",
   "execution_count": 50,
   "id": "90c28dad-f802-4ab6-8715-8117d302e88d",
   "metadata": {},
   "outputs": [],
   "source": [
    "# For now, we don't want to concern ourselves with these,\n",
    "# we are focusing on fighting data, so we don't care so much about non-fight clusters"
   ]
  },
  {
   "cell_type": "code",
   "execution_count": 41,
   "id": "b6912792-f7eb-46a1-b1ed-a531001f0950",
   "metadata": {},
   "outputs": [
    {
     "data": {
      "text/plain": [
       "(84309,)"
      ]
     },
     "execution_count": 41,
     "metadata": {},
     "output_type": "execute_result"
    }
   ],
   "source": [
    "edited_labels.shape"
   ]
  },
  {
   "cell_type": "code",
   "execution_count": 42,
   "id": "3701381b-c342-4196-aeba-0a1fbb0ff47b",
   "metadata": {},
   "outputs": [
    {
     "data": {
      "text/plain": [
       "(73002,)"
      ]
     },
     "execution_count": 42,
     "metadata": {},
     "output_type": "execute_result"
    }
   ],
   "source": [
    "symbol_series = np.copy(edited_labels)\n",
    "symbol_series = symbol_series[symbol_series!=-2]\n",
    "symbol_series = symbol_series[symbol_series!=-1]\n",
    "\n",
    "symbol_series.shape"
   ]
  },
  {
   "cell_type": "code",
   "execution_count": 43,
   "id": "1131b1d4-b55a-4fdd-a2ae-a1ff9766283f",
   "metadata": {},
   "outputs": [
    {
     "data": {
      "text/plain": [
       "{0: 16741,\n",
       " 1: 628,\n",
       " 2: 16374,\n",
       " 3: 17424,\n",
       " 4: 7729,\n",
       " 5: 4672,\n",
       " 6: 2813,\n",
       " 7: 3452,\n",
       " 8: 2500,\n",
       " 9: 669}"
      ]
     },
     "execution_count": 43,
     "metadata": {},
     "output_type": "execute_result"
    }
   ],
   "source": [
    "vals, counts = np.unique(symbol_series, return_counts=True)\n",
    "dict(zip(vals,counts))"
   ]
  },
  {
   "cell_type": "code",
   "execution_count": null,
   "id": "d3713545-9ed9-479f-9424-3a130024ed36",
   "metadata": {},
   "outputs": [],
   "source": []
  },
  {
   "cell_type": "code",
   "execution_count": null,
   "id": "79103cf7-d1bf-499a-a26d-fcf9d11f671d",
   "metadata": {},
   "outputs": [],
   "source": []
  },
  {
   "cell_type": "markdown",
   "id": "644f9389-cb23-4ef6-86a4-572d7a9d3576",
   "metadata": {},
   "source": [
    "## entropy calculation"
   ]
  },
  {
   "cell_type": "code",
   "execution_count": null,
   "id": "eae79a8c-4767-4fd4-bb11-aef971a27d9e",
   "metadata": {},
   "outputs": [],
   "source": []
  },
  {
   "cell_type": "code",
   "execution_count": 44,
   "id": "8bb1c57e-b611-4c7f-89ed-2131eb984442",
   "metadata": {},
   "outputs": [
    {
     "data": {
      "text/plain": [
       "array([0, 1, 2, 3, 4, 5, 6, 7, 8, 9])"
      ]
     },
     "execution_count": 44,
     "metadata": {},
     "output_type": "execute_result"
    }
   ],
   "source": [
    "state_idxs = np.arange(10)\n",
    "state_idxs"
   ]
  },
  {
   "cell_type": "code",
   "execution_count": null,
   "id": "f00839d1-97cf-4a92-badc-a5357c685ef1",
   "metadata": {},
   "outputs": [],
   "source": []
  },
  {
   "cell_type": "code",
   "execution_count": 45,
   "id": "6a812634-5c0e-47a3-b596-e71c75a9bed9",
   "metadata": {},
   "outputs": [],
   "source": [
    "from collections import Counter\n",
    "import itertools\n",
    "from scipy.stats import entropy"
   ]
  },
  {
   "cell_type": "code",
   "execution_count": 46,
   "id": "824152de-fa07-42f6-af57-b07c1ae7879e",
   "metadata": {},
   "outputs": [
    {
     "data": {
      "text/plain": [
       "(10, 1)"
      ]
     },
     "execution_count": 46,
     "metadata": {},
     "output_type": "execute_result"
    }
   ],
   "source": [
    "def find_sequences_of_length_N(possible_values, N):\n",
    "    ''' Given an array of possible values of a symbol series,\n",
    "        find all permutations of length N of these symbols\n",
    "        \n",
    "    --args--\n",
    "    possible_values: array from 0 to K\n",
    "    N: the sequence length\n",
    "    '''\n",
    "    seqs = []\n",
    "    for perm in itertools.permutations(possible_values, N):\n",
    "        seqs.append(perm)\n",
    "    seqs = np.stack(seqs, axis=0)\n",
    "    return seqs\n",
    "\n",
    "seqs = find_sequences_of_length_N(state_idxs, 1)\n",
    "seqs.shape"
   ]
  },
  {
   "cell_type": "code",
   "execution_count": null,
   "id": "c80f895f-8245-481d-81c0-1559305d46b2",
   "metadata": {},
   "outputs": [],
   "source": []
  },
  {
   "cell_type": "code",
   "execution_count": null,
   "id": "db200839-2f6b-4ebe-a6a1-0c3e7e97a25e",
   "metadata": {},
   "outputs": [],
   "source": []
  },
  {
   "cell_type": "code",
   "execution_count": 47,
   "id": "52cd9a2e-6db7-441c-b102-d568d3c38cfc",
   "metadata": {},
   "outputs": [],
   "source": [
    "def divide_symbol_series_into_sequences_of_length_N(symbol_series, N):\n",
    "    ''' Given a symbol series, return a list of tuples, each tuple a \n",
    "        sequence of length N, each row incrementing the start point \n",
    "        by one. \n",
    "    '''\n",
    "    seq_series = []\n",
    "    for i in range(symbol_series.shape[0]-N):\n",
    "        seq_series.append(tuple(symbol_series[i:i+N]))\n",
    "    return seq_series\n",
    "\n",
    "def get_string_occurances_from_list_of_strings(seq_series):\n",
    "    ''' Given ser_series, a list of tuples, each tuple a sequence of states,\n",
    "        return an array of the unique strings found (along rows),\n",
    "        and an array of the probability of these strings\n",
    "    '''\n",
    "    string_counter = Counter(seq_series)\n",
    "    unique_vals = np.array(list(string_counter.keys()))\n",
    "    unique_val_counts = list(string_counter.values())\n",
    "    unique_val_probs = unique_val_counts / np.sum(unique_val_counts)\n",
    "    return unique_vals, unique_val_probs\n",
    "\n",
    "\n",
    "def find_length_N_strings_and_probs(symbol_series, N):\n",
    "    ''' Given a symbol series, and a string length N,\n",
    "        find the probability of each string of length N which occurs\n",
    "        in the symbol series\n",
    "    '''\n",
    "    seq_series = divide_symbol_series_into_sequences_of_length_N(symbol_series, N)\n",
    "    unique_vals, unique_val_probs = get_string_occurances_from_list_of_strings(seq_series)\n",
    "    return unique_vals, unique_val_probs\n",
    "\n",
    "\n",
    "def calculate_entropy_of_sequences_of_length_N(symbol_series, N):\n",
    "    ''' Given a symbol series, and a string length N,\n",
    "        calculate the entropy of strings of length N from the symbol series\n",
    "    '''\n",
    "    unique_vals, unique_val_probs = find_length_N_strings_and_probs(symbol_series, N)\n",
    "    ent = entropy(unique_val_probs, base=2)\n",
    "    return ent\n"
   ]
  },
  {
   "cell_type": "code",
   "execution_count": null,
   "id": "8682e232-c90b-4e83-bbe8-d97a42496004",
   "metadata": {},
   "outputs": [],
   "source": []
  },
  {
   "cell_type": "code",
   "execution_count": 48,
   "id": "6ab30810-086f-49da-8505-ad4f8d716998",
   "metadata": {},
   "outputs": [
    {
     "name": "stdout",
     "output_type": "stream",
     "text": [
      "Computing entropies ...\n",
      "N: 1\n",
      "0.10760307312011719\n",
      "N: 2\n",
      "0.21335530281066895\n",
      "N: 3\n",
      "0.3234870433807373\n",
      "N: 4\n",
      "0.44721412658691406\n",
      "\n",
      "\n",
      "\n",
      "0.4475564956665039\n"
     ]
    }
   ],
   "source": [
    "### --- main calculation --- ###\n",
    "t0 = time.time()\n",
    "\n",
    "# set a list of N's to cycle through\n",
    "N_list = [1, 2, 3, 4]\n",
    "\n",
    "strings_ents = []\n",
    "\n",
    "print('Computing entropies ...')\n",
    "for N in N_list:\n",
    "    print('N: {0}'.format(N))\n",
    "    ent = calculate_entropy_of_sequences_of_length_N(symbol_series, N)\n",
    "    strings_ents.append(ent)\n",
    "    print(time.time() - t0)\n",
    "print()\n",
    "    \n",
    "# calculate the entropy divided by the string length\n",
    "scaled_string_ents = np.array(strings_ents) / np.array(N_list)\n",
    "print()\n",
    "\n",
    "print()\n",
    "print(time.time() - t0)"
   ]
  },
  {
   "cell_type": "code",
   "execution_count": 49,
   "id": "7f2905ca-60c6-4080-a8de-9e609806e036",
   "metadata": {},
   "outputs": [
    {
     "data": {
      "text/plain": [
       "[2.73791996563851, 5.037432581826782, 7.259318738749345, 9.422965404824112]"
      ]
     },
     "execution_count": 49,
     "metadata": {},
     "output_type": "execute_result"
    }
   ],
   "source": [
    "strings_ents"
   ]
  },
  {
   "cell_type": "code",
   "execution_count": 50,
   "id": "ae903df5-41d5-47fa-b9e2-60c48a8a4d88",
   "metadata": {},
   "outputs": [
    {
     "data": {
      "text/plain": [
       "array([2.73791997, 2.51871629, 2.41977291, 2.35574135])"
      ]
     },
     "execution_count": 50,
     "metadata": {},
     "output_type": "execute_result"
    }
   ],
   "source": [
    "scaled_string_ents"
   ]
  },
  {
   "cell_type": "code",
   "execution_count": null,
   "id": "ba1af862-7ef7-4279-ad40-9c919cde35d1",
   "metadata": {},
   "outputs": [],
   "source": []
  },
  {
   "cell_type": "code",
   "execution_count": 51,
   "id": "f8693a1d-4098-4775-a668-5f371de8ed97",
   "metadata": {},
   "outputs": [
    {
     "data": {
      "text/plain": [
       "array([-0.21920367, -0.09894338, -0.06403156])"
      ]
     },
     "execution_count": 51,
     "metadata": {},
     "output_type": "execute_result"
    }
   ],
   "source": [
    "np.diff(scaled_string_ents)"
   ]
  },
  {
   "cell_type": "code",
   "execution_count": null,
   "id": "ac6b6100-658b-4ec5-b252-1df534f7af84",
   "metadata": {},
   "outputs": [],
   "source": []
  },
  {
   "cell_type": "code",
   "execution_count": 52,
   "id": "73457601-03ec-4313-a692-57e6498929cc",
   "metadata": {},
   "outputs": [
    {
     "data": {
      "application/vnd.jupyter.widget-view+json": {
       "model_id": "43ac2e8865874cda9dd4c311f3aab8ac",
       "version_major": 2,
       "version_minor": 0
      },
      "text/html": [
       "\n",
       "            <div style=\"display: inline-block;\">\n",
       "                <div class=\"jupyter-widgets widget-label\" style=\"text-align: center;\">\n",
       "                    Figure\n",
       "                </div>\n",
       "                <img src='data:image/png;base64,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' width=640.0/>\n",
       "            </div>\n",
       "        "
      ],
      "text/plain": [
       "Canvas(toolbar=Toolbar(toolitems=[('Home', 'Reset original view', 'home', 'home'), ('Back', 'Back to previous …"
      ]
     },
     "metadata": {},
     "output_type": "display_data"
    }
   ],
   "source": [
    "fig, axs = plt.subplots()\n",
    "ax = axs\n",
    "\n",
    "ax.plot(N_list, scaled_string_ents, 'bo')\n",
    "\n",
    "ax.axhline(np.log2(10), label='entropy of uniform 10 state distribution')\n",
    "\n",
    "ax.set_title('Entropy of sequences of length N divided by N')\n",
    "\n",
    "ax.set_xlim(N_list[0],N_list[-1])\n",
    "ax.set_xlabel('String length N')\n",
    "\n",
    "ax.set_ylabel('Entropy (bits)')\n",
    "\n",
    "ax.set_xlim(0, 5)\n",
    "ax.set_ylim(2, 4)\n",
    "\n",
    "ax.set_xticks([1,2,3,4]);\n",
    "\n",
    "ax.legend(loc='upper right')\n",
    "ax.grid()"
   ]
  },
  {
   "cell_type": "code",
   "execution_count": null,
   "id": "2ee79c95-fcda-45b8-9818-88ee02cfb6f6",
   "metadata": {},
   "outputs": [],
   "source": []
  },
  {
   "cell_type": "code",
   "execution_count": 70,
   "id": "a8e77650-747a-468b-b0ca-230a21e5cc22",
   "metadata": {},
   "outputs": [
    {
     "data": {
      "text/plain": [
       "3.321928094887362"
      ]
     },
     "execution_count": 70,
     "metadata": {},
     "output_type": "execute_result"
    }
   ],
   "source": [
    "np.log2(10)"
   ]
  },
  {
   "cell_type": "code",
   "execution_count": null,
   "id": "97f44b5c-9baa-4440-93b0-42f7f0f1c56b",
   "metadata": {},
   "outputs": [],
   "source": []
  },
  {
   "cell_type": "code",
   "execution_count": 53,
   "id": "ea654be8-7ba4-4eea-b86d-e906bc4841b4",
   "metadata": {},
   "outputs": [
    {
     "data": {
      "application/vnd.jupyter.widget-view+json": {
       "model_id": "439ae16cf49a44119c7872ab052d7403",
       "version_major": 2,
       "version_minor": 0
      },
      "text/html": [
       "\n",
       "            <div style=\"display: inline-block;\">\n",
       "                <div class=\"jupyter-widgets widget-label\" style=\"text-align: center;\">\n",
       "                    Figure\n",
       "                </div>\n",
       "                <img src='data:image/png;base64,iVBORw0KGgoAAAANSUhEUgAAAZAAAAGQCAYAAACAvzbMAAAAOXRFWHRTb2Z0d2FyZQBNYXRwbG90bGliIHZlcnNpb24zLjQuMywgaHR0cHM6Ly9tYXRwbG90bGliLm9yZy/MnkTPAAAACXBIWXMAAA9hAAAPYQGoP6dpAAAZRUlEQVR4nO3dX0zV9/3H8ddB7E+mYCctcDog6rqgYpiKTXrS+mfFP6mNf6q9U2u7btPf8F+JsZFeLKZtNJn5BY0b4EJ1ShzLiliXKtFkPdgmmoBCSjs0WaIFyTlaFjWVKQrn/C6IzFNA7bvfwzmH83wkXpzP+R76/hT16fd8zzm4gsFgUAAAfE8JkR4AABCbCAgAwISAAABMCAgAwISAAABMCAgAwISAAABMCAgAwISAAABMCAgAwISAAABMCAgAwISAAABMCAgAwISAAABMCAgAwISAAABMCAgAwISAAABMCAgAwISAAABMCAgAwISAAABMCAgAwISAAABMCAgAwISAAABMCAgAwISAAABMCAgAwISAAABMCAgAwISAAABMCAgAwISAAABMCAgAwISAAABMCAgAwISAAABMCAgAwISAAABMCAgAwISAAABMwhaQHTt2yOVyafPmzQ89rq6uTvn5+Ro1apQmTpyosrKycI0EAHBQWAJSX1+vffv2KS8v76HHXbp0SYsWLdKsWbPU2Nio4uJibdy4UdXV1eEYCwDgIMcDcuvWLa1cuVJ/+tOf9OMf//ihx5aVlSk7O1slJSWaPHmyfvWrX+mXv/yldu3a5fRYAACHJTr9BQsLC/XKK69o3rx5ev/99x967JkzZ7RgwYKQtYULF6qiokL37t3TyJEj+z3G5/PJ5/OFrF2/fl0tLS2aPn26kpKSfvgmACDCbt++rcuXL2vhwoV66qmnIj3OgBwNSFVVlc6fP6/6+vrHOt7v9ys9PT1kLT09Xd3d3ero6JDb7e73mPLycm3fvt2ReQEg2lVWVmrlypWRHmNAjgWkra1NmzZt0smTJzVq1KjHfpzL5Qq5HQwGB1y/b+3atVqyZEnIWlNTk9566y0dOnRIkyZN+p6Tx65AICC/36+MjAwlJMTPC+rYN/uOBxcuXNDq1as1fvz4SI8yKMcCcu7cOV27dk35+fl9az09PTp9+rT27t2rrq4ujRgxIuQxGRkZ8vv9IWvXrl1TYmKiUlNTB/zvuN3uAc9MJGnKlCmaMWPGD9xJ7AgEAmptbVV2dnZc/cFi3+w7HtzfazQ/Le9YQAoKCtTc3Byy9uabb2rSpEl65513+sVDkjwej/7+97+HrJ08eVIzZ84c8PoHACB6OBaQ5ORkTZ06NWRt9OjRSk1N7Vvftm2b2tvbdfDgQUnSunXrtHfvXhUVFenXv/61zpw5o4qKCv3lL39xaiwAQJgM6fmgz+dTa2tr3+0JEybo+PHj8nq9mjZtmt577z3t2bNHK1asGMqxAAAGjr+M90Ferzfk9oEDB/odM2fOHJ0/fz6cYwAAwiB+rkgBABxFQAAAJgQEAGBCQAAAJgQEAGBCQAAAJgQEAGBCQAAAJgQEAGBCQAAAJgQEAGBCQAAAJgQEAGBCQAAAJgQEAGBCQAAAJgQEAGBCQAAAJgQEAGBCQAAAJgQEAGBCQAAAJgQEAGBCQAAAJgQEAGBCQAAAJgQEAGBCQAAAJgQEAGBCQAAAJgQEAGBCQAAAJgQEAGBCQAAAJgQEAGBCQAAAJgQEAGBCQAAAJgQEAGBCQAAAJgQEAGBCQAAAJgQEAGBCQAAAJgQEAGBCQAAAJgQEAGBCQAAAJgQEAGBCQAAAJgQEAGBCQAAAJgQEAGBCQAAAJgQEAGBCQAAAJgQEAGBCQAAAJgQEAGBCQAAAJgQEAGBCQAAAJgQEAGBCQAAAJgQEAGDiaEBKS0uVl5enlJQUpaSkyOPx6MSJE4Me7/V65XK5+v26cOGCk2MBAMIg0ckvlpmZqZ07d+rZZ5+VJP35z3/W0qVL1djYqNzc3EEfd/HiRaWkpPTdfvrpp50cCwAQBo4GZPHixSG3P/jgA5WWlurs2bMPDUhaWpqefPJJJ0cBAIRZ2K6B9PT0qKqqSp2dnfJ4PA89dvr06XK73SooKNCnn34arpEAAA5y9AxEkpqbm+XxeHTnzh2NGTNGNTU1mjJlyoDHut1u7du3T/n5+erq6tKhQ4dUUFAgr9er2bNnD/gYn88nn88XstbS0iJJCgQCCgQCzm4oit3fbzztWWLf7Ds+xMJ+HQ9ITk6OmpqadOPGDVVXV2vNmjWqq6sbMCI5OTnKycnpu+3xeNTW1qZdu3YNGpDy8nJt3759wPv8fr9aW1ud2UgMCAaDun79et+LD+IF+2bf8cDv90d6hEdyPCBPPPFE30X0mTNnqr6+Xrt371Z5efljPf75559XZWXloPevXbtWS5YsCVlraWnRqlWrlJGRoezsbPvwMSYQCCgYDCorK0sJCfHzimz2zb7jQUdHR6RHeCTHA/JdwWBQXV1dj318Y2Oj3G73oPe73e5B709ISIir32DSf/fMvuMD+46ffcfCXh0NSHFxsV5++WVlZWXp22+/VVVVlbxer2prayVJ27ZtU3t7uw4ePChJKikp0fjx45Wbm6u7d++qsrJS1dXVqq6udnIsAEAYOBqQq1evavXq1fL5fBo7dqzy8vJUW1ur+fPnS+q9AP7gNYq7d+9qy5Ytam9vV1JSknJzc/XJJ59o0aJFTo4FAAgDRwNSUVHx0PsPHDgQcnvr1q3aunWrkyMAAIZI9D/JBgCISgQEAGBCQAAAJgQEAGBCQAAAJgQEAGBCQAAAJgQEAGBCQAAAJgQEAGBCQAAAJgQEAGBCQAAAJgQEAGBCQAAAJgQEAGBCQAAAJgQEAGBCQAAAJo7+TPRIu32vW/+52x3pMYZMIBDQ7XsB/edutxIS4uffAuybfceD2/ei/++yYRWQ10rP6H8yvon0GBHQEukBIoR9x5f42neX/1+RHuGR4ifnAABHDaszkI/+16Pp02dEeowhEwgE1NZ2RVlZmXF1as++2Xc8aGx8Wi/+OdJTPNywCkjSyET96IlhtaWHCgQCShqZoB89kRhXf7DYN/uOB0kjo//vsvj5bgAAHEVAAAAmBAQAYEJAAAAmBAQAYEJAAAAmBAQAYEJAAAAmBAQAYEJAAAAmBAQAYEJAAAAmBAQAYEJAAAAmBAQAYEJAAAAmBAQAYEJAAAAmBAQAYEJAAAAmBAQAYEJAAAAmBAQAYEJAAAAmBAQAYEJAAAAmBAQAYEJAAAAmBAQAYEJAAAAmBAQAYEJAAAAmBAQAYEJAAAAmBAQAYEJAAAAmBAQAYEJAAAAmBAQAYEJAAAAmBAQAYEJAAAAmBAQAYOJoQEpLS5WXl6eUlBSlpKTI4/HoxIkTD31MXV2d8vPzNWrUKE2cOFFlZWVOjgQACBNHA5KZmamdO3eqoaFBDQ0Neumll7R06VJ99dVXAx5/6dIlLVq0SLNmzVJjY6OKi4u1ceNGVVdXOzkWACAMEp38YosXLw65/cEHH6i0tFRnz55Vbm5uv+PLysqUnZ2tkpISSdLkyZPV0NCgXbt2acWKFU6OBgBwmKMBeVBPT4/+9re/qbOzUx6PZ8Bjzpw5owULFoSsLVy4UBUVFbp3755GjhzZ7zE+n08+ny9kraWlRZIUCAQUCAQc2kH0u7/feNqzxL7Zd3yIhf06HpDm5mZ5PB7duXNHY8aMUU1NjaZMmTLgsX6/X+np6SFr6enp6u7uVkdHh9xud7/HlJeXa/v27YN+vdbW1h++iRgRDAZ1/fp1uVwuuVyuSI8zZNg3+44Hfr8/0iM8kuMBycnJUVNTk27cuKHq6mqtWbNGdXV1g0bku78hgsHggOv3rV27VkuWLAlZa2lp0apVq5SRkaHs7GwHdhEbAoGAgsGgsrKylJAQPy+oY9/sOx50dHREeoRHcjwgTzzxhJ599llJ0syZM1VfX6/du3ervLy837EZGRn9Knvt2jUlJiYqNTV1wK/vdrsHPDORpISEhLj6DSb9d8/sOz6w7/jZdyzsNewTBoNBdXV1DXifx+PRqVOnQtZOnjypmTNnDnj9AwAQPRwNSHFxsT777DNdvnxZzc3Nevfdd+X1erVy5UpJ0rZt2/T666/3Hb9u3Tp9/fXXKioqUktLiz788ENVVFRoy5YtTo4FAAgDR5/Cunr1qlavXi2fz6exY8cqLy9PtbW1mj9/vqTeV1A9eJF7woQJOn78uN5++2394Q9/0DPPPKM9e/bwEl4AiAGOBqSiouKh9x84cKDf2pw5c3T+/HknxwAADIHov0oDAIhKBAQAYEJAAAAmBAQAYEJAAAAmBAQAYEJAAAAmBAQAYEJAAAAmBAQAYEJAAAAmBAQAYEJAAAAmBAQAYEJAAAAmBAQAYEJAAAAmBAQAYEJAAAAmBAQAYEJAAAAmBAQAYEJAAAAmBAQAYEJAAAAmBAQAYEJAAAAmBAQAYEJAYlRPj+T1SseOjZbX23sbAIZSYqQHwPd35Ii0aZN05UqCpKclSZmZ0u7d0vLlkZ0NQPzgDCTGHDkivfaadOVK6Hp7e+/6kSORmQtA/CEgMaSnp/fMIxjsf9/9tc2beToLwNAgIDHks8/6n3k8KBiU2tp6jwOAcCMgMcTnc/Y4APghCEgMcbudPQ4AfggCEkNmzep9tZXLNfD9LpeUldV7HACEGwGJISNG9L5UV+ofkfu3S0p6jwOAcCMgMWb5cumjj6Sf/CR0PTOzd533gQAYKryRMAYtXy4tXSrV1QX05Zf/1tSpqZozJ4EzDwBDioDEqBEjpLlzpYkTO5WdnaoEziUBDDH+2gEAmBAQAIAJAQEAmBAQAIAJAQEAmBAQAIAJAQEAmBAQAIAJAQEAmBAQAIAJAQEAmBAQAIAJAQEAmBAQAIAJAQEAmBAQAIAJAQEAmBAQAIAJAQEAmBAQAIAJAQEAmBAQAIAJAUFM6emRvF7p2LHR8np7bwOIjMRIDwA8riNHpE2bpCtXEiQ9LUnKzJR275aWL4/sbEA84gwEMeHIEem116QrV0LX29t7148cicxcQDxzLCA7duzQc889p+TkZKWlpWnZsmW6ePHiQx/j9Xrlcrn6/bpw4YJTY2EY6OnpPfMIBvvfd39t82aezgKGmmMBqaurU2Fhoc6ePatTp06pu7tbCxYsUGdn5yMfe/HiRfl8vr5fP/vZz5waC8PAZ5/1P/N4UDAotbX1Hgdg6Dh2DaS2tjbk9v79+5WWlqZz585p9uzZD31sWlqannzySadGwTDj8zl7HABnhO0ayM2bNyVJ48aNe+Sx06dPl9vtVkFBgT799NNwjYQY5XY7exwAZ4TlVVjBYFBFRUV68cUXNXXq1EGPc7vd2rdvn/Lz89XV1aVDhw6poKBAXq930LOW+09zPailpUWSFAgEFAgEnNtIlLu/3+G+5xdekDIzXWpvl4JBV7/7Xa6gMjOlF14Iajj/r4iX7/d3xfO+o11YArJ+/Xp98cUX+vzzzx96XE5OjnJycvpuezwetbW1adeuXYMGpLy8XNu3bx/wPr/fr9bWVvvgMSYYDOr69et9Lz4Yzt5990f67W+flssVDImIy9V7Fb24+Bu1t/8nUuMNiXj6fj8oXvft9/sjPcIjOR6QDRs26NixYzp9+rQyMzO/9+Off/55VVZWDnr/2rVrtWTJkpC1lpYWrVq1ShkZGcrOzv7e/81YFQgEFAwGlZWVpYSE4f2K7N/8RnrqqaDeftsVckE9M1P6v/8LavnypyI33BCJp+/3g+J13x0dHZEe4ZEcC0gwGNSGDRtUU1Mjr9erCRMmmL5OY2Oj3A95Mtvtdg96f0JCQlz9BpP+u+d42Pdrr0mvvirV1QX05Zf/1tSpqZozJ0EjRsTPv0rj6fv9oHjcdyzs1bGAFBYW6vDhw/r444+VnJzcd/o1duxYJSUlSZK2bdum9vZ2HTx4UJJUUlKi8ePHKzc3V3fv3lVlZaWqq6tVXV3t1FgYZkaMkObOlSZO7FR2dqpi4M8YMGw5FpDS0lJJ0ty5c0PW9+/frzfeeENS7wXwB69R3L17V1u2bFF7e7uSkpKUm5urTz75RIsWLXJqLABAmDj6FNajHDhwIOT21q1btXXrVqdGAAAMIZ4AAACYEBAgBvAx9ohGfJw7EOX4GHtEK85AgCjGx9gjmhEQIErxMfaIdgQEiFJ8jD2iHQEBohQfY49oR0CAKMXH2CPaERAgSs2a1ftqq8E+gNblkrKyeo8DIoGAAFFqxIjel+pK/SNy/3ZJSe9xQCQQECCKLV8uffSR9JOfhK5nZvau8z4QRBJvJASi3PLl0tKlA32MfaQnC7+eHqmuTvryy9GaOlWaM4czrmhCQIAYEI8fY8878KNfHPw2BBBreAd+bCAgAKIK78CPHQQEQFThHfixg4AAiCq8Az92EBAAUYV34McOAgIgqvAO/NhBQABEFd6BHzsICICowzvwYwNvJAQQleL5HfixgoAAiFrx+A78WMK3AwBgQkAAACYEBABgQkAAACYEBABgQkAAACYEBABgQkAAACYEBABgQkAAACYEBABgQkAAACYEBABgQkAAACYEBABgQkAAACYEBABgQkAAACYEBABgQkAAACYEBABgQkAAACYEBABgQkAAACYEBABgQkAAACYEBABgQkAAACYEBABgQkAAACYEBABgQkAAACYEBABgQkAAACYEBABgQkAAACYEBABgQkAAACYEBABgQkAAACYEBABgQkAAACYEBABgQkAAACaOBWTHjh167rnnlJycrLS0NC1btkwXL1585OPq6uqUn5+vUaNGaeLEiSorK3NqJABAGDkWkLq6OhUWFurs2bM6deqUuru7tWDBAnV2dg76mEuXLmnRokWaNWuWGhsbVVxcrI0bN6q6utqpsQAAYZLo1Beqra0Nub1//36lpaXp3Llzmj179oCPKSsrU3Z2tkpKSiRJkydPVkNDg3bt2qUVK1Y4NRoAIAwcC8h33bx5U5I0bty4QY85c+aMFixYELK2cOFCVVRU6N69exo5cmS/x/h8Pvl8vpC1pqYmSdI///lPBQKBHzh57AgEAvL7/bp27ZoSEuLnchb7Zt/x4MKFC5Kk27dvR3iSwYUlIMFgUEVFRXrxxRc1derUQY/z+/1KT08PWUtPT1d3d7c6Ojrkdrv7Paa8vFzbt28f8OutXr36hw0OAFHm8uXLeuGFFyI9xoDCEpD169friy++0Oeff/7IY10uV8jtYDA44Pp9a9eu1ZIlS0LWrl+/rpaWFk2fPl1JSUnGqWNPS0uLVq1apcrKSk2ePDnS4wwZ9s2+48Ht27d1+fJlLVy4MNKjDMrxgGzYsEHHjh3T6dOnlZmZ+dBjMzIy5Pf7Q9auXbumxMREpaamDvgYt9s94JlJQUGBfegYN3nyZM2YMSPSYww59h1f4nHf0XrmcZ9jTygGg0GtX79eR44c0T/+8Q9NmDDhkY/xeDw6depUyNrJkyc1c+bMAa9/AACih2MBKSwsVGVlpQ4fPqzk5GT5/X75/f6QC0Dbtm3T66+/3nd73bp1+vrrr1VUVKSWlhZ9+OGHqqio0JYtW5waCwAQJo4FpLS0VDdv3tTcuXP7nmZyu93661//2neMz+dTa2tr3+0JEybo+PHj8nq9mjZtmt577z3t2bOHl/ACQAxw7BrI/YvfD3PgwIF+a3PmzNH58+edGiOuuN1u/e53vxvwmtBwxr7ZN6KDK/g4f/MDAPAd8fOuHACAowgIAMCEgAAATAhIDDp9+rQWL16sZ555Ri6XS0ePHo30SEPC+iMDYl1paany8vKUkpKilJQUeTwenThxItJjDakdO3bI5XJp8+bNkR4FDyAgMaizs1M///nPtXfv3kiPMqQsPzJgOMjMzNTOnTvV0NCghoYGvfTSS1q6dKm++uqrSI82JOrr67Vv3z7l5eVFehR8B6/CinEul0s1NTVatmxZpEcZct98843S0tJUV1c36I8MGK7GjRun3//+93rrrbciPUpY3bp1SzNmzNAf//hHvf/++5o2bVrfj39A5HEGgpj1OD8yYLjp6elRVVWVOjs75fF4Ij1O2BUWFuqVV17RvHnzIj0KBhC2nwcChNPj/siA4aK5uVkej0d37tzRmDFjVFNToylTpkR6rLCqqqrS+fPnVV9fH+lRMAgCgpj0fX5kwHCQk5OjpqYm3bhxQ9XV1VqzZo3q6uqGbUTa2tq0adMmnTx5UqNGjYr0OBgE10BiXDxeA9mwYYOOHj2q06dPP9anPg9H8+bN009/+lOVl5dHepSwOHr0qF599VWNGDGib62np0cul0sJCQnq6uoKuQ+RwRkIYkYwGNSGDRtUU1Mjr9cbt/GQev9fdHV1RXqMsCkoKFBzc3PI2ptvvqlJkybpnXfeIR5RgoDEoFu3bulf//pX3+1Lly6pqalJ48aNU3Z2dgQnC6/CwkIdPnxYH3/8cd+PDJCksWPHDuufRFlcXKyXX35ZWVlZ+vbbb1VVVSWv16va2tpIjxY2ycnJ/a5tjR49WqmpqXFxzStWEJAY1NDQoF/84hd9t4uKiiRJa9asGfATj4eL0tJSSdLcuXND1vfv36833nhj6AcaIlevXtXq1avl8/k0duxY5eXlqba2VvPnz4/0aIhzXAMBAJjwPhAAgAkBAQCYEBAAgAkBAQCYEBAAgAkBAQCYEBAAgAkBAQCYEBAAgAkBAQCYEBAAgAkBAQCYEBAAgAkBAQCYEBAAgAkBAQCYEBAAgAkBAQCYEBAAgAkBAQCYEBAAgAkBAQCY/D/JlcYQqOnBdwAAAABJRU5ErkJggg==' width=400.0/>\n",
       "            </div>\n",
       "        "
      ],
      "text/plain": [
       "Canvas(toolbar=Toolbar(toolitems=[('Home', 'Reset original view', 'home', 'home'), ('Back', 'Back to previous …"
      ]
     },
     "metadata": {},
     "output_type": "display_data"
    }
   ],
   "source": [
    "fig, axs = plt.subplots(figsize=(4,4))\n",
    "ax = axs\n",
    "\n",
    "ax.plot(N_list, scaled_string_ents, 'bo')\n",
    "\n",
    "ax.axhline(np.log2(10), label='entropy of uniform 10 state distribution')\n",
    "\n",
    "ax.set_title('')\n",
    "\n",
    "ax.set_xlim(N_list[0],N_list[-1])\n",
    "ax.set_xlabel('')\n",
    "\n",
    "ax.set_ylabel('')\n",
    "\n",
    "ax.set_xlim(0, 5)\n",
    "ax.set_ylim(2, 4)\n",
    "\n",
    "ax.set_xticks([1,2,3,4]);\n",
    "\n",
    "ax.set_yticks([2, 2.5, 3, 3.5, 4]);\n",
    "\n",
    "lw = 1\n",
    "ticklen = 4\n",
    "for axis in ['top','bottom','left','right']:\n",
    "    ax.spines[axis].set_linewidth(lw)\n",
    "ax.xaxis.set_tick_params(width=lw, length=ticklen)\n",
    "ax.yaxis.set_tick_params(width=lw, length=ticklen)\n",
    "\n",
    "#fig.savefig('/home/liam/temp/image_transfer/chap5_seq_ent.png', dpi=300, transparent=True)\n",
    "\n",
    "#ax.legend(loc='upper right')\n",
    "ax.grid(alpha=0.4)"
   ]
  },
  {
   "cell_type": "code",
   "execution_count": null,
   "id": "31192aa9-b072-4aa9-808e-27aefb34ff97",
   "metadata": {},
   "outputs": [],
   "source": []
  },
  {
   "cell_type": "code",
   "execution_count": 54,
   "id": "ecc850dd-3ca4-4053-a91c-58beb17497ee",
   "metadata": {},
   "outputs": [
    {
     "data": {
      "application/vnd.jupyter.widget-view+json": {
       "model_id": "a4b078a09d374fb383905237eb40ab27",
       "version_major": 2,
       "version_minor": 0
      },
      "text/html": [
       "\n",
       "            <div style=\"display: inline-block;\">\n",
       "                <div class=\"jupyter-widgets widget-label\" style=\"text-align: center;\">\n",
       "                    Figure\n",
       "                </div>\n",
       "                <img src='data:image/png;base64,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' width=400.0/>\n",
       "            </div>\n",
       "        "
      ],
      "text/plain": [
       "Canvas(toolbar=Toolbar(toolitems=[('Home', 'Reset original view', 'home', 'home'), ('Back', 'Back to previous …"
      ]
     },
     "metadata": {},
     "output_type": "display_data"
    }
   ],
   "source": [
    "fig, axs = plt.subplots(figsize=(4,4))\n",
    "ax = axs\n",
    "\n",
    "ax.plot(N_list, scaled_string_ents, 'bo')\n",
    "\n",
    "ax.axhline(np.log2(10), label='entropy of uniform 10 state distribution')\n",
    "\n",
    "ax.set_title('')\n",
    "\n",
    "ax.set_xlim(N_list[0],N_list[-1])\n",
    "ax.set_xlabel('')\n",
    "\n",
    "ax.set_ylabel('')\n",
    "\n",
    "ax.set_xlim(0, 5)\n",
    "ax.set_ylim(2, 4)\n",
    "\n",
    "ax.set_xticks([1,2,3,4]);\n",
    "\n",
    "ax.set_yticks([2, 2.5, 3, 3.5, 4]);\n",
    "\n",
    "ax.set_xticklabels([]);\n",
    "ax.set_yticklabels([]);\n",
    "\n",
    "lw = 1\n",
    "ticklen = 4\n",
    "for axis in ['top','bottom','left','right']:\n",
    "    ax.spines[axis].set_linewidth(lw)\n",
    "ax.xaxis.set_tick_params(width=lw, length=ticklen)\n",
    "ax.yaxis.set_tick_params(width=lw, length=ticklen)\n",
    "\n",
    "#fig.savefig('/home/liam/temp/image_transfer/chap5_seq_ent.png', dpi=300, transparent=True)\n",
    "\n",
    "#ax.legend(loc='upper right')\n",
    "ax.grid(alpha=0.4)"
   ]
  },
  {
   "cell_type": "code",
   "execution_count": null,
   "id": "80a30b51-b0aa-4530-9ec9-85cbc4e0bd21",
   "metadata": {},
   "outputs": [],
   "source": []
  },
  {
   "cell_type": "code",
   "execution_count": null,
   "id": "3ddc1a48-a072-43a9-99ad-1eb7be8a3c5a",
   "metadata": {},
   "outputs": [],
   "source": []
  },
  {
   "cell_type": "markdown",
   "id": "fc3990b5-f20b-4ee6-b903-70ee40749ae9",
   "metadata": {},
   "source": [
    "## entropy calc v2"
   ]
  },
  {
   "cell_type": "code",
   "execution_count": 55,
   "id": "91ac294f-c11d-44b0-9c80-766bddfc5938",
   "metadata": {},
   "outputs": [],
   "source": [
    "# I want to normalize each time"
   ]
  },
  {
   "cell_type": "code",
   "execution_count": null,
   "id": "65a8be4c-bb45-4831-862a-cd060f7ea11d",
   "metadata": {},
   "outputs": [],
   "source": []
  },
  {
   "cell_type": "code",
   "execution_count": 65,
   "id": "d110f134-c346-4d10-a635-17968648e481",
   "metadata": {},
   "outputs": [
    {
     "name": "stdout",
     "output_type": "stream",
     "text": [
      "Computing entropies ...\n",
      "N: 1\n",
      "0.10288619995117188\n",
      "N: 2\n",
      "0.1973721981048584\n",
      "N: 3\n",
      "0.30564236640930176\n",
      "N: 4\n",
      "0.4132218360900879\n",
      "\n",
      "\n",
      "0.4135854244232178\n"
     ]
    }
   ],
   "source": [
    "### --- main calculation --- ###\n",
    "t0 = time.time()\n",
    "\n",
    "# set a list of N's to cycle through\n",
    "N_list = [1, 2, 3, 4]\n",
    "\n",
    "strings_ents = []\n",
    "scaled_string_ents = []\n",
    "\n",
    "control_ents = []\n",
    "scaled_control_ents = []\n",
    "\n",
    "print('Computing entropies ...')\n",
    "for N in N_list:\n",
    "    print('N: {0}'.format(N))\n",
    "    \n",
    "    # compute ent of real strings\n",
    "    ent = calculate_entropy_of_sequences_of_length_N(symbol_series, N)\n",
    "    strings_ents.append(ent)\n",
    "    scaled_string_ents.append(ent/N)\n",
    "    \n",
    "    # compute ent of uniform controls\n",
    "    ent_uniform_N_state = np.log2(10**N) \n",
    "    control_ents.append(ent_uniform_N_state)\n",
    "    scaled_control_ents.append(ent_uniform_N_state/N)\n",
    "    \n",
    "    print(time.time() - t0)\n",
    "print()\n",
    "    \n",
    "    \n",
    "    \n",
    "# convert to arrays\n",
    "strings_ents = np.array(strings_ents)\n",
    "scaled_string_ents = np.array(scaled_string_ents)\n",
    "\n",
    "control_ents = np.array(control_ents)\n",
    "scaled_control_ents= np.array(scaled_control_ents)\n",
    "    \n",
    "\n",
    "print()\n",
    "print(time.time() - t0)"
   ]
  },
  {
   "cell_type": "code",
   "execution_count": null,
   "id": "1d74c4c5-f7b3-47d4-a02b-7bb9a348c626",
   "metadata": {},
   "outputs": [],
   "source": []
  },
  {
   "cell_type": "code",
   "execution_count": 66,
   "id": "896b14fe-5a88-4c06-a4db-a51800f3068e",
   "metadata": {},
   "outputs": [
    {
     "data": {
      "text/plain": [
       "array([2.73791997, 5.03743258, 7.25931874, 9.4229654 ])"
      ]
     },
     "execution_count": 66,
     "metadata": {},
     "output_type": "execute_result"
    }
   ],
   "source": [
    "strings_ents"
   ]
  },
  {
   "cell_type": "code",
   "execution_count": 67,
   "id": "9ca9a4be-d11c-44b8-a3bc-522a8bb47db3",
   "metadata": {},
   "outputs": [
    {
     "data": {
      "text/plain": [
       "array([2.73791997, 2.51871629, 2.41977291, 2.35574135])"
      ]
     },
     "execution_count": 67,
     "metadata": {},
     "output_type": "execute_result"
    }
   ],
   "source": [
    "scaled_string_ents"
   ]
  },
  {
   "cell_type": "code",
   "execution_count": null,
   "id": "91ae04fc-f819-41bd-ac6e-6b1e43f64451",
   "metadata": {},
   "outputs": [],
   "source": []
  },
  {
   "cell_type": "code",
   "execution_count": 68,
   "id": "97c59aac-5661-43d6-9965-9daf4ac836da",
   "metadata": {},
   "outputs": [
    {
     "data": {
      "text/plain": [
       "array([ 3.32192809,  6.64385619,  9.96578428, 13.28771238])"
      ]
     },
     "execution_count": 68,
     "metadata": {},
     "output_type": "execute_result"
    }
   ],
   "source": [
    "control_ents"
   ]
  },
  {
   "cell_type": "code",
   "execution_count": 69,
   "id": "748cda44-ec94-4e4d-b375-4b39fa35af40",
   "metadata": {},
   "outputs": [
    {
     "data": {
      "text/plain": [
       "array([3.32192809, 3.32192809, 3.32192809, 3.32192809])"
      ]
     },
     "execution_count": 69,
     "metadata": {},
     "output_type": "execute_result"
    }
   ],
   "source": [
    "scaled_control_ents"
   ]
  },
  {
   "cell_type": "code",
   "execution_count": null,
   "id": "6b88e5ce-6d83-4582-8646-445265a4dbc4",
   "metadata": {},
   "outputs": [],
   "source": []
  },
  {
   "cell_type": "code",
   "execution_count": null,
   "id": "27173fca-3f73-4513-9866-f3c1fb4bd4db",
   "metadata": {},
   "outputs": [],
   "source": []
  },
  {
   "cell_type": "code",
   "execution_count": 96,
   "id": "b9178171-898a-467f-9506-72de981fc029",
   "metadata": {},
   "outputs": [
    {
     "data": {
      "application/vnd.jupyter.widget-view+json": {
       "model_id": "d9c2238a6d9d4ee383e300cf05b98968",
       "version_major": 2,
       "version_minor": 0
      },
      "text/html": [
       "\n",
       "            <div style=\"display: inline-block;\">\n",
       "                <div class=\"jupyter-widgets widget-label\" style=\"text-align: center;\">\n",
       "                    Figure\n",
       "                </div>\n",
       "                <img src='data:image/png;base64,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' width=400.0/>\n",
       "            </div>\n",
       "        "
      ],
      "text/plain": [
       "Canvas(toolbar=Toolbar(toolitems=[('Home', 'Reset original view', 'home', 'home'), ('Back', 'Back to previous …"
      ]
     },
     "metadata": {},
     "output_type": "display_data"
    }
   ],
   "source": [
    "fig, axs = plt.subplots(figsize=(4,4))\n",
    "ax = axs\n",
    "\n",
    "ax.plot(N_list, scaled_string_ents, 'bo')\n",
    "\n",
    "ax.plot(N_list, scaled_control_ents, color='darkgray', marker='o')\n",
    "\n",
    "#ax.axhline(np.log2(10), label='entropy of uniform 10 state distribution')\n",
    "\n",
    "ax.set_title('')\n",
    "\n",
    "ax.set_xlim(N_list[0],N_list[-1])\n",
    "ax.set_xlabel('')\n",
    "\n",
    "ax.set_ylabel('')\n",
    "\n",
    "ax.set_xlim(0, 5)\n",
    "ax.set_ylim(2, 4)\n",
    "\n",
    "ax.set_xticks([1,2,3,4]);\n",
    "\n",
    "ax.set_yticks([2, scaled_string_ents[-1], scaled_string_ents[-2], scaled_string_ents[-3], scaled_string_ents[-4], scaled_control_ents[0]]);\n",
    "\n",
    "ax.set_xticklabels([]);\n",
    "ax.set_yticklabels([]);\n",
    "\n",
    "lw = 1\n",
    "ticklen = 4\n",
    "for axis in ['top','bottom','left','right']:\n",
    "    ax.spines[axis].set_linewidth(lw)\n",
    "ax.xaxis.set_tick_params(width=lw, length=ticklen)\n",
    "ax.yaxis.set_tick_params(width=lw, length=ticklen)\n",
    "\n",
    "#ax.legend(loc='upper right')\n",
    "ax.grid(axis='both', alpha=0.4)\n",
    "\n",
    "fig.savefig('/home/liam/temp/image_transfer/chap5_seq_ent.png', dpi=300, transparent=True)\n"
   ]
  },
  {
   "cell_type": "code",
   "execution_count": 82,
   "id": "ecc24f6e-2de7-4ef2-8c51-7d088581557f",
   "metadata": {},
   "outputs": [
    {
     "data": {
      "text/plain": [
       "(2,\n",
       " 2.355741351206028,\n",
       " 2.4197729129164482,\n",
       " 2.518716290913391,\n",
       " 2.73791996563851,\n",
       " 3.321928094887362)"
      ]
     },
     "execution_count": 82,
     "metadata": {},
     "output_type": "execute_result"
    }
   ],
   "source": [
    "2, scaled_string_ents[-1], scaled_string_ents[-2], scaled_string_ents[-3], scaled_string_ents[-4], scaled_control_ents[0]"
   ]
  },
  {
   "cell_type": "code",
   "execution_count": null,
   "id": "3e12fd66-3650-44fd-aaea-16867666c1ef",
   "metadata": {},
   "outputs": [],
   "source": []
  },
  {
   "cell_type": "code",
   "execution_count": null,
   "id": "9a43bdb9-714b-456b-b0fd-b34698bb9460",
   "metadata": {},
   "outputs": [],
   "source": []
  },
  {
   "cell_type": "code",
   "execution_count": null,
   "id": "17f3624e-87aa-4b03-bccd-7dc13d26a40e",
   "metadata": {},
   "outputs": [],
   "source": []
  },
  {
   "cell_type": "code",
   "execution_count": null,
   "id": "12e0a751-eaea-47cb-a2e0-0a3ad805ab08",
   "metadata": {},
   "outputs": [],
   "source": []
  },
  {
   "cell_type": "markdown",
   "id": "0dfff9c3-1594-477c-bca9-cf505eecf671",
   "metadata": {},
   "source": [
    "# --------------------------------------------------------------------------------"
   ]
  },
  {
   "cell_type": "code",
   "execution_count": null,
   "id": "f08ba08c-ce5d-47a4-a2fc-cd05190c48e2",
   "metadata": {},
   "outputs": [],
   "source": []
  },
  {
   "cell_type": "markdown",
   "id": "d551d651-2b4e-4635-af93-f95d144d288b",
   "metadata": {},
   "source": [
    "# Plotting the transition matrix"
   ]
  },
  {
   "cell_type": "code",
   "execution_count": 73,
   "id": "524de4f7-b0f3-44dd-958f-23dff5d1d31b",
   "metadata": {},
   "outputs": [
    {
     "data": {
      "text/plain": [
       "array([[0.        , 0.02256764, 0.28264828, 0.34371748, 0.19686524,\n",
       "        0.03752601, 0.10243236, 0.01385276, 0.00032518, 0.00006504],\n",
       "       [0.02863962, 0.        , 0.        , 0.        , 0.37947494,\n",
       "        0.        , 0.35799523, 0.        , 0.        , 0.23389021],\n",
       "       [0.42402935, 0.        , 0.        , 0.31893916, 0.11968817,\n",
       "        0.0800214 , 0.01528585, 0.        , 0.04203607, 0.        ],\n",
       "       [0.39926246, 0.00007092, 0.29288703, 0.        , 0.12431742,\n",
       "        0.09141196, 0.01049571, 0.08148358, 0.00007092, 0.        ],\n",
       "       [0.0513554 , 0.0089906 , 0.35853426, 0.28034328, 0.        ,\n",
       "        0.0179812 , 0.02492848, 0.13731099, 0.08868002, 0.03187577],\n",
       "       [0.65860086, 0.        , 0.13775755, 0.17225683, 0.00215621,\n",
       "        0.        , 0.00431241, 0.01054145, 0.01413512, 0.00023958],\n",
       "       [0.05859204, 0.05115872, 0.11149978, 0.11630958, 0.16921732,\n",
       "        0.03629209, 0.        , 0.19282903, 0.23655444, 0.027547  ],\n",
       "       [0.06494882, 0.        , 0.        , 0.63007413, 0.07659725,\n",
       "        0.14648782, 0.07059654, 0.        , 0.00141193, 0.00988352],\n",
       "       [0.01694139, 0.00045788, 0.67261905, 0.        , 0.05631868,\n",
       "        0.1547619 , 0.09249084, 0.00045788, 0.        , 0.00595238],\n",
       "       [0.        , 0.07246377, 0.        , 0.        , 0.17391304,\n",
       "        0.03985507, 0.04710145, 0.27536232, 0.39130435, 0.        ]])"
      ]
     },
     "execution_count": 73,
     "metadata": {},
     "output_type": "execute_result"
    }
   ],
   "source": [
    "transition_matrix "
   ]
  },
  {
   "cell_type": "code",
   "execution_count": null,
   "id": "78fe0e91-9e0d-4838-82a3-a9f87959e902",
   "metadata": {},
   "outputs": [],
   "source": []
  },
  {
   "cell_type": "code",
   "execution_count": null,
   "id": "1c04bb46-50ac-4f88-bf94-abfc18c6f324",
   "metadata": {},
   "outputs": [],
   "source": []
  },
  {
   "cell_type": "code",
   "execution_count": 74,
   "id": "8e50e352-b530-4e50-b634-c5cc488c0fa5",
   "metadata": {},
   "outputs": [
    {
     "data": {
      "text/plain": [
       "['circling',\n",
       " 'direct away',\n",
       " 'winner attack',\n",
       " 'loser attack',\n",
       " 'display',\n",
       " 'direct to',\n",
       " 'middle circling',\n",
       " 'L approach',\n",
       " 'W approach',\n",
       " 'parallel']"
      ]
     },
     "execution_count": 74,
     "metadata": {},
     "output_type": "execute_result"
    }
   ],
   "source": [
    "state_names"
   ]
  },
  {
   "cell_type": "code",
   "execution_count": 75,
   "id": "9d51a8dc-77a1-492c-9117-83ed520fc6dc",
   "metadata": {},
   "outputs": [
    {
     "data": {
      "application/vnd.jupyter.widget-view+json": {
       "model_id": "b03c26900a52430f8e8d3e465597bbb4",
       "version_major": 2,
       "version_minor": 0
      },
      "text/html": [
       "\n",
       "            <div style=\"display: inline-block;\">\n",
       "                <div class=\"jupyter-widgets widget-label\" style=\"text-align: center;\">\n",
       "                    Figure\n",
       "                </div>\n",
       "                <img src='data:image/png;base64,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' width=640.0/>\n",
       "            </div>\n",
       "        "
      ],
      "text/plain": [
       "Canvas(toolbar=Toolbar(toolitems=[('Home', 'Reset original view', 'home', 'home'), ('Back', 'Back to previous …"
      ]
     },
     "metadata": {},
     "output_type": "display_data"
    }
   ],
   "source": [
    "fig, axs = plt.subplots()\n",
    "\n",
    "mat_im = axs.imshow(transition_matrix, cmap='Blues' )\n",
    "fig.colorbar(mat_im, ax=axs)\n",
    "\n",
    "axs.set_xticks([i for i in range(numLabelledStates)])\n",
    "axs.set_xticklabels([])\n",
    "axs.xaxis.tick_top()\n",
    "\n",
    "axs.set_yticks([i for i in range(numLabelledStates)])\n",
    "axs.set_yticklabels([])\n",
    "\n",
    "\n",
    "fig.tight_layout()\n",
    "\n",
    "#plt.savefig('/home/liam/Dropbox/transfer/transmat.pdf', dpi=300, transparent=True, bbox_inches='tight', pad_inches=0)\n"
   ]
  },
  {
   "cell_type": "code",
   "execution_count": null,
   "id": "ba61a951-9f76-4f62-8aed-b56d3cc6c1c3",
   "metadata": {},
   "outputs": [],
   "source": []
  },
  {
   "cell_type": "code",
   "execution_count": 76,
   "id": "7fdfc0a9-1045-4b2b-8210-1303124fcf27",
   "metadata": {},
   "outputs": [
    {
     "name": "stderr",
     "output_type": "stream",
     "text": [
      "No handles with labels found to put in legend.\n"
     ]
    },
    {
     "data": {
      "application/vnd.jupyter.widget-view+json": {
       "model_id": "9237ec11324744adacd2605fd5618a21",
       "version_major": 2,
       "version_minor": 0
      },
      "text/html": [
       "\n",
       "            <div style=\"display: inline-block;\">\n",
       "                <div class=\"jupyter-widgets widget-label\" style=\"text-align: center;\">\n",
       "                    Figure\n",
       "                </div>\n",
       "                <img src='data:image/png;base64,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' width=640.0/>\n",
       "            </div>\n",
       "        "
      ],
      "text/plain": [
       "Canvas(toolbar=Toolbar(toolitems=[('Home', 'Reset original view', 'home', 'home'), ('Back', 'Back to previous …"
      ]
     },
     "metadata": {},
     "output_type": "display_data"
    }
   ],
   "source": [
    "fig, axs = plt.subplots()\n",
    "ax = axs\n",
    "mat_im = ax.imshow(transition_matrix, cmap='Blues' )\n",
    "fig.colorbar(mat_im, ax=ax, ticks=[0, np.max(transition_matrix)])\n",
    "\n",
    "ax.set_xticks([i for i in range(numLabelledStates)])\n",
    "ax.set_xticklabels([])\n",
    "ax.xaxis.tick_top()\n",
    "\n",
    "ax.set_yticks([i for i in range(numLabelledStates)])\n",
    "ax.set_yticklabels([])\n",
    "\n",
    "\n",
    "# ------------------------------------#\n",
    "\n",
    "ax.set_xticklabels([])\n",
    "ax.set_yticklabels([])\n",
    "ax.set_xlabel('')\n",
    "ax.set_ylabel('')\n",
    "ax.legend(fontsize=10, frameon=False, markerscale=10, labelspacing=2, bbox_to_anchor=(0.6,0.9))\n",
    "for axis in ['top','bottom','left','right']:\n",
    "    ax.spines[axis].set_linewidth(2)\n",
    "ax.xaxis.set_tick_params(width=2, length=4)\n",
    "ax.yaxis.set_tick_params(width=2, length=4)\n",
    "\n",
    "fig.tight_layout()\n",
    "#fig.savefig('/mnt/e/OneDrive/illustrator_projects/paper_figures/figure5/fig5_transmat.png', dpi=300, transparent=True)\n",
    "\n",
    "fig.tight_layout()"
   ]
  },
  {
   "cell_type": "code",
   "execution_count": 125,
   "id": "01ae9a63-07a7-43b6-b7d7-1b0f31e39a8b",
   "metadata": {},
   "outputs": [
    {
     "name": "stderr",
     "output_type": "stream",
     "text": [
      "No handles with labels found to put in legend.\n"
     ]
    },
    {
     "data": {
      "application/vnd.jupyter.widget-view+json": {
       "model_id": "5d60f662a76e450f9d2049c72cc6378c",
       "version_major": 2,
       "version_minor": 0
      },
      "text/html": [
       "\n",
       "            <div style=\"display: inline-block;\">\n",
       "                <div class=\"jupyter-widgets widget-label\" style=\"text-align: center;\">\n",
       "                    Figure\n",
       "                </div>\n",
       "                <img src='data:image/png;base64,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' width=400.0/>\n",
       "            </div>\n",
       "        "
      ],
      "text/plain": [
       "Canvas(toolbar=Toolbar(toolitems=[('Home', 'Reset original view', 'home', 'home'), ('Back', 'Back to previous …"
      ]
     },
     "metadata": {},
     "output_type": "display_data"
    }
   ],
   "source": [
    "fig, axs = plt.subplots(figsize=(4,4))\n",
    "ax = axs\n",
    "mat_im = ax.imshow(transition_matrix, cmap='Blues' )\n",
    "cbar = fig.colorbar(mat_im, ax=ax)\n",
    "cbar.set_ticks([])\n",
    "\n",
    "ax.set_xticks([i for i in range(numLabelledStates)])\n",
    "ax.set_xticklabels([])\n",
    "ax.xaxis.tick_top()\n",
    "\n",
    "ax.set_yticks([i for i in range(numLabelledStates)])\n",
    "ax.set_yticklabels([])\n",
    "\n",
    "\n",
    "# ------------------------------------#\n",
    "\n",
    "ax.set_xticklabels([])\n",
    "ax.set_yticklabels([])\n",
    "ax.set_xlabel('')\n",
    "ax.set_ylabel('')\n",
    "ax.legend(fontsize=10, frameon=False, markerscale=10, labelspacing=2, bbox_to_anchor=(0.6,0.9))\n",
    "for axis in ['top','bottom','left','right']:\n",
    "    ax.spines[axis].set_linewidth(2)\n",
    "ax.xaxis.set_tick_params(width=2, length=4)\n",
    "ax.yaxis.set_tick_params(width=2, length=4)\n",
    "\n",
    "fig.tight_layout()\n",
    "#fig.savefig('/mnt/e/OneDrive/illustrator_projects/paper_figures/figure5/fig5_transmat.png', dpi=300, transparent=True)\n",
    "fig.savefig('/home/liam/temp/image_transfer/chap5_maneuver_tmat.png', dpi=300, transparent=True)\n",
    "\n",
    "fig.tight_layout()"
   ]
  },
  {
   "cell_type": "code",
   "execution_count": 67,
   "id": "4c67d70d-4053-4022-82a4-fd11b29b361e",
   "metadata": {},
   "outputs": [
    {
     "data": {
      "text/plain": [
       "['circling',\n",
       " 'direct away',\n",
       " 'winner attack',\n",
       " 'loser attack',\n",
       " 'display',\n",
       " 'direct approach (close)',\n",
       " 'middle circling',\n",
       " 'loser approach',\n",
       " 'winner approach',\n",
       " 'parallel']"
      ]
     },
     "execution_count": 67,
     "metadata": {},
     "output_type": "execute_result"
    }
   ],
   "source": [
    "state_names"
   ]
  },
  {
   "cell_type": "code",
   "execution_count": null,
   "id": "e503fc18-c408-47cb-817e-bbdd090db0b4",
   "metadata": {},
   "outputs": [],
   "source": []
  },
  {
   "cell_type": "code",
   "execution_count": null,
   "id": "b694bf5e-6340-4f72-b80f-50b52d1b967e",
   "metadata": {},
   "outputs": [],
   "source": []
  },
  {
   "cell_type": "markdown",
   "id": "20bc2a54-3272-41fb-87c4-abeb29fc54e5",
   "metadata": {},
   "source": [
    "# ---------------------------------------------"
   ]
  },
  {
   "cell_type": "code",
   "execution_count": null,
   "id": "294ee5dc-83ed-4e5f-a487-b93dc8e8ddb4",
   "metadata": {},
   "outputs": [],
   "source": []
  },
  {
   "cell_type": "markdown",
   "id": "93736840-15d6-4147-8853-999620c45474",
   "metadata": {},
   "source": [
    "# Examining the most common strings"
   ]
  },
  {
   "cell_type": "code",
   "execution_count": null,
   "id": "9a690ddc-13c3-46bf-9db4-4f6863e68564",
   "metadata": {},
   "outputs": [],
   "source": []
  },
  {
   "cell_type": "code",
   "execution_count": 89,
   "id": "8c5c3785-a91b-49c0-b2c2-f2d98760f813",
   "metadata": {},
   "outputs": [
    {
     "data": {
      "text/plain": [
       "{0: 16741,\n",
       " 1: 628,\n",
       " 2: 16374,\n",
       " 3: 17424,\n",
       " 4: 7729,\n",
       " 5: 4672,\n",
       " 6: 2813,\n",
       " 7: 3452,\n",
       " 8: 2500,\n",
       " 9: 669}"
      ]
     },
     "execution_count": 89,
     "metadata": {},
     "output_type": "execute_result"
    }
   ],
   "source": [
    "vals, counts = np.unique(symbol_series, return_counts=True)\n",
    "dict(zip(vals,counts))"
   ]
  },
  {
   "cell_type": "code",
   "execution_count": null,
   "id": "4dc99610-f9ee-4ab8-95c0-a5f7be658e65",
   "metadata": {},
   "outputs": [],
   "source": []
  },
  {
   "cell_type": "code",
   "execution_count": 109,
   "id": "e349cde7-0e15-4455-b9c0-3aa4c28ce36c",
   "metadata": {},
   "outputs": [
    {
     "data": {
      "text/plain": [
       "72998"
      ]
     },
     "execution_count": 109,
     "metadata": {},
     "output_type": "execute_result"
    }
   ],
   "source": [
    "N=4\n",
    "seq_series = divide_symbol_series_into_sequences_of_length_N(symbol_series, 4)\n",
    "len(seq_series)"
   ]
  },
  {
   "cell_type": "code",
   "execution_count": null,
   "id": "a5a393a5-edcd-4fc3-a18c-ebe61d991ea7",
   "metadata": {},
   "outputs": [],
   "source": []
  },
  {
   "cell_type": "code",
   "execution_count": 110,
   "id": "5c26cfff-19f2-49c8-a88e-0febb791bc1f",
   "metadata": {},
   "outputs": [
    {
     "data": {
      "text/plain": [
       "['circling',\n",
       " 'direct away',\n",
       " 'winner attack',\n",
       " 'loser attack',\n",
       " 'display',\n",
       " 'direct to',\n",
       " 'middle circling',\n",
       " 'L approach',\n",
       " 'W approach',\n",
       " 'parallel']"
      ]
     },
     "execution_count": 110,
     "metadata": {},
     "output_type": "execute_result"
    }
   ],
   "source": [
    "state_names"
   ]
  },
  {
   "cell_type": "code",
   "execution_count": null,
   "id": "dd2ddd56-b7f7-4f25-8de2-6aafb0b87ab9",
   "metadata": {},
   "outputs": [],
   "source": []
  },
  {
   "cell_type": "code",
   "execution_count": null,
   "id": "6926df84-aa75-44e9-b0c2-d9963d5d1f93",
   "metadata": {},
   "outputs": [],
   "source": []
  },
  {
   "cell_type": "code",
   "execution_count": 113,
   "id": "6b21862e-b313-4729-8183-94dfe559dfc1",
   "metadata": {},
   "outputs": [
    {
     "data": {
      "text/plain": [
       "[((3, 0, 3, 0), 754),\n",
       " ((2, 0, 3, 0), 745),\n",
       " ((0, 3, 0, 3), 690),\n",
       " ((3, 0, 2, 0), 680),\n",
       " ((3, 2, 3, 0), 674),\n",
       " ((3, 2, 0, 3), 667),\n",
       " ((3, 0, 3, 2), 667),\n",
       " ((0, 3, 2, 0), 634),\n",
       " ((0, 3, 0, 2), 621),\n",
       " ((3, 0, 2, 3), 605),\n",
       " ((0, 3, 2, 3), 604),\n",
       " ((2, 3, 2, 0), 601),\n",
       " ((0, 2, 0, 3), 589),\n",
       " ((2, 3, 0, 3), 589),\n",
       " ((2, 0, 3, 2), 581),\n",
       " ((2, 0, 2, 0), 577),\n",
       " ((2, 3, 2, 3), 575),\n",
       " ((3, 2, 3, 2), 560),\n",
       " ((3, 0, 4, 2), 553),\n",
       " ((2, 3, 0, 2), 542)]"
      ]
     },
     "execution_count": 113,
     "metadata": {},
     "output_type": "execute_result"
    }
   ],
   "source": [
    "# show the 10 most common 4 sequence strings\n",
    "aa = Counter(seq_series)\n",
    "cc = aa.most_common()[:20]\n",
    "cc"
   ]
  },
  {
   "cell_type": "code",
   "execution_count": null,
   "id": "c7a3dd75-2135-4adb-a3b1-f58afffb1a8f",
   "metadata": {},
   "outputs": [],
   "source": []
  },
  {
   "cell_type": "code",
   "execution_count": 114,
   "id": "b0da87c6-7852-45d2-afff-3eed646031af",
   "metadata": {},
   "outputs": [
    {
     "name": "stdout",
     "output_type": "stream",
     "text": [
      "ranking = 0\n",
      "['loser attack', 'circling', 'loser attack', 'circling']\n",
      "\n",
      "ranking = 1\n",
      "['winner attack', 'circling', 'loser attack', 'circling']\n",
      "\n",
      "ranking = 2\n",
      "['circling', 'loser attack', 'circling', 'loser attack']\n",
      "\n",
      "ranking = 3\n",
      "['loser attack', 'circling', 'winner attack', 'circling']\n",
      "\n",
      "ranking = 4\n",
      "['loser attack', 'winner attack', 'loser attack', 'circling']\n",
      "\n",
      "ranking = 5\n",
      "['loser attack', 'winner attack', 'circling', 'loser attack']\n",
      "\n",
      "ranking = 6\n",
      "['loser attack', 'circling', 'loser attack', 'winner attack']\n",
      "\n",
      "ranking = 7\n",
      "['circling', 'loser attack', 'winner attack', 'circling']\n",
      "\n",
      "ranking = 8\n",
      "['circling', 'loser attack', 'circling', 'winner attack']\n",
      "\n",
      "ranking = 9\n",
      "['loser attack', 'circling', 'winner attack', 'loser attack']\n",
      "\n",
      "ranking = 10\n",
      "['circling', 'loser attack', 'winner attack', 'loser attack']\n",
      "\n",
      "ranking = 11\n",
      "['winner attack', 'loser attack', 'winner attack', 'circling']\n",
      "\n",
      "ranking = 12\n",
      "['circling', 'winner attack', 'circling', 'loser attack']\n",
      "\n",
      "ranking = 13\n",
      "['winner attack', 'loser attack', 'circling', 'loser attack']\n",
      "\n",
      "ranking = 14\n",
      "['winner attack', 'circling', 'loser attack', 'winner attack']\n",
      "\n",
      "ranking = 15\n",
      "['winner attack', 'circling', 'winner attack', 'circling']\n",
      "\n",
      "ranking = 16\n",
      "['winner attack', 'loser attack', 'winner attack', 'loser attack']\n",
      "\n",
      "ranking = 17\n",
      "['loser attack', 'winner attack', 'loser attack', 'winner attack']\n",
      "\n",
      "ranking = 18\n",
      "['loser attack', 'circling', 'display', 'winner attack']\n",
      "\n",
      "ranking = 19\n",
      "['winner attack', 'loser attack', 'circling', 'winner attack']\n",
      "\n"
     ]
    }
   ],
   "source": [
    "for i, (seq_tup, cts) in enumerate(cc):\n",
    "    #print(seq_tup, cts)\n",
    "    print(f'ranking = {i}')\n",
    "    \n",
    "    seq_state_names = [state_names[idx] for idx in seq_tup]\n",
    "    print(seq_state_names)\n",
    "    print()"
   ]
  },
  {
   "cell_type": "code",
   "execution_count": null,
   "id": "d1b2d171-32cf-4595-a54c-5cf42743d441",
   "metadata": {},
   "outputs": [],
   "source": []
  },
  {
   "cell_type": "code",
   "execution_count": null,
   "id": "32c5c950-2385-4dd1-b21f-c3303902ce04",
   "metadata": {},
   "outputs": [],
   "source": []
  },
  {
   "cell_type": "code",
   "execution_count": null,
   "id": "3a056b69-7a09-4e01-b989-cecad448648d",
   "metadata": {},
   "outputs": [],
   "source": []
  },
  {
   "cell_type": "code",
   "execution_count": null,
   "id": "49e330bb-36cf-4b5e-a87a-dc21f298183c",
   "metadata": {},
   "outputs": [],
   "source": []
  },
  {
   "cell_type": "code",
   "execution_count": null,
   "id": "ee8e7681-4edd-4161-a9f7-e18760f7aeff",
   "metadata": {},
   "outputs": [],
   "source": []
  },
  {
   "cell_type": "code",
   "execution_count": null,
   "id": "997b4415-1ead-48f8-b1e0-75084a49fdf8",
   "metadata": {},
   "outputs": [],
   "source": []
  },
  {
   "cell_type": "code",
   "execution_count": null,
   "id": "5603eaf5-73e9-4c25-aa30-ee0e1c28ee5e",
   "metadata": {},
   "outputs": [],
   "source": []
  },
  {
   "cell_type": "code",
   "execution_count": null,
   "id": "65475a5f-0571-437f-a605-218cf36530aa",
   "metadata": {},
   "outputs": [],
   "source": []
  }
 ],
 "metadata": {
  "kernelspec": {
   "display_name": "analysis",
   "language": "python",
   "name": "analysis"
  },
  "language_info": {
   "codemirror_mode": {
    "name": "ipython",
    "version": 3
   },
   "file_extension": ".py",
   "mimetype": "text/x-python",
   "name": "python",
   "nbconvert_exporter": "python",
   "pygments_lexer": "ipython3",
   "version": "3.9.7"
  }
 },
 "nbformat": 4,
 "nbformat_minor": 5
}
